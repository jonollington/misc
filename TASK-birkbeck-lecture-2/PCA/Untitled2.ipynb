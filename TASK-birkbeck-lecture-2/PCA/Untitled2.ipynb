{
 "cells": [
  {
   "cell_type": "code",
   "execution_count": 1,
   "metadata": {},
   "outputs": [],
   "source": [
    "import pandas as pd\n",
    "class DataCleaner(object):\n",
    "    def __init__(self, names:list, data:pd.DataFrame):\n",
    "        self.names = names\n",
    "        self.data = names\n",
    "        self.data_dict = dict(zip(self.names, self.data))"
   ]
  },
  {
   "cell_type": "code",
   "execution_count": 2,
   "metadata": {},
   "outputs": [
    {
     "ename": "NameError",
     "evalue": "name 'np' is not defined",
     "output_type": "error",
     "traceback": [
      "\u001b[0;31m---------------------------------------------------------------------------\u001b[0m",
      "\u001b[0;31mNameError\u001b[0m                                 Traceback (most recent call last)",
      "\u001b[0;32m<ipython-input-2-e0e9080f6106>\u001b[0m in \u001b[0;36m<module>\u001b[0;34m\u001b[0m\n\u001b[0;32m----> 1\u001b[0;31m \u001b[0mdf1_\u001b[0m \u001b[0;34m=\u001b[0m \u001b[0mpd\u001b[0m\u001b[0;34m.\u001b[0m\u001b[0mDataFrame\u001b[0m\u001b[0;34m(\u001b[0m\u001b[0mnp\u001b[0m\u001b[0;34m.\u001b[0m\u001b[0marray\u001b[0m\u001b[0;34m(\u001b[0m\u001b[0;34m[\u001b[0m\u001b[0;36m0\u001b[0m\u001b[0;34m,\u001b[0m\u001b[0;36m3\u001b[0m\u001b[0;34m,\u001b[0m\u001b[0;36m1\u001b[0m\u001b[0;34m]\u001b[0m\u001b[0;34m)\u001b[0m\u001b[0;34m)\u001b[0m\u001b[0;34m\u001b[0m\u001b[0;34m\u001b[0m\u001b[0m\n\u001b[0m\u001b[1;32m      2\u001b[0m \u001b[0mdf2_\u001b[0m \u001b[0;34m=\u001b[0m \u001b[0mpd\u001b[0m\u001b[0;34m.\u001b[0m\u001b[0mDataFrame\u001b[0m\u001b[0;34m(\u001b[0m\u001b[0mnp\u001b[0m\u001b[0;34m.\u001b[0m\u001b[0marray\u001b[0m\u001b[0;34m(\u001b[0m\u001b[0;34m[\u001b[0m\u001b[0;36m0\u001b[0m\u001b[0;34m,\u001b[0m\u001b[0;36m3\u001b[0m\u001b[0;34m,\u001b[0m\u001b[0;36m1\u001b[0m\u001b[0;34m]\u001b[0m\u001b[0;34m)\u001b[0m\u001b[0;34m)\u001b[0m\u001b[0;34m\u001b[0m\u001b[0;34m\u001b[0m\u001b[0m\n\u001b[1;32m      3\u001b[0m \u001b[0mdf3_\u001b[0m \u001b[0;34m=\u001b[0m \u001b[0mpd\u001b[0m\u001b[0;34m.\u001b[0m\u001b[0mDataFrame\u001b[0m\u001b[0;34m(\u001b[0m\u001b[0mnp\u001b[0m\u001b[0;34m.\u001b[0m\u001b[0marray\u001b[0m\u001b[0;34m(\u001b[0m\u001b[0;34m[\u001b[0m\u001b[0;36m0\u001b[0m\u001b[0;34m,\u001b[0m\u001b[0;36m3\u001b[0m\u001b[0;34m,\u001b[0m\u001b[0;36m1\u001b[0m\u001b[0;34m]\u001b[0m\u001b[0;34m)\u001b[0m\u001b[0;34m)\u001b[0m\u001b[0;34m\u001b[0m\u001b[0;34m\u001b[0m\u001b[0m\n\u001b[1;32m      4\u001b[0m \u001b[0mdataframe_names\u001b[0m \u001b[0;34m=\u001b[0m \u001b[0;34m[\u001b[0m\u001b[0;34m'Player_Stats'\u001b[0m\u001b[0;34m,\u001b[0m \u001b[0;34m'Soccer_Stats'\u001b[0m\u001b[0;34m,\u001b[0m \u001b[0;34m'Player_Movements'\u001b[0m\u001b[0;34m]\u001b[0m\u001b[0;34m\u001b[0m\u001b[0;34m\u001b[0m\u001b[0m\n",
      "\u001b[0;31mNameError\u001b[0m: name 'np' is not defined"
     ]
    }
   ],
   "source": [
    "df1_ = pd.DataFrame(np.array([0,3,1]))\n",
    "df2_ = pd.DataFrame(np.array([0,3,1]))\n",
    "df3_ = pd.DataFrame(np.array([0,3,1]))\n",
    "dataframe_names = ['Player_Stats', 'Soccer_Stats', 'Player_Movements']"
   ]
  },
  {
   "cell_type": "code",
   "execution_count": 3,
   "metadata": {},
   "outputs": [
    {
     "ename": "NameError",
     "evalue": "name 'dataframe_names' is not defined",
     "output_type": "error",
     "traceback": [
      "\u001b[0;31m---------------------------------------------------------------------------\u001b[0m",
      "\u001b[0;31mNameError\u001b[0m                                 Traceback (most recent call last)",
      "\u001b[0;32m<ipython-input-3-cbcb13818ce1>\u001b[0m in \u001b[0;36m<module>\u001b[0;34m\u001b[0m\n\u001b[0;32m----> 1\u001b[0;31m \u001b[0mdata_wrapper\u001b[0m \u001b[0;34m=\u001b[0m \u001b[0mDataCleaner\u001b[0m\u001b[0;34m(\u001b[0m\u001b[0mdataframe_names\u001b[0m\u001b[0;34m,\u001b[0m \u001b[0;34m[\u001b[0m\u001b[0mdf1_\u001b[0m\u001b[0;34m,\u001b[0m \u001b[0mdf2_\u001b[0m\u001b[0;34m,\u001b[0m \u001b[0mdf3_\u001b[0m\u001b[0;34m]\u001b[0m\u001b[0;34m)\u001b[0m\u001b[0;34m\u001b[0m\u001b[0;34m\u001b[0m\u001b[0m\n\u001b[0m",
      "\u001b[0;31mNameError\u001b[0m: name 'dataframe_names' is not defined"
     ]
    }
   ],
   "source": [
    "data_wrapper = DataCleaner(dataframe_names, [df1_, df2_, df3_])"
   ]
  },
  {
   "cell_type": "code",
   "execution_count": 4,
   "metadata": {},
   "outputs": [
    {
     "ename": "NameError",
     "evalue": "name 'data_wrapper' is not defined",
     "output_type": "error",
     "traceback": [
      "\u001b[0;31m---------------------------------------------------------------------------\u001b[0m",
      "\u001b[0;31mNameError\u001b[0m                                 Traceback (most recent call last)",
      "\u001b[0;32m<ipython-input-4-36fb5145383b>\u001b[0m in \u001b[0;36m<module>\u001b[0;34m\u001b[0m\n\u001b[0;32m----> 1\u001b[0;31m \u001b[0mdata_wrapper\u001b[0m\u001b[0;34m.\u001b[0m\u001b[0mdata_dict\u001b[0m\u001b[0;34m\u001b[0m\u001b[0;34m\u001b[0m\u001b[0m\n\u001b[0m",
      "\u001b[0;31mNameError\u001b[0m: name 'data_wrapper' is not defined"
     ]
    }
   ],
   "source": [
    "data_wrapper.data_dict"
   ]
  },
  {
   "cell_type": "code",
   "execution_count": 5,
   "metadata": {},
   "outputs": [
    {
     "ename": "SyntaxError",
     "evalue": "invalid syntax (<ipython-input-5-5b69ffce8efc>, line 2)",
     "output_type": "error",
     "traceback": [
      "\u001b[0;36m  File \u001b[0;32m\"<ipython-input-5-5b69ffce8efc>\"\u001b[0;36m, line \u001b[0;32m2\u001b[0m\n\u001b[0;31m    0  0\u001b[0m\n\u001b[0m    ^\u001b[0m\n\u001b[0;31mSyntaxError\u001b[0m\u001b[0;31m:\u001b[0m invalid syntax\n"
     ]
    }
   ],
   "source": [
    "{'Player_Stats':    0\n",
    " 0  0\n",
    " 1  3\n",
    " 2  1,\n",
    " 'Soccer_Stats':    0\n",
    " 0  0\n",
    " 1  3\n",
    " 2  1,\n",
    " 'Player_Movements':    0\n",
    " 0  0\n",
    " 1  3\n",
    " 2  1}"
   ]
  },
  {
   "cell_type": "code",
   "execution_count": 6,
   "metadata": {},
   "outputs": [],
   "source": [
    "import pandas as pd\n",
    "import numpy as np\n",
    "class DataCleaner(object):\n",
    "    def __init__(self, names:list, data:list):\n",
    "        self.names = names\n",
    "        self.data = data\n",
    "        self.data_dict = dict(zip(self.names, self.data))\n",
    "    def wrapper(self, subset_type):\n",
    "        if subset_type == 'Player_Stats':\n",
    "            def subset_one(self):\n",
    "                print('Awesome')\n",
    "            return subset_one\n",
    "        else:\n",
    "            pass"
   ]
  },
  {
   "cell_type": "code",
   "execution_count": 7,
   "metadata": {},
   "outputs": [],
   "source": [
    "import pandas as pd\n",
    "import numpy as np\n",
    "class DataCleaner(object):\n",
    "    def __init__(self, names:list, data:list):\n",
    "        self.names = names\n",
    "        self.data = data\n",
    "        self.data_dict = dict(zip(self.names, self.data))\n",
    "    def wrapper(self, subset_type):\n",
    "        if subset_type == 'Player_Stats':\n",
    "            def subset_one(self):\n",
    "                print('Awesome')\n",
    "            return subset_one\n",
    "        else:\n",
    "            pass\n",
    "    # Execution Functions\n",
    "    def execute_subsets(self):\n",
    "        for key, value in self.data_dict.items():\n",
    "            print(key, value)"
   ]
  },
  {
   "cell_type": "code",
   "execution_count": 8,
   "metadata": {},
   "outputs": [
    {
     "ename": "SyntaxError",
     "evalue": "invalid syntax (<ipython-input-8-364478f7ba04>, line 1)",
     "output_type": "error",
     "traceback": [
      "\u001b[0;36m  File \u001b[0;32m\"<ipython-input-8-364478f7ba04>\"\u001b[0;36m, line \u001b[0;32m1\u001b[0m\n\u001b[0;31m    Player_Stats    0\u001b[0m\n\u001b[0m                    ^\u001b[0m\n\u001b[0;31mSyntaxError\u001b[0m\u001b[0;31m:\u001b[0m invalid syntax\n"
     ]
    }
   ],
   "source": [
    "Player_Stats    0\n",
    "0  0\n",
    "1  3\n",
    "2  1\n",
    "Soccer_Stats    0\n",
    "0  0\n",
    "1  3\n",
    "2  1\n",
    "Player_Movements    0\n",
    "0  0\n",
    "1  3\n",
    "2  1"
   ]
  },
  {
   "cell_type": "code",
   "execution_count": 9,
   "metadata": {},
   "outputs": [
    {
     "ename": "IndentationError",
     "evalue": "unexpected indent (<ipython-input-9-9b7dedb102d9>, line 2)",
     "output_type": "error",
     "traceback": [
      "\u001b[0;36m  File \u001b[0;32m\"<ipython-input-9-9b7dedb102d9>\"\u001b[0;36m, line \u001b[0;32m2\u001b[0m\n\u001b[0;31m    def execute_subsets(self):\u001b[0m\n\u001b[0m    ^\u001b[0m\n\u001b[0;31mIndentationError\u001b[0m\u001b[0;31m:\u001b[0m unexpected indent\n"
     ]
    }
   ],
   "source": [
    " # Execution Functions\n",
    "    def execute_subsets(self):\n",
    "        for key, value in self.data_dict.items():\n",
    "            self.wrapper(subset_type=key)"
   ]
  },
  {
   "cell_type": "code",
   "execution_count": 10,
   "metadata": {},
   "outputs": [
    {
     "ename": "NameError",
     "evalue": "name 'data_wrapper' is not defined",
     "output_type": "error",
     "traceback": [
      "\u001b[0;31m---------------------------------------------------------------------------\u001b[0m",
      "\u001b[0;31mNameError\u001b[0m                                 Traceback (most recent call last)",
      "\u001b[0;32m<ipython-input-10-c34920b961b1>\u001b[0m in \u001b[0;36m<module>\u001b[0;34m\u001b[0m\n\u001b[0;32m----> 1\u001b[0;31m \u001b[0mdata_wrapper\u001b[0m\u001b[0;34m.\u001b[0m\u001b[0mexecute_subsets\u001b[0m\u001b[0;34m(\u001b[0m\u001b[0;34m)\u001b[0m\u001b[0;34m\u001b[0m\u001b[0;34m\u001b[0m\u001b[0m\n\u001b[0m",
      "\u001b[0;31mNameError\u001b[0m: name 'data_wrapper' is not defined"
     ]
    }
   ],
   "source": [
    "data_wrapper.execute_subsets()"
   ]
  },
  {
   "cell_type": "code",
   "execution_count": 11,
   "metadata": {},
   "outputs": [],
   "source": [
    "def wrapper(self, subset_type):\n",
    "        if subset_type == 'Player_Stats':\n",
    "            def subset_one(self):\n",
    "                print('Awesome')\n",
    "            return subset_one\n",
    "        else:\n",
    "            pass"
   ]
  },
  {
   "cell_type": "code",
   "execution_count": 12,
   "metadata": {},
   "outputs": [],
   "source": [
    "def wrapper(self, subset_type):\n",
    "        if subset_type == 'Player_Stats':\n",
    "            def subset_one(self):\n",
    "                print('Awesome')\n",
    "            return subset_one(self)\n",
    "        else:\n",
    "            pass"
   ]
  },
  {
   "cell_type": "code",
   "execution_count": 13,
   "metadata": {},
   "outputs": [
    {
     "ename": "NameError",
     "evalue": "name 'data_wrapper' is not defined",
     "output_type": "error",
     "traceback": [
      "\u001b[0;31m---------------------------------------------------------------------------\u001b[0m",
      "\u001b[0;31mNameError\u001b[0m                                 Traceback (most recent call last)",
      "\u001b[0;32m<ipython-input-13-389b72a7a2db>\u001b[0m in \u001b[0;36m<module>\u001b[0;34m\u001b[0m\n\u001b[0;32m----> 1\u001b[0;31m \u001b[0mdata_wrapper\u001b[0m\u001b[0;34m.\u001b[0m\u001b[0mexecute_subsets\u001b[0m\u001b[0;34m(\u001b[0m\u001b[0;34m)\u001b[0m\u001b[0;34m\u001b[0m\u001b[0;34m\u001b[0m\u001b[0m\n\u001b[0m\u001b[1;32m      2\u001b[0m \u001b[0;34m\u001b[0m\u001b[0m\n\u001b[1;32m      3\u001b[0m \u001b[0mAwesome\u001b[0m\u001b[0;34m\u001b[0m\u001b[0;34m\u001b[0m\u001b[0m\n",
      "\u001b[0;31mNameError\u001b[0m: name 'data_wrapper' is not defined"
     ]
    }
   ],
   "source": [
    "data_wrapper.execute_subsets()\n",
    "\n",
    "Awesome"
   ]
  },
  {
   "cell_type": "code",
   "execution_count": 14,
   "metadata": {},
   "outputs": [],
   "source": [
    "import pandas as pd\n",
    "import numpy as np\n",
    "class DataCleaner(object):\n",
    "    def __init__(self, names:list, data:list):\n",
    "        self.names = names\n",
    "        self.data = data\n",
    "        self.data_dict = dict(zip(self.names, self.data))\n",
    "    def wrapper(self, subset_type):\n",
    "        if subset_type == 'Player_Stats':\n",
    "            def subset_one(self):\n",
    "                print('Awesome')\n",
    "            return subset_one(self)\n",
    "        elif subset_type == 'Soccer_Stats':\n",
    "            print('Learning code')\n",
    "        elif subset_type == 'Player_Movements':\n",
    "            print('Becoming a god at coding')\n",
    "        else:\n",
    "            print('There is an error here')\n",
    "    # Execution Functions\n",
    "    def execute_subsets(self):\n",
    "        for key, value in self.data_dict.items():\n",
    "            self.wrapper(subset_type=key)"
   ]
  },
  {
   "cell_type": "code",
   "execution_count": 15,
   "metadata": {},
   "outputs": [],
   "source": [
    "df1_ = pd.DataFrame(np.array([0,3,1]))\n",
    "df2_ = pd.DataFrame(np.array([0,3,1]))\n",
    "df3_ = pd.DataFrame(np.array([0,3,1]))\n",
    "dataframe_names = ['Player_Stats', 'Soccer_Stats', 'Player_Movements']"
   ]
  },
  {
   "cell_type": "code",
   "execution_count": 16,
   "metadata": {},
   "outputs": [],
   "source": [
    "data_wrapper = DataCleaner(dataframe_names, [df1_, df2_, df3_])"
   ]
  },
  {
   "cell_type": "code",
   "execution_count": 17,
   "metadata": {},
   "outputs": [
    {
     "ename": "SyntaxError",
     "evalue": "invalid syntax (<ipython-input-17-60e9de72ee37>, line 2)",
     "output_type": "error",
     "traceback": [
      "\u001b[0;36m  File \u001b[0;32m\"<ipython-input-17-60e9de72ee37>\"\u001b[0;36m, line \u001b[0;32m2\u001b[0m\n\u001b[0;31m    Learning code\u001b[0m\n\u001b[0m                ^\u001b[0m\n\u001b[0;31mSyntaxError\u001b[0m\u001b[0;31m:\u001b[0m invalid syntax\n"
     ]
    }
   ],
   "source": [
    "Awesome\n",
    "Learning code\n",
    "Becoming a god at coding"
   ]
  },
  {
   "cell_type": "code",
   "execution_count": null,
   "metadata": {},
   "outputs": [],
   "source": []
  }
 ],
 "metadata": {
  "kernelspec": {
   "display_name": "Python 3",
   "language": "python",
   "name": "python3"
  },
  "language_info": {
   "codemirror_mode": {
    "name": "ipython",
    "version": 3
   },
   "file_extension": ".py",
   "mimetype": "text/x-python",
   "name": "python",
   "nbconvert_exporter": "python",
   "pygments_lexer": "ipython3",
   "version": "3.7.7"
  }
 },
 "nbformat": 4,
 "nbformat_minor": 4
}
