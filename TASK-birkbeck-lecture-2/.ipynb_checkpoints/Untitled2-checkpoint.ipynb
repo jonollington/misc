{
 "cells": [
  {
   "cell_type": "code",
   "execution_count": 1,
   "metadata": {},
   "outputs": [],
   "source": [
    "import pandas as pd\n",
    "import numpy as np\n",
    "import matplotlib.pyplot as plt\n",
    "import seaborn as sns\n",
    "import matplotlib.patches as patches\n",
    "from math import pi\n",
    "from highlight_text import htext\n",
    "from matplotlib import cm\n",
    "import matplotlib.patheffects as path_effects\n",
    "from sklearn.neighbors import KernelDensity\n",
    "\n",
    "import matplotlib as mpl\n",
    "import matplotlib.pyplot as plt\n",
    "import matplotlib.gridspec as grid_spec\n",
    "\n",
    "%matplotlib inline"
   ]
  },
  {
   "cell_type": "code",
   "execution_count": 2,
   "metadata": {},
   "outputs": [],
   "source": [
    "pd.set_option('display.max_columns', None)"
   ]
  },
  {
   "cell_type": "code",
   "execution_count": 3,
   "metadata": {},
   "outputs": [],
   "source": [
    "df_0102 = pd.read_html('https://fbref.com/en/squads/18bb7c10/2001-2002/Arsenal-Stats')[0]\n",
    "df_0203 = pd.read_html('https://fbref.com/en/squads/18bb7c10/2002-2003/Arsenal-Stats')[0]\n",
    "df_0304 = pd.read_html('https://fbref.com/en/squads/18bb7c10/2003-2004/Arsenal-Stats')[0]\n",
    "df_0405 = pd.read_html('https://fbref.com/en/squads/18bb7c10/2004-2005/Arsenal-Stats')[0]\n",
    "df_0506 = pd.read_html('https://fbref.com/en/squads/18bb7c10/2005-2006/Arsenal-Stats')[0]\n",
    "df_0607 = pd.read_html('https://fbref.com/en/squads/18bb7c10/2006-2007/Arsenal-Stats')[0]\n",
    "df_0708 = pd.read_html('https://fbref.com/en/squads/18bb7c10/2007-2008/Arsenal-Stats')[0]\n",
    "df_0809 = pd.read_html('https://fbref.com/en/squads/18bb7c10/2008-2009/Arsenal-Stats')[0]\n",
    "df_0910 = pd.read_html('https://fbref.com/en/squads/18bb7c10/2009-2010/Arsenal-Stats')[0]\n",
    "df_1011 = pd.read_html('https://fbref.com/en/squads/18bb7c10/2010-2011/Arsenal-Stats')[0]\n",
    "df_1112 = pd.read_html('https://fbref.com/en/squads/18bb7c10/2011-2012/Arsenal-Stats')[0]\n",
    "df_1213 = pd.read_html('https://fbref.com/en/squads/18bb7c10/2012-2013/Arsenal-Stats')[0]\n",
    "df_1314 = pd.read_html('https://fbref.com/en/squads/18bb7c10/2013-2014/Arsenal-Stats')[0]\n",
    "df_1415 = pd.read_html('https://fbref.com/en/squads/18bb7c10/2014-2015/Arsenal-Stats')[0]\n",
    "df_1516 = pd.read_html('https://fbref.com/en/squads/18bb7c10/2015-2016/Arsenal-Stats')[0]\n",
    "df_1617 = pd.read_html('https://fbref.com/en/squads/18bb7c10/2016-2017/Arsenal-Stats')[0]\n",
    "df_1718 = pd.read_html('https://fbref.com/en/squads/18bb7c10/2017-2018/Arsenal-Stats')[0]\n",
    "df_1819 = pd.read_html('https://fbref.com/en/squads/18bb7c10/2018-2019/Arsenal-Stats')[0]\n",
    "df_1920 = pd.read_html('https://fbref.com/en/squads/18bb7c10/2019-2020/Arsenal-Stats')[0]\n",
    "df_2021 = pd.read_html('https://fbref.com/en/squads/18bb7c10/2020-2021/Arsenal-Stats')[0]"
   ]
  },
  {
   "cell_type": "code",
   "execution_count": 4,
   "metadata": {},
   "outputs": [],
   "source": [
    "def fbref_dropheader(df):\n",
    "    my_df = df.copy()\n",
    "    my_df = my_df.droplevel(0, axis=1)\n",
    "    return(my_df)"
   ]
  },
  {
   "cell_type": "code",
   "execution_count": 5,
   "metadata": {},
   "outputs": [],
   "source": [
    "df_0102 = fbref_dropheader(df_0102)\n",
    "df_0203 = fbref_dropheader(df_0203)\n",
    "df_0304 = fbref_dropheader(df_0304)\n",
    "df_0405 = fbref_dropheader(df_0405)\n",
    "df_0506 = fbref_dropheader(df_0506)\n",
    "df_0607 = fbref_dropheader(df_0607)\n",
    "df_0708 = fbref_dropheader(df_0708)\n",
    "df_0809 = fbref_dropheader(df_0809)\n",
    "df_0910 = fbref_dropheader(df_0910)\n",
    "df_1011 = fbref_dropheader(df_1011)\n",
    "df_1112 = fbref_dropheader(df_1112)\n",
    "df_1213 = fbref_dropheader(df_1213)\n",
    "df_1314 = fbref_dropheader(df_1314)\n",
    "df_1415 = fbref_dropheader(df_1415)\n",
    "df_1516 = fbref_dropheader(df_1516)\n",
    "df_1617 = fbref_dropheader(df_1617)\n",
    "df_1718 = fbref_dropheader(df_1718)\n",
    "df_1819 = fbref_dropheader(df_1819)\n",
    "df_1920 = fbref_dropheader(df_1920)\n",
    "df_2021 = fbref_dropheader(df_2021)"
   ]
  },
  {
   "cell_type": "code",
   "execution_count": 6,
   "metadata": {},
   "outputs": [],
   "source": [
    "df_2021['Age'] = df_2021['Age'].str[:2]"
   ]
  },
  {
   "cell_type": "code",
   "execution_count": 7,
   "metadata": {},
   "outputs": [],
   "source": [
    "df_0102.loc[:,'Season'] = '2001/2002'\n",
    "df_0203.loc[:,'Season'] = '2002/2003'\n",
    "df_0304.loc[:,'Season'] = '2003/2004'\n",
    "df_0405.loc[:,'Season'] = '2004/2005'\n",
    "df_0506.loc[:,'Season'] = '2005/2006'\n",
    "df_0607.loc[:,'Season'] = '2006/2007'\n",
    "df_0708.loc[:,'Season'] = '2007/2008'\n",
    "df_0809.loc[:,'Season'] = '2008/2009'\n",
    "df_0910.loc[:,'Season'] = '2009/2010'\n",
    "df_1011.loc[:,'Season'] = '2010/2012'\n",
    "df_1112.loc[:,'Season'] = '2011/2012'\n",
    "df_1213.loc[:,'Season'] = '2012/2013'\n",
    "df_1314.loc[:,'Season'] = '2013/2014'\n",
    "df_1415.loc[:,'Season'] = '2014/2015'\n",
    "df_1516.loc[:,'Season'] = '2015/2016'\n",
    "df_1617.loc[:,'Season'] = '2016/2017'\n",
    "df_1718.loc[:,'Season'] = '2017/2018'\n",
    "df_1819.loc[:,'Season'] = '2018/2019'\n",
    "df_1920.loc[:,'Season'] = '2019/2020'\n",
    "df_2021.loc[:,'Season'] = '2020/2021'"
   ]
  },
  {
   "cell_type": "code",
   "execution_count": 8,
   "metadata": {},
   "outputs": [],
   "source": [
    "df_0102.to_csv('fbref_arse_0102.csv', index=False)\n",
    "df_0203.to_csv('fbref_arse_0203.csv', index=False)\n",
    "df_0304.to_csv('fbref_arse_0304.csv', index=False)\n",
    "df_0405.to_csv('fbref_arse_0405.csv', index=False)\n",
    "df_0506.to_csv('fbref_arse_0506.csv', index=False)\n",
    "df_0607.to_csv('fbref_arse_0607.csv', index=False)\n",
    "df_0708.to_csv('fbref_arse_0708.csv', index=False)\n",
    "df_0809.to_csv('fbref_arse_0809.csv', index=False)\n",
    "df_0910.to_csv('fbref_arse_0910.csv', index=False)\n",
    "df_1011.to_csv('fbref_arse_1011.csv', index=False)\n",
    "df_1112.to_csv('fbref_arse_1112.csv', index=False)\n",
    "df_1213.to_csv('fbref_arse_1213.csv', index=False)\n",
    "df_1314.to_csv('fbref_arse_1314.csv', index=False)\n",
    "df_1415.to_csv('fbref_arse_1415.csv', index=False)\n",
    "df_1516.to_csv('fbref_arse_1516.csv', index=False)\n",
    "df_1617.to_csv('fbref_arse_1617.csv', index=False)\n",
    "df_1718.to_csv('fbref_arse_1718.csv', index=False)\n",
    "df_1819.to_csv('fbref_arse_1819.csv', index=False)\n",
    "df_1920.to_csv('fbref_arse_1920.csv', index=False)\n",
    "df_2021.to_csv('fbref_arse_2021.csv', index=False)"
   ]
  },
  {
   "cell_type": "code",
   "execution_count": 9,
   "metadata": {},
   "outputs": [],
   "source": [
    "import os\n",
    "import glob"
   ]
  },
  {
   "cell_type": "code",
   "execution_count": 11,
   "metadata": {},
   "outputs": [],
   "source": [
    "extension = 'csv'\n",
    "all_filenames = [i for i in glob.glob('*.{}'.format(extension))]\n",
    "\n",
    "#combine all files in the list\n",
    "combined_csv = pd.concat([pd.read_csv(f) for f in all_filenames ])\n",
    "#export to csv\n",
    "combined_csv.to_csv( \"arsenal_all.csv\", index=False, encoding='utf-8-sig')"
   ]
  },
  {
   "cell_type": "code",
   "execution_count": 75,
   "metadata": {},
   "outputs": [],
   "source": [
    "df = pd.read_csv('./arsenal_all.csv')"
   ]
  },
  {
   "cell_type": "code",
   "execution_count": 76,
   "metadata": {},
   "outputs": [
    {
     "data": {
      "text/plain": [
       "dtype('O')"
      ]
     },
     "execution_count": 76,
     "metadata": {},
     "output_type": "execute_result"
    }
   ],
   "source": [
    "df.Season.dtypes"
   ]
  },
  {
   "cell_type": "code",
   "execution_count": 77,
   "metadata": {},
   "outputs": [],
   "source": [
    "df['nineties'] = df['Min'] / 90"
   ]
  },
  {
   "cell_type": "code",
   "execution_count": 78,
   "metadata": {},
   "outputs": [
    {
     "data": {
      "text/plain": [
       "2019/2020    35\n",
       "2017/2018    34\n",
       "2016/2017    33\n",
       "2011/2012    33\n",
       "2014/2015    33\n",
       "2018/2019    32\n",
       "2009/2010    31\n",
       "2002/2003    29\n",
       "2008/2009    29\n",
       "2005/2006    28\n",
       "2015/2016    28\n",
       "2010/2012    28\n",
       "2013/2014    28\n",
       "2007/2008    28\n",
       "2012/2013    27\n",
       "2001/2002    26\n",
       "2006/2007    25\n",
       "2004/2005    25\n",
       "2003/2004    23\n",
       "2020/2021    23\n",
       "Name: Season, dtype: int64"
      ]
     },
     "execution_count": 78,
     "metadata": {},
     "output_type": "execute_result"
    }
   ],
   "source": []
  },
  {
   "cell_type": "code",
   "execution_count": 81,
   "metadata": {},
   "outputs": [
    {
     "ename": "ValueError",
     "evalue": "Cannot index with multidimensional key",
     "output_type": "error",
     "traceback": [
      "\u001b[0;31m---------------------------------------------------------------------------\u001b[0m",
      "\u001b[0;31mValueError\u001b[0m                                Traceback (most recent call last)",
      "\u001b[0;32m<ipython-input-81-da80b25e4cee>\u001b[0m in \u001b[0;36m<module>\u001b[0;34m\u001b[0m\n\u001b[1;32m      1\u001b[0m \u001b[0mmask\u001b[0m \u001b[0;34m=\u001b[0m \u001b[0mdf\u001b[0m\u001b[0;34m[\u001b[0m\u001b[0;34m'nineties'\u001b[0m\u001b[0;34m]\u001b[0m \u001b[0;34m>\u001b[0m \u001b[0;36m11.11\u001b[0m\u001b[0;34m\u001b[0m\u001b[0;34m\u001b[0m\u001b[0m\n\u001b[0;32m----> 2\u001b[0;31m \u001b[0mmask\u001b[0m\u001b[0;34m.\u001b[0m\u001b[0mloc\u001b[0m\u001b[0;34m[\u001b[0m\u001b[0mdf\u001b[0m\u001b[0;34m]\u001b[0m\u001b[0;34m\u001b[0m\u001b[0;34m\u001b[0m\u001b[0m\n\u001b[0m",
      "\u001b[0;32m~/opt/anaconda3/lib/python3.7/site-packages/pandas/core/indexing.py\u001b[0m in \u001b[0;36m__getitem__\u001b[0;34m(self, key)\u001b[0m\n\u001b[1;32m    877\u001b[0m \u001b[0;34m\u001b[0m\u001b[0m\n\u001b[1;32m    878\u001b[0m             \u001b[0mmaybe_callable\u001b[0m \u001b[0;34m=\u001b[0m \u001b[0mcom\u001b[0m\u001b[0;34m.\u001b[0m\u001b[0mapply_if_callable\u001b[0m\u001b[0;34m(\u001b[0m\u001b[0mkey\u001b[0m\u001b[0;34m,\u001b[0m \u001b[0mself\u001b[0m\u001b[0;34m.\u001b[0m\u001b[0mobj\u001b[0m\u001b[0;34m)\u001b[0m\u001b[0;34m\u001b[0m\u001b[0;34m\u001b[0m\u001b[0m\n\u001b[0;32m--> 879\u001b[0;31m             \u001b[0;32mreturn\u001b[0m \u001b[0mself\u001b[0m\u001b[0;34m.\u001b[0m\u001b[0m_getitem_axis\u001b[0m\u001b[0;34m(\u001b[0m\u001b[0mmaybe_callable\u001b[0m\u001b[0;34m,\u001b[0m \u001b[0maxis\u001b[0m\u001b[0;34m=\u001b[0m\u001b[0maxis\u001b[0m\u001b[0;34m)\u001b[0m\u001b[0;34m\u001b[0m\u001b[0;34m\u001b[0m\u001b[0m\n\u001b[0m\u001b[1;32m    880\u001b[0m \u001b[0;34m\u001b[0m\u001b[0m\n\u001b[1;32m    881\u001b[0m     \u001b[0;32mdef\u001b[0m \u001b[0m_is_scalar_access\u001b[0m\u001b[0;34m(\u001b[0m\u001b[0mself\u001b[0m\u001b[0;34m,\u001b[0m \u001b[0mkey\u001b[0m\u001b[0;34m:\u001b[0m \u001b[0mTuple\u001b[0m\u001b[0;34m)\u001b[0m\u001b[0;34m:\u001b[0m\u001b[0;34m\u001b[0m\u001b[0;34m\u001b[0m\u001b[0m\n",
      "\u001b[0;32m~/opt/anaconda3/lib/python3.7/site-packages/pandas/core/indexing.py\u001b[0m in \u001b[0;36m_getitem_axis\u001b[0;34m(self, key, axis)\u001b[0m\n\u001b[1;32m   1095\u001b[0m \u001b[0;34m\u001b[0m\u001b[0m\n\u001b[1;32m   1096\u001b[0m                 \u001b[0;32mif\u001b[0m \u001b[0mhasattr\u001b[0m\u001b[0;34m(\u001b[0m\u001b[0mkey\u001b[0m\u001b[0;34m,\u001b[0m \u001b[0;34m\"ndim\"\u001b[0m\u001b[0;34m)\u001b[0m \u001b[0;32mand\u001b[0m \u001b[0mkey\u001b[0m\u001b[0;34m.\u001b[0m\u001b[0mndim\u001b[0m \u001b[0;34m>\u001b[0m \u001b[0;36m1\u001b[0m\u001b[0;34m:\u001b[0m\u001b[0;34m\u001b[0m\u001b[0;34m\u001b[0m\u001b[0m\n\u001b[0;32m-> 1097\u001b[0;31m                     \u001b[0;32mraise\u001b[0m \u001b[0mValueError\u001b[0m\u001b[0;34m(\u001b[0m\u001b[0;34m\"Cannot index with multidimensional key\"\u001b[0m\u001b[0;34m)\u001b[0m\u001b[0;34m\u001b[0m\u001b[0;34m\u001b[0m\u001b[0m\n\u001b[0m\u001b[1;32m   1098\u001b[0m \u001b[0;34m\u001b[0m\u001b[0m\n\u001b[1;32m   1099\u001b[0m                 \u001b[0;32mreturn\u001b[0m \u001b[0mself\u001b[0m\u001b[0;34m.\u001b[0m\u001b[0m_getitem_iterable\u001b[0m\u001b[0;34m(\u001b[0m\u001b[0mkey\u001b[0m\u001b[0;34m,\u001b[0m \u001b[0maxis\u001b[0m\u001b[0;34m=\u001b[0m\u001b[0maxis\u001b[0m\u001b[0;34m)\u001b[0m\u001b[0;34m\u001b[0m\u001b[0;34m\u001b[0m\u001b[0m\n",
      "\u001b[0;31mValueError\u001b[0m: Cannot index with multidimensional key"
     ]
    }
   ],
   "source": [
    "mask = df['nineties'] > 11.11\n",
    "mask.loc[df]"
   ]
  },
  {
   "cell_type": "code",
   "execution_count": null,
   "metadata": {},
   "outputs": [],
   "source": []
  },
  {
   "cell_type": "code",
   "execution_count": 57,
   "metadata": {},
   "outputs": [],
   "source": [
    "mask = df['Player'] != 'Squad Total'\n",
    "df = df.loc[mask]"
   ]
  },
  {
   "cell_type": "code",
   "execution_count": 58,
   "metadata": {},
   "outputs": [],
   "source": [
    "df = df[['Player', 'Age', 'Season']]"
   ]
  },
  {
   "cell_type": "code",
   "execution_count": 59,
   "metadata": {},
   "outputs": [
    {
     "data": {
      "text/html": [
       "<div>\n",
       "<style scoped>\n",
       "    .dataframe tbody tr th:only-of-type {\n",
       "        vertical-align: middle;\n",
       "    }\n",
       "\n",
       "    .dataframe tbody tr th {\n",
       "        vertical-align: top;\n",
       "    }\n",
       "\n",
       "    .dataframe thead th {\n",
       "        text-align: right;\n",
       "    }\n",
       "</style>\n",
       "<table border=\"1\" class=\"dataframe\">\n",
       "  <thead>\n",
       "    <tr style=\"text-align: right;\">\n",
       "      <th></th>\n",
       "      <th>Player</th>\n",
       "      <th>Age</th>\n",
       "      <th>Season</th>\n",
       "    </tr>\n",
       "  </thead>\n",
       "  <tbody>\n",
       "    <tr>\n",
       "      <th>0</th>\n",
       "      <td>Gaël Clichy</td>\n",
       "      <td>22.0</td>\n",
       "      <td>2007/2008</td>\n",
       "    </tr>\n",
       "    <tr>\n",
       "      <th>1</th>\n",
       "      <td>Emmanuel Adebayor</td>\n",
       "      <td>23.0</td>\n",
       "      <td>2007/2008</td>\n",
       "    </tr>\n",
       "    <tr>\n",
       "      <th>2</th>\n",
       "      <td>Cesc Fàbregas</td>\n",
       "      <td>20.0</td>\n",
       "      <td>2007/2008</td>\n",
       "    </tr>\n",
       "    <tr>\n",
       "      <th>3</th>\n",
       "      <td>William Gallas</td>\n",
       "      <td>29.0</td>\n",
       "      <td>2007/2008</td>\n",
       "    </tr>\n",
       "    <tr>\n",
       "      <th>4</th>\n",
       "      <td>Mathieu Flamini</td>\n",
       "      <td>23.0</td>\n",
       "      <td>2007/2008</td>\n",
       "    </tr>\n",
       "    <tr>\n",
       "      <th>...</th>\n",
       "      <td>...</td>\n",
       "      <td>...</td>\n",
       "      <td>...</td>\n",
       "    </tr>\n",
       "    <tr>\n",
       "      <th>572</th>\n",
       "      <td>Alex Song</td>\n",
       "      <td>17.0</td>\n",
       "      <td>2005/2006</td>\n",
       "    </tr>\n",
       "    <tr>\n",
       "      <th>573</th>\n",
       "      <td>Seb Larsson</td>\n",
       "      <td>20.0</td>\n",
       "      <td>2005/2006</td>\n",
       "    </tr>\n",
       "    <tr>\n",
       "      <th>574</th>\n",
       "      <td>Kerrea Gilbert</td>\n",
       "      <td>18.0</td>\n",
       "      <td>2005/2006</td>\n",
       "    </tr>\n",
       "    <tr>\n",
       "      <th>575</th>\n",
       "      <td>Quincy Owusu-Abeyie</td>\n",
       "      <td>19.0</td>\n",
       "      <td>2005/2006</td>\n",
       "    </tr>\n",
       "    <tr>\n",
       "      <th>576</th>\n",
       "      <td>Arturo Lupoli</td>\n",
       "      <td>18.0</td>\n",
       "      <td>2005/2006</td>\n",
       "    </tr>\n",
       "  </tbody>\n",
       "</table>\n",
       "<p>558 rows × 3 columns</p>\n",
       "</div>"
      ],
      "text/plain": [
       "                  Player   Age     Season\n",
       "0            Gaël Clichy  22.0  2007/2008\n",
       "1      Emmanuel Adebayor  23.0  2007/2008\n",
       "2          Cesc Fàbregas  20.0  2007/2008\n",
       "3         William Gallas  29.0  2007/2008\n",
       "4        Mathieu Flamini  23.0  2007/2008\n",
       "..                   ...   ...        ...\n",
       "572            Alex Song  17.0  2005/2006\n",
       "573          Seb Larsson  20.0  2005/2006\n",
       "574       Kerrea Gilbert  18.0  2005/2006\n",
       "575  Quincy Owusu-Abeyie  19.0  2005/2006\n",
       "576        Arturo Lupoli  18.0  2005/2006\n",
       "\n",
       "[558 rows x 3 columns]"
      ]
     },
     "execution_count": 59,
     "metadata": {},
     "output_type": "execute_result"
    }
   ],
   "source": [
    "df"
   ]
  },
  {
   "cell_type": "code",
   "execution_count": 60,
   "metadata": {},
   "outputs": [],
   "source": [
    "def fbref_cleaner(df):\n",
    "    all_columns = list(df.columns)\n",
    "    unwanted_columns = {'Player','Season'}\n",
    "    index_columns = [ele for ele in all_columns if ele not in unwanted_columns]\n",
    "    num_df = df.loc[:,index_columns].apply(pd.to_numeric, errors='coerce')\n",
    "    num_df.fillna(0, inplace=True)\n",
    "    master_df = pd.concat([df[['Player','Season']], num_df], axis = 1)\n",
    "    return master_df"
   ]
  },
  {
   "cell_type": "code",
   "execution_count": 61,
   "metadata": {},
   "outputs": [],
   "source": [
    "df = fbref_cleaner(df)"
   ]
  },
  {
   "cell_type": "code",
   "execution_count": null,
   "metadata": {},
   "outputs": [],
   "source": [
    "df1 = df.groupby('Season').Age.mean().sort_values()\n",
    "df1"
   ]
  },
  {
   "cell_type": "code",
   "execution_count": null,
   "metadata": {},
   "outputs": [],
   "source": [
    "teams = ['2008/2009',\n",
    "         '2007/2008',\n",
    "         '2009/2010',\n",
    "         '2005/2006',\n",
    "         '2019/2020',\n",
    "         '2006/2007',\n",
    "         '2011/2012',\n",
    "         '2014/2015',\n",
    "         '2004/2005',\n",
    "         '2010/2012',\n",
    "         '2012/2013',\n",
    "         '2018/2019',\n",
    "         '2013/2014',\n",
    "         '2016/2017',\n",
    "         '2017/2018',\n",
    "         '2015/2016',\n",
    "         '2002/2003',\n",
    "         '2003/2004',\n",
    "         '2020/2021',\n",
    "         '2001/2002']\n",
    "\n",
    "gs = grid_spec.GridSpec(len(teams),1)\n",
    "fig = plt.figure(figsize=(8,10))\n",
    "\n",
    "i = 0\n",
    "\n",
    "ax_objs = []\n",
    "for team in teams:\n",
    "    team = teams[i]\n",
    "    x = np.array(df[df.Season == team].Age)\n",
    "    x_d = np.linspace(15.5,41, 1000)\n",
    "\n",
    "    kde = KernelDensity(bandwidth=0.6, kernel='gaussian')\n",
    "    kde.fit(x[:, None])\n",
    "\n",
    "    logprob = kde.score_samples(x_d[:, None])\n",
    "\n",
    "    # creating new axes object\n",
    "    ax_objs.append(fig.add_subplot(gs[i:i+1, :]))\n",
    "\n",
    "    # plotting the distribution\n",
    "    ax_objs[-1].plot(x_d, np.exp(logprob),color=\"#f0f0f0\",lw=1)\n",
    "    ax_objs[-1].fill_between(x_d, np.exp(logprob), alpha=1)\n",
    "\n",
    "    # make background transparent\n",
    "    rect = ax_objs[-1].patch\n",
    "    rect.set_alpha(0)\n",
    "    \n",
    "    # remove borders, axis ticks, and labels\n",
    "    ax_objs[-1].set_yticklabels([])\n",
    "    ax_objs[-1].set_ylabel('')\n",
    "\n",
    "#     # remove borders, axis ticks, and labels\n",
    "#     ax_objs[-1].set_yticklabels([])\n",
    "\n",
    "    if i == len(teams)-1:\n",
    "        ax_objs[-1].set_xlabel(\"Age\", fontsize=16,fontweight=\"bold\")\n",
    "    else:\n",
    "        ax_objs[-1].set_xticklabels([])\n",
    "\n",
    "    spines = [\"top\",\"right\",\"left\",\"bottom\"]\n",
    "    for s in spines:\n",
    "        ax_objs[-1].spines[s].set_visible(False)\n",
    "\n",
    "    adj_country = team.replace(\" \",\" \")\n",
    "    ax_objs[-1].text(14,0,adj_country,fontweight=\"bold\",fontsize=10,ha=\"right\")\n",
    "\n",
    "\n",
    "    i += 1\n",
    "\n",
    "gs.update(hspace=-0.4)\n",
    "\n",
    "fig.text(0.25,0.89,\"Arsenal Squad Age Distribution\",fontsize=20)\n",
    "\n",
    "plt.tight_layout()\n",
    "plt.show()"
   ]
  },
  {
   "cell_type": "code",
   "execution_count": null,
   "metadata": {},
   "outputs": [],
   "source": []
  }
 ],
 "metadata": {
  "kernelspec": {
   "display_name": "Python 3",
   "language": "python",
   "name": "python3"
  },
  "language_info": {
   "codemirror_mode": {
    "name": "ipython",
    "version": 3
   },
   "file_extension": ".py",
   "mimetype": "text/x-python",
   "name": "python",
   "nbconvert_exporter": "python",
   "pygments_lexer": "ipython3",
   "version": "3.7.7"
  }
 },
 "nbformat": 4,
 "nbformat_minor": 4
}
