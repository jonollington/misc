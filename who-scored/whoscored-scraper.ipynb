{
 "cells": [
  {
   "cell_type": "code",
   "execution_count": 1,
   "metadata": {},
   "outputs": [],
   "source": [
    "from selenium import webdriver\n",
    "from selenium.webdriver.common.keys import Keys\n",
    "from selenium.webdriver.common.desired_capabilities import DesiredCapabilities\n",
    "import json\n",
    "from webdriver_manager.chrome import ChromeDriverManager\n",
    "from pandas.io.json import json_normalize\n",
    "import pandas as pd"
   ]
  },
  {
   "cell_type": "code",
   "execution_count": 2,
   "metadata": {},
   "outputs": [],
   "source": [
    "# chrome_options = webdriver.ChromeOptions()\n",
    "# chrome_options.set_capability('browserless.token', '2a8ee308-e21e-4e33-9185-159ee787285f')\n",
    "# chrome_options.add_argument(\"--no-sandbox\")\n",
    "# chrome_options.add_argument(\"--headless\")\n",
    "\n",
    "# driver = webdriver.Remote(\n",
    "#   command_executor='https://chrome.browserless.io/webdriver',\n",
    "#   desired_capabilities=chrome_options.to_capabilities()\n",
    "# )\n",
    "\n",
    "# driver.get(\"https://www.whoscored.com/Matches/1485203/Live/England-Premier-League-2020-2021-Wolverhampton-Wanderers-Manchester-City\", verify=False)\n",
    "# data = driver.execute_script(\"return matchCentreData;\")\n",
    "\n",
    "# with open('data.json', 'w', encoding='utf-8') as f:\n",
    "#     json.dump(data, f, ensure_ascii=False, indent=4)\n",
    "       \n",
    "# driver.quit()"
   ]
  },
  {
   "cell_type": "code",
   "execution_count": 3,
   "metadata": {},
   "outputs": [
    {
     "name": "stderr",
     "output_type": "stream",
     "text": [
      "[WDM] - Current google-chrome version is 85.0.4183\n",
      "[WDM] - Get LATEST driver version for 85.0.4183\n",
      "[WDM] - Get LATEST driver version for 85.0.4183\n",
      "[WDM] - Trying to download new driver from http://chromedriver.storage.googleapis.com/85.0.4183.87/chromedriver_mac64.zip\n"
     ]
    },
    {
     "name": "stdout",
     "output_type": "stream",
     "text": [
      " \n"
     ]
    },
    {
     "name": "stderr",
     "output_type": "stream",
     "text": [
      "[WDM] - Driver has been saved in cache [/Users/ollinj01/.wdm/drivers/chromedriver/mac64/85.0.4183.87]\n"
     ]
    }
   ],
   "source": [
    "driver = webdriver.Chrome(ChromeDriverManager().install())\n",
    "\n",
    "driver.get('https://www.whoscored.com/Matches/1394140/Live/Spain-LaLiga-2019-2020-Atletico-Madrid-Getafe')\n",
    "data = driver.execute_script(\"return matchCentreData;\")\n",
    "\n",
    "with open('data.json', 'w', encoding='utf-8') as f:\n",
    "    json.dump(data, f, ensure_ascii=False, indent=4)\n",
    "       \n",
    "driver.close()"
   ]
  },
  {
   "cell_type": "code",
   "execution_count": 4,
   "metadata": {},
   "outputs": [],
   "source": [
    "home_team, away_team = data[\"home\"][\"name\"], data[\"away\"][\"name\"]\n",
    "with open(f\"{home_team}_{away_team}.json\", \"w\") as f: ## save as Arsenal_Liverpool.json in present directory\n",
    "    json.dump(data, f, indent=4)"
   ]
  },
  {
   "cell_type": "code",
   "execution_count": null,
   "metadata": {},
   "outputs": [],
   "source": []
  },
  {
   "cell_type": "code",
   "execution_count": 6,
   "metadata": {},
   "outputs": [],
   "source": [
    "with open('data.json') as json_file:\n",
    "    data = json.load(json_file)\n",
    "    \n",
    "formation = []\n",
    "number = []\n",
    "playerid = []\n",
    "\n",
    "for team_type in ['home', 'away']:\n",
    "    for _ in data[team_type]['formations']:\n",
    "        formation.append(_['formationSlots'])\n",
    "        number.append(_['jerseyNumbers'])\n",
    "        playerid.append(_['playerIds'])\n",
    "        \n",
    "\n",
    "             \n",
    "lineup = pd.DataFrame({'formation':formation, 'number':number, 'playerid':playerid})"
   ]
  },
  {
   "cell_type": "code",
   "execution_count": null,
   "metadata": {},
   "outputs": [],
   "source": []
  },
  {
   "cell_type": "code",
   "execution_count": 7,
   "metadata": {},
   "outputs": [
    {
     "data": {
      "text/html": [
       "<div>\n",
       "<style scoped>\n",
       "    .dataframe tbody tr th:only-of-type {\n",
       "        vertical-align: middle;\n",
       "    }\n",
       "\n",
       "    .dataframe tbody tr th {\n",
       "        vertical-align: top;\n",
       "    }\n",
       "\n",
       "    .dataframe thead th {\n",
       "        text-align: right;\n",
       "    }\n",
       "</style>\n",
       "<table border=\"1\" class=\"dataframe\">\n",
       "  <thead>\n",
       "    <tr style=\"text-align: right;\">\n",
       "      <th></th>\n",
       "      <th>formation</th>\n",
       "      <th>number</th>\n",
       "      <th>playerid</th>\n",
       "    </tr>\n",
       "  </thead>\n",
       "  <tbody>\n",
       "    <tr>\n",
       "      <th>0</th>\n",
       "      <td>[1, 2, 3, 4, 5, 6, 7, 8, 9, 10, 11, 0, 0, 0, 0...</td>\n",
       "      <td>[26, 2, 15, 3, 23, 16, 25, 34, 30, 7, 14, 1, 4...</td>\n",
       "      <td>[102248, 125211, 255169, 297403, 27586, 288795...</td>\n",
       "    </tr>\n",
       "    <tr>\n",
       "      <th>1</th>\n",
       "      <td>[1, 2, 3, 4, 5, 6, 7, 8, 9, 10, 11, 0, 0, 0, 0...</td>\n",
       "      <td>[26, 17, 15, 3, 23, 16, 25, 34, 30, 7, 14, 1, ...</td>\n",
       "      <td>[102248, 69945, 255169, 297403, 27586, 288795,...</td>\n",
       "    </tr>\n",
       "    <tr>\n",
       "      <th>2</th>\n",
       "      <td>[1, 2, 3, 4, 5, 6, 7, 8, 9, 10, 11, 0, 0, 0, 0...</td>\n",
       "      <td>[26, 17, 15, 3, 23, 16, 25, 34, 30, 28, 14, 1,...</td>\n",
       "      <td>[102248, 69945, 255169, 297403, 27586, 288795,...</td>\n",
       "    </tr>\n",
       "    <tr>\n",
       "      <th>3</th>\n",
       "      <td>[1, 2, 3, 4, 5, 6, 7, 8, 9, 10, 11, 0, 0, 0, 0...</td>\n",
       "      <td>[26, 17, 15, 3, 23, 16, 25, 34, 24, 28, 14, 1,...</td>\n",
       "      <td>[102248, 69945, 255169, 297403, 27586, 288795,...</td>\n",
       "    </tr>\n",
       "    <tr>\n",
       "      <th>4</th>\n",
       "      <td>[1, 2, 3, 4, 5, 6, 7, 8, 9, 10, 11, 0, 0, 0, 0...</td>\n",
       "      <td>[26, 17, 15, 31, 23, 16, 25, 34, 24, 28, 14, 1...</td>\n",
       "      <td>[102248, 69945, 255169, 110260, 27586, 288795,...</td>\n",
       "    </tr>\n",
       "    <tr>\n",
       "      <th>5</th>\n",
       "      <td>[1, 2, 3, 4, 5, 6, 7, 8, 9, 10, 11, 0, 0, 0, 0...</td>\n",
       "      <td>[1, 76, 26, 3, 12, 4, 5, 7, 9, 11, 10, 8, 13, ...</td>\n",
       "      <td>[114147, 386969, 115726, 115916, 136451, 95408...</td>\n",
       "    </tr>\n",
       "    <tr>\n",
       "      <th>6</th>\n",
       "      <td>[1, 2, 3, 4, 5, 6, 7, 8, 9, 10, 11, 0, 0, 0, 0...</td>\n",
       "      <td>[1, 12, 26, 8, 3, 4, 10, 5, 9, 11, 18, 13, 16,...</td>\n",
       "      <td>[114147, 136451, 115726, 243510, 115916, 95408...</td>\n",
       "    </tr>\n",
       "    <tr>\n",
       "      <th>7</th>\n",
       "      <td>[1, 2, 3, 4, 5, 6, 7, 8, 9, 10, 11, 0, 0, 0, 0...</td>\n",
       "      <td>[1, 12, 26, 8, 3, 4, 10, 5, 17, 11, 18, 13, 16...</td>\n",
       "      <td>[114147, 136451, 115726, 243510, 115916, 95408...</td>\n",
       "    </tr>\n",
       "    <tr>\n",
       "      <th>8</th>\n",
       "      <td>[1, 2, 3, 4, 5, 6, 7, 8, 9, 10, 11, 0, 0, 0, 0...</td>\n",
       "      <td>[1, 12, 26, 8, 3, 4, 10, 5, 11, 17, 18, 13, 16...</td>\n",
       "      <td>[114147, 136451, 115726, 243510, 115916, 95408...</td>\n",
       "    </tr>\n",
       "    <tr>\n",
       "      <th>9</th>\n",
       "      <td>[1, 2, 3, 4, 5, 6, 7, 8, 9, 10, 11, 0, 0, 0, 0...</td>\n",
       "      <td>[1, 12, 26, 8, 3, 4, 24, 17, 11, 18, 10, 13, 1...</td>\n",
       "      <td>[114147, 136451, 115726, 243510, 115916, 95408...</td>\n",
       "    </tr>\n",
       "  </tbody>\n",
       "</table>\n",
       "</div>"
      ],
      "text/plain": [
       "                                           formation  \\\n",
       "0  [1, 2, 3, 4, 5, 6, 7, 8, 9, 10, 11, 0, 0, 0, 0...   \n",
       "1  [1, 2, 3, 4, 5, 6, 7, 8, 9, 10, 11, 0, 0, 0, 0...   \n",
       "2  [1, 2, 3, 4, 5, 6, 7, 8, 9, 10, 11, 0, 0, 0, 0...   \n",
       "3  [1, 2, 3, 4, 5, 6, 7, 8, 9, 10, 11, 0, 0, 0, 0...   \n",
       "4  [1, 2, 3, 4, 5, 6, 7, 8, 9, 10, 11, 0, 0, 0, 0...   \n",
       "5  [1, 2, 3, 4, 5, 6, 7, 8, 9, 10, 11, 0, 0, 0, 0...   \n",
       "6  [1, 2, 3, 4, 5, 6, 7, 8, 9, 10, 11, 0, 0, 0, 0...   \n",
       "7  [1, 2, 3, 4, 5, 6, 7, 8, 9, 10, 11, 0, 0, 0, 0...   \n",
       "8  [1, 2, 3, 4, 5, 6, 7, 8, 9, 10, 11, 0, 0, 0, 0...   \n",
       "9  [1, 2, 3, 4, 5, 6, 7, 8, 9, 10, 11, 0, 0, 0, 0...   \n",
       "\n",
       "                                              number  \\\n",
       "0  [26, 2, 15, 3, 23, 16, 25, 34, 30, 7, 14, 1, 4...   \n",
       "1  [26, 17, 15, 3, 23, 16, 25, 34, 30, 7, 14, 1, ...   \n",
       "2  [26, 17, 15, 3, 23, 16, 25, 34, 30, 28, 14, 1,...   \n",
       "3  [26, 17, 15, 3, 23, 16, 25, 34, 24, 28, 14, 1,...   \n",
       "4  [26, 17, 15, 31, 23, 16, 25, 34, 24, 28, 14, 1...   \n",
       "5  [1, 76, 26, 3, 12, 4, 5, 7, 9, 11, 10, 8, 13, ...   \n",
       "6  [1, 12, 26, 8, 3, 4, 10, 5, 9, 11, 18, 13, 16,...   \n",
       "7  [1, 12, 26, 8, 3, 4, 10, 5, 17, 11, 18, 13, 16...   \n",
       "8  [1, 12, 26, 8, 3, 4, 10, 5, 11, 17, 18, 13, 16...   \n",
       "9  [1, 12, 26, 8, 3, 4, 24, 17, 11, 18, 10, 13, 1...   \n",
       "\n",
       "                                            playerid  \n",
       "0  [102248, 125211, 255169, 297403, 27586, 288795...  \n",
       "1  [102248, 69945, 255169, 297403, 27586, 288795,...  \n",
       "2  [102248, 69945, 255169, 297403, 27586, 288795,...  \n",
       "3  [102248, 69945, 255169, 297403, 27586, 288795,...  \n",
       "4  [102248, 69945, 255169, 110260, 27586, 288795,...  \n",
       "5  [114147, 386969, 115726, 115916, 136451, 95408...  \n",
       "6  [114147, 136451, 115726, 243510, 115916, 95408...  \n",
       "7  [114147, 136451, 115726, 243510, 115916, 95408...  \n",
       "8  [114147, 136451, 115726, 243510, 115916, 95408...  \n",
       "9  [114147, 136451, 115726, 243510, 115916, 95408...  "
      ]
     },
     "execution_count": 7,
     "metadata": {},
     "output_type": "execute_result"
    }
   ],
   "source": [
    "lineup"
   ]
  },
  {
   "cell_type": "code",
   "execution_count": 8,
   "metadata": {},
   "outputs": [],
   "source": [
    "playerid = lineup['playerid'][0]\n",
    "number = lineup['number'][0]"
   ]
  },
  {
   "cell_type": "code",
   "execution_count": 9,
   "metadata": {},
   "outputs": [],
   "source": [
    "dictionary = dict(zip(number, playerid))"
   ]
  },
  {
   "cell_type": "code",
   "execution_count": 10,
   "metadata": {},
   "outputs": [
    {
     "data": {
      "text/plain": [
       "{26: 102248,\n",
       " 2: 125211,\n",
       " 15: 255169,\n",
       " 3: 297403,\n",
       " 23: 27586,\n",
       " 16: 288795,\n",
       " 25: 125209,\n",
       " 34: 89401,\n",
       " 30: 345845,\n",
       " 7: 367185,\n",
       " 14: 44120,\n",
       " 1: 92173,\n",
       " 4: 361822,\n",
       " 17: 69945,\n",
       " 24: 342564,\n",
       " 28: 342563,\n",
       " 31: 110260,\n",
       " 32: 363686,\n",
       " 47: 367184,\n",
       " 54: 389352}"
      ]
     },
     "execution_count": 10,
     "metadata": {},
     "output_type": "execute_result"
    }
   ],
   "source": [
    "dictionary"
   ]
  },
  {
   "cell_type": "code",
   "execution_count": 11,
   "metadata": {},
   "outputs": [],
   "source": [
    "lookup_dictionary = {int(key): value for key, \n",
    "                     value in data['playerIdNameDictionary'].items()}"
   ]
  },
  {
   "cell_type": "code",
   "execution_count": 12,
   "metadata": {},
   "outputs": [
    {
     "data": {
      "text/plain": [
       "{102248: 'Emiliano Martínez',\n",
       " 108226: 'Mohamed Salah',\n",
       " 109915: 'Sadio Mané',\n",
       " 110260: 'Sead Kolasinac',\n",
       " 114147: 'Alisson',\n",
       " 115726: 'Andrew Robertson',\n",
       " 115916: 'Fabinho',\n",
       " 125209: 'Mohamed Elneny',\n",
       " 125211: 'Héctor Bellerín',\n",
       " 136451: 'Joseph Gomez',\n",
       " 243510: 'Naby Keita',\n",
       " 244779: 'Marko Grujic',\n",
       " 255169: 'Ainsley Maitland-Niles',\n",
       " 262838: 'Takumi Minamino',\n",
       " 27586: 'David Luiz',\n",
       " 288795: 'Rob Holding',\n",
       " 297403: 'Kieran Tierney',\n",
       " 301455: 'Konstantinos Tsimikas',\n",
       " 33568: 'Georginio Wijnaldum',\n",
       " 336285: 'Rhian Brewster',\n",
       " 342563: 'Joseph Willock',\n",
       " 342564: 'Reiss Nelson',\n",
       " 345845: 'Eddie Nketiah',\n",
       " 355354: 'Curtis Jones',\n",
       " 361822: 'William Saliba',\n",
       " 363686: 'Emile Smith Rowe',\n",
       " 363982: 'Harvey Elliott',\n",
       " 367184: 'Tyreece John-Jules',\n",
       " 367185: 'Bukayo Saka',\n",
       " 386969: 'Neco Williams',\n",
       " 386970: 'Billy Koumetio',\n",
       " 389352: 'James Olayinka',\n",
       " 44120: 'Pierre-Emerick Aubameyang',\n",
       " 4511: 'James Milner',\n",
       " 69945: 'Cédric Soares',\n",
       " 73399: 'Adrián',\n",
       " 89401: 'Granit Xhaka',\n",
       " 92173: 'Bernd Leno',\n",
       " 95408: 'Virgil van Dijk',\n",
       " 96182: 'Roberto Firmino'}"
      ]
     },
     "execution_count": 12,
     "metadata": {},
     "output_type": "execute_result"
    }
   ],
   "source": [
    "lookup_dictionary"
   ]
  },
  {
   "cell_type": "code",
   "execution_count": 13,
   "metadata": {},
   "outputs": [
    {
     "ename": "SyntaxError",
     "evalue": "unexpected EOF while parsing (<ipython-input-13-9b1c2f956e45>, line 5)",
     "output_type": "error",
     "traceback": [
      "\u001b[0;36m  File \u001b[0;32m\"<ipython-input-13-9b1c2f956e45>\"\u001b[0;36m, line \u001b[0;32m5\u001b[0m\n\u001b[0;31m    self.average_position(df\u001b[0m\n\u001b[0m                            ^\u001b[0m\n\u001b[0;31mSyntaxError\u001b[0m\u001b[0;31m:\u001b[0m unexpected EOF while parsing\n"
     ]
    }
   ],
   "source": [
    "class Player:\n",
    "    def __init__(self, player, df):\n",
    "        self.id = player[\"player\"][\"id\"]\n",
    "        self.name = player[\"player\"][\"name\"]\n",
    "        self.average_position(df"
   ]
  },
  {
   "cell_type": "code",
   "execution_count": 14,
   "metadata": {},
   "outputs": [],
   "source": [
    "with open('data.json') as json_file:\n",
    "    data = json.load(json_file)\n",
    "    \n",
    "event = []\n",
    "minute = []\n",
    "second = []\n",
    "player = []\n",
    "team = []\n",
    "outcome = []\n",
    "x = []\n",
    "y = []\n",
    "endX = []\n",
    "endY = []\n",
    "\n",
    "for each in data['events']:\n",
    "    event.append(each['type']['displayName'])\n",
    "    try:\n",
    "        minute.append(each['minute'])\n",
    "    except:\n",
    "        minute.append('')\n",
    "    try:\n",
    "        second.append(each['second'])\n",
    "    except:\n",
    "        second.append('')\n",
    "    try:\n",
    "        player.append(each['playerId'])\n",
    "    except:\n",
    "        player.append('')\n",
    "    try:\n",
    "        team.append(each['teamId'])\n",
    "    except:\n",
    "        team.append('')\n",
    "    try:\n",
    "        endX.append(each['endX'])\n",
    "        endY.append(each['endY'])\n",
    "    except:\n",
    "        endX.append('')\n",
    "        endY.append('')\n",
    "    outcome.append(each['outcomeType']['displayName'])\n",
    "    x.append(each['x'])\n",
    "    y.append(each['y'])\n",
    "\n",
    "events = pd.DataFrame({'Event':event, 'Minute':minute, 'Second':second, 'Player':player, 'Team':team, 'Outcome':outcome, 'X':x, 'Y':y,\n",
    "                      'endX':endX, 'endY':endY})"
   ]
  },
  {
   "cell_type": "code",
   "execution_count": 18,
   "metadata": {},
   "outputs": [
    {
     "data": {
      "text/plain": [
       "Pass               1143\n",
       "BallRecovery         97\n",
       "Aerial               56\n",
       "BallTouch            51\n",
       "Clearance            37\n",
       "Foul                 36\n",
       "TakeOn               28\n",
       "Interception         23\n",
       "Tackle               23\n",
       "Challenge            19\n",
       "KeeperPickup         17\n",
       "CornerAwarded        16\n",
       "Dispossessed         15\n",
       "BlockedPass          12\n",
       "Goal                 11\n",
       "SavedShot            11\n",
       "Save                 11\n",
       "PenaltyFaced         10\n",
       "MissedShots          10\n",
       "SubstitutionOn        8\n",
       "End                   8\n",
       "SubstitutionOff       8\n",
       "Start                 6\n",
       "FormationChange       3\n",
       "OffsidePass           3\n",
       "OffsideProvoked       3\n",
       "OffsideGiven          3\n",
       "Claim                 2\n",
       "ShieldBallOpp         2\n",
       "FormationSet          2\n",
       "Error                 1\n",
       "ShotOnPost            1\n",
       "Card                  1\n",
       "Name: Event, dtype: int64"
      ]
     },
     "execution_count": 18,
     "metadata": {},
     "output_type": "execute_result"
    }
   ],
   "source": [
    "events['Event'].value_counts()"
   ]
  },
  {
   "cell_type": "code",
   "execution_count": 173,
   "metadata": {},
   "outputs": [
    {
     "data": {
      "text/plain": [
       "{'102248': 'Emiliano Martínez',\n",
       " '108226': 'Mohamed Salah',\n",
       " '109915': 'Sadio Mané',\n",
       " '110260': 'Sead Kolasinac',\n",
       " '114147': 'Alisson',\n",
       " '115726': 'Andrew Robertson',\n",
       " '115916': 'Fabinho',\n",
       " '125209': 'Mohamed Elneny',\n",
       " '125211': 'Héctor Bellerín',\n",
       " '136451': 'Joseph Gomez',\n",
       " '243510': 'Naby Keita',\n",
       " '244779': 'Marko Grujic',\n",
       " '255169': 'Ainsley Maitland-Niles',\n",
       " '262838': 'Takumi Minamino',\n",
       " '27586': 'David Luiz',\n",
       " '288795': 'Rob Holding',\n",
       " '297403': 'Kieran Tierney',\n",
       " '301455': 'Konstantinos Tsimikas',\n",
       " '33568': 'Georginio Wijnaldum',\n",
       " '336285': 'Rhian Brewster',\n",
       " '342563': 'Joseph Willock',\n",
       " '342564': 'Reiss Nelson',\n",
       " '345845': 'Eddie Nketiah',\n",
       " '355354': 'Curtis Jones',\n",
       " '361822': 'William Saliba',\n",
       " '363686': 'Emile Smith Rowe',\n",
       " '363982': 'Harvey Elliott',\n",
       " '367184': 'Tyreece John-Jules',\n",
       " '367185': 'Bukayo Saka',\n",
       " '386969': 'Neco Williams',\n",
       " '386970': 'Billy Koumetio',\n",
       " '389352': 'James Olayinka',\n",
       " '44120': 'Pierre-Emerick Aubameyang',\n",
       " '4511': 'James Milner',\n",
       " '69945': 'Cédric Soares',\n",
       " '73399': 'Adrián',\n",
       " '89401': 'Granit Xhaka',\n",
       " '92173': 'Bernd Leno',\n",
       " '95408': 'Virgil van Dijk',\n",
       " '96182': 'Roberto Firmino'}"
      ]
     },
     "execution_count": 173,
     "metadata": {},
     "output_type": "execute_result"
    }
   ],
   "source": [
    "data['playerIdNameDictionary']"
   ]
  },
  {
   "cell_type": "code",
   "execution_count": 6,
   "metadata": {},
   "outputs": [
    {
     "data": {
      "text/plain": [
       "Event       object\n",
       "Minute       int64\n",
       "Second      object\n",
       "Player      object\n",
       "Team         int64\n",
       "Outcome     object\n",
       "X          float64\n",
       "Y          float64\n",
       "endX        object\n",
       "endY        object\n",
       "dtype: object"
      ]
     },
     "execution_count": 6,
     "metadata": {},
     "output_type": "execute_result"
    }
   ],
   "source": [
    "events.dtypes"
   ]
  },
  {
   "cell_type": "code",
   "execution_count": 25,
   "metadata": {},
   "outputs": [],
   "source": [
    "events['Second'] = events['Second'].apply(pd.to_numeric, errors='coerce')"
   ]
  },
  {
   "cell_type": "code",
   "execution_count": 27,
   "metadata": {},
   "outputs": [
    {
     "data": {
      "text/plain": [
       "Pass            18\n",
       "BallRecovery     1\n",
       "Name: Event, dtype: int64"
      ]
     },
     "execution_count": 27,
     "metadata": {},
     "output_type": "execute_result"
    }
   ],
   "source": [
    "mask = ((events['Minute'] > 16) & (events['Second'] > 11)) & (events['Minute'] < 19)\n",
    "auba_goal = events.loc[mask].copy()\n",
    "auba_goal.Event.value_counts()"
   ]
  },
  {
   "cell_type": "code",
   "execution_count": null,
   "metadata": {},
   "outputs": [],
   "source": [
    "# events['Event'].value_counts()"
   ]
  },
  {
   "cell_type": "code",
   "execution_count": 8,
   "metadata": {},
   "outputs": [],
   "source": [
    "mask = ((events.Event == 'Pass') | (events.Event == 'Goal') | (events.Event == 'Error'))\n",
    "passData = events.loc[mask]"
   ]
  },
  {
   "cell_type": "code",
   "execution_count": 9,
   "metadata": {},
   "outputs": [
    {
     "data": {
      "text/plain": [
       "Pass     999\n",
       "Goal       2\n",
       "Error      1\n",
       "Name: Event, dtype: int64"
      ]
     },
     "execution_count": 9,
     "metadata": {},
     "output_type": "execute_result"
    }
   ],
   "source": [
    "passData.Event.value_counts()"
   ]
  },
  {
   "cell_type": "code",
   "execution_count": 8,
   "metadata": {},
   "outputs": [
    {
     "data": {
      "text/html": [
       "<div>\n",
       "<style scoped>\n",
       "    .dataframe tbody tr th:only-of-type {\n",
       "        vertical-align: middle;\n",
       "    }\n",
       "\n",
       "    .dataframe tbody tr th {\n",
       "        vertical-align: top;\n",
       "    }\n",
       "\n",
       "    .dataframe thead th {\n",
       "        text-align: right;\n",
       "    }\n",
       "</style>\n",
       "<table border=\"1\" class=\"dataframe\">\n",
       "  <thead>\n",
       "    <tr style=\"text-align: right;\">\n",
       "      <th></th>\n",
       "      <th>Event</th>\n",
       "      <th>Minute</th>\n",
       "      <th>Second</th>\n",
       "      <th>Player</th>\n",
       "      <th>Team</th>\n",
       "      <th>Outcome</th>\n",
       "      <th>X</th>\n",
       "      <th>Y</th>\n",
       "      <th>endX</th>\n",
       "      <th>endY</th>\n",
       "    </tr>\n",
       "  </thead>\n",
       "  <tbody>\n",
       "    <tr>\n",
       "      <th>0</th>\n",
       "      <td>Start</td>\n",
       "      <td>0</td>\n",
       "      <td>0</td>\n",
       "      <td></td>\n",
       "      <td>26</td>\n",
       "      <td>Successful</td>\n",
       "      <td>0.0</td>\n",
       "      <td>0.0</td>\n",
       "      <td></td>\n",
       "      <td></td>\n",
       "    </tr>\n",
       "    <tr>\n",
       "      <th>1</th>\n",
       "      <td>Start</td>\n",
       "      <td>0</td>\n",
       "      <td>0</td>\n",
       "      <td></td>\n",
       "      <td>13</td>\n",
       "      <td>Successful</td>\n",
       "      <td>0.0</td>\n",
       "      <td>0.0</td>\n",
       "      <td></td>\n",
       "      <td></td>\n",
       "    </tr>\n",
       "    <tr>\n",
       "      <th>2</th>\n",
       "      <td>Pass</td>\n",
       "      <td>0</td>\n",
       "      <td>1</td>\n",
       "      <td>4511</td>\n",
       "      <td>26</td>\n",
       "      <td>Successful</td>\n",
       "      <td>50.3</td>\n",
       "      <td>50.0</td>\n",
       "      <td>30.5</td>\n",
       "      <td>46.3</td>\n",
       "    </tr>\n",
       "    <tr>\n",
       "      <th>3</th>\n",
       "      <td>Pass</td>\n",
       "      <td>0</td>\n",
       "      <td>3</td>\n",
       "      <td>136451</td>\n",
       "      <td>26</td>\n",
       "      <td>Unsuccessful</td>\n",
       "      <td>30.5</td>\n",
       "      <td>46.3</td>\n",
       "      <td>72.6</td>\n",
       "      <td>89.9</td>\n",
       "    </tr>\n",
       "    <tr>\n",
       "      <th>4</th>\n",
       "      <td>Pass</td>\n",
       "      <td>0</td>\n",
       "      <td>5</td>\n",
       "      <td>125211</td>\n",
       "      <td>13</td>\n",
       "      <td>Unsuccessful</td>\n",
       "      <td>25.0</td>\n",
       "      <td>14.0</td>\n",
       "      <td>27.3</td>\n",
       "      <td>12.1</td>\n",
       "    </tr>\n",
       "    <tr>\n",
       "      <th>...</th>\n",
       "      <td>...</td>\n",
       "      <td>...</td>\n",
       "      <td>...</td>\n",
       "      <td>...</td>\n",
       "      <td>...</td>\n",
       "      <td>...</td>\n",
       "      <td>...</td>\n",
       "      <td>...</td>\n",
       "      <td>...</td>\n",
       "      <td>...</td>\n",
       "    </tr>\n",
       "    <tr>\n",
       "      <th>1672</th>\n",
       "      <td>End</td>\n",
       "      <td>96</td>\n",
       "      <td>56</td>\n",
       "      <td></td>\n",
       "      <td>26</td>\n",
       "      <td>Successful</td>\n",
       "      <td>0.0</td>\n",
       "      <td>0.0</td>\n",
       "      <td></td>\n",
       "      <td></td>\n",
       "    </tr>\n",
       "    <tr>\n",
       "      <th>1673</th>\n",
       "      <td>End</td>\n",
       "      <td>0</td>\n",
       "      <td>0</td>\n",
       "      <td></td>\n",
       "      <td>26</td>\n",
       "      <td>Successful</td>\n",
       "      <td>0.0</td>\n",
       "      <td>0.0</td>\n",
       "      <td></td>\n",
       "      <td></td>\n",
       "    </tr>\n",
       "    <tr>\n",
       "      <th>1674</th>\n",
       "      <td>End</td>\n",
       "      <td>0</td>\n",
       "      <td>0</td>\n",
       "      <td></td>\n",
       "      <td>13</td>\n",
       "      <td>Successful</td>\n",
       "      <td>0.0</td>\n",
       "      <td>0.0</td>\n",
       "      <td></td>\n",
       "      <td></td>\n",
       "    </tr>\n",
       "    <tr>\n",
       "      <th>1675</th>\n",
       "      <td>FormationSet</td>\n",
       "      <td>0</td>\n",
       "      <td>0</td>\n",
       "      <td></td>\n",
       "      <td>26</td>\n",
       "      <td>Successful</td>\n",
       "      <td>0.0</td>\n",
       "      <td>0.0</td>\n",
       "      <td></td>\n",
       "      <td></td>\n",
       "    </tr>\n",
       "    <tr>\n",
       "      <th>1676</th>\n",
       "      <td>FormationSet</td>\n",
       "      <td>0</td>\n",
       "      <td>0</td>\n",
       "      <td></td>\n",
       "      <td>13</td>\n",
       "      <td>Successful</td>\n",
       "      <td>0.0</td>\n",
       "      <td>0.0</td>\n",
       "      <td></td>\n",
       "      <td></td>\n",
       "    </tr>\n",
       "  </tbody>\n",
       "</table>\n",
       "<p>1677 rows × 10 columns</p>\n",
       "</div>"
      ],
      "text/plain": [
       "             Event  Minute Second  Player  Team       Outcome     X     Y  \\\n",
       "0            Start       0      0            26    Successful   0.0   0.0   \n",
       "1            Start       0      0            13    Successful   0.0   0.0   \n",
       "2             Pass       0      1    4511    26    Successful  50.3  50.0   \n",
       "3             Pass       0      3  136451    26  Unsuccessful  30.5  46.3   \n",
       "4             Pass       0      5  125211    13  Unsuccessful  25.0  14.0   \n",
       "...            ...     ...    ...     ...   ...           ...   ...   ...   \n",
       "1672           End      96     56            26    Successful   0.0   0.0   \n",
       "1673           End       0      0            26    Successful   0.0   0.0   \n",
       "1674           End       0      0            13    Successful   0.0   0.0   \n",
       "1675  FormationSet       0      0            26    Successful   0.0   0.0   \n",
       "1676  FormationSet       0      0            13    Successful   0.0   0.0   \n",
       "\n",
       "      endX  endY  \n",
       "0                 \n",
       "1                 \n",
       "2     30.5  46.3  \n",
       "3     72.6  89.9  \n",
       "4     27.3  12.1  \n",
       "...    ...   ...  \n",
       "1672              \n",
       "1673              \n",
       "1674              \n",
       "1675              \n",
       "1676              \n",
       "\n",
       "[1677 rows x 10 columns]"
      ]
     },
     "execution_count": 8,
     "metadata": {},
     "output_type": "execute_result"
    }
   ],
   "source": [
    "events"
   ]
  },
  {
   "cell_type": "code",
   "execution_count": 9,
   "metadata": {},
   "outputs": [],
   "source": [
    "events.to_csv('arsenal_liverpool.csv', index=False)"
   ]
  },
  {
   "cell_type": "code",
   "execution_count": null,
   "metadata": {},
   "outputs": [],
   "source": [
    "{'102248': 'Emiliano Martínez',\n",
    " '125211': 'Héctor Bellerín',\n",
    " '27586': 'David Luiz',\n",
    " '144890': 'Dani Ceballos',\n",
    " '239872': 'Nicolas Pépé',\n",
    " '297403': 'Kieran Tierney',\n",
    " '44120': 'Pierre-Emerick Aubameyang',\n",
    " '73078': 'Alexandre Lacazette',\n",
    " '80921': 'Shkodran Mustafi',\n",
    " '89401': 'Granit Xhaka'}"
   ]
  }
 ],
 "metadata": {
  "kernelspec": {
   "display_name": "Python 3",
   "language": "python",
   "name": "python3"
  },
  "language_info": {
   "codemirror_mode": {
    "name": "ipython",
    "version": 3
   },
   "file_extension": ".py",
   "mimetype": "text/x-python",
   "name": "python",
   "nbconvert_exporter": "python",
   "pygments_lexer": "ipython3",
   "version": "3.7.7"
  }
 },
 "nbformat": 4,
 "nbformat_minor": 4
}
