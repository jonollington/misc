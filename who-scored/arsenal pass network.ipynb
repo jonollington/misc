{
 "cells": [
  {
   "cell_type": "code",
   "execution_count": 1,
   "metadata": {},
   "outputs": [],
   "source": [
    "from selenium import webdriver\n",
    "from selenium.webdriver.common.keys import Keys\n",
    "from selenium.webdriver.common.desired_capabilities import DesiredCapabilities\n",
    "import json\n",
    "from webdriver_manager.chrome import ChromeDriverManager\n",
    "from pandas.io.json import json_normalize\n",
    "import pandas as pd"
   ]
  },
  {
   "cell_type": "code",
   "execution_count": 2,
   "metadata": {},
   "outputs": [],
   "source": [
    "import pandas as pd\n",
    "import numpy as np\n",
    "import matplotlib.pyplot as plt\n",
    "import json\n",
    "from pandas import json_normalize\n",
    "\n",
    "\n",
    "from adjustText import adjust_text\n",
    "from matplotlib import cm\n",
    "import matplotlib.patheffects as path_effects"
   ]
  },
  {
   "cell_type": "code",
   "execution_count": 3,
   "metadata": {},
   "outputs": [
    {
     "name": "stderr",
     "output_type": "stream",
     "text": [
      "[WDM] - Current google-chrome version is 85.0.4183\n",
      "[WDM] - Get LATEST driver version for 85.0.4183\n",
      "[WDM] - Get LATEST driver version for 85.0.4183\n",
      "[WDM] - Trying to download new driver from http://chromedriver.storage.googleapis.com/85.0.4183.87/chromedriver_mac64.zip\n"
     ]
    },
    {
     "name": "stdout",
     "output_type": "stream",
     "text": [
      " \n"
     ]
    },
    {
     "name": "stderr",
     "output_type": "stream",
     "text": [
      "[WDM] - Driver has been saved in cache [/Users/ollinj01/.wdm/drivers/chromedriver/mac64/85.0.4183.87]\n"
     ]
    }
   ],
   "source": [
    "driver = webdriver.Chrome(ChromeDriverManager().install())\n",
    "\n",
    "driver.get('https://www.whoscored.com/Matches/1485194/Live/England-Premier-League-2020-2021-Arsenal-West-Ham')\n",
    "data = driver.execute_script(\"return matchCentreData;\")\n",
    "\n",
    "with open('data.json', 'w', encoding='utf-8') as f:\n",
    "    json.dump(data, f, ensure_ascii=False, indent=4)\n",
    "       \n",
    "driver.close()"
   ]
  },
  {
   "cell_type": "code",
   "execution_count": 7,
   "metadata": {},
   "outputs": [],
   "source": [
    "home_team, away_team = data[\"home\"][\"name\"], data[\"away\"][\"name\"]\n",
    "with open(f\"{home_team}_{away_team}.json\", \"w\") as f: ## save as Arsenal_Liverpool.json in present directory\n",
    "    json.dump(data, f, indent=4)"
   ]
  },
  {
   "cell_type": "code",
   "execution_count": 4,
   "metadata": {},
   "outputs": [],
   "source": [
    "class Player:\n",
    "\n",
    "    def __init__(self, name, pid, x, y, total):\n",
    "        self.name = name\n",
    "        self.pid = pid\n",
    "        self.x = x\n",
    "        self.y = y\n",
    "        self.total = total"
   ]
  },
  {
   "cell_type": "code",
   "execution_count": 5,
   "metadata": {},
   "outputs": [],
   "source": [
    "def get_receiver(df):\n",
    "    \"\"\" Get the receiver for successful open-play passes\"\"\"\n",
    "\n",
    "    df[[\"receiver_id\", \"receiver_team_id\"]] = df[[\"playerId\", \"teamId\"]].shift(-1)\n",
    "    df = df.query(\"(outcomeType_value == 1) & (type_displayName == 'Pass') & (receiver_team_id == teamId)\").reset_index(drop=True)\n",
    "    df.dropna(subset=[\"playerId\", \"receiver_id\", \"teamId\", \"receiver_team_id\"], inplace=True)\n",
    "    df[[\"playerId\", \"receiver_id\", \"teamId\", \"receiver_team_id\"]] = df[[\"playerId\", \"receiver_id\", \"teamId\", \"receiver_team_id\"]].astype(int)\n",
    "    return df"
   ]
  },
  {
   "cell_type": "code",
   "execution_count": 8,
   "metadata": {},
   "outputs": [],
   "source": [
    "with open(r\"Arsenal_West Ham.json\") as f:\n",
    "    md = json.load(f)"
   ]
  },
  {
   "cell_type": "code",
   "execution_count": 9,
   "metadata": {},
   "outputs": [],
   "source": [
    "side = \"home\" if md[\"home\"][\"name\"] == \"Arsenal\" else \"away\"  \n",
    "team_id = md[side][\"teamId\"]  \n",
    "st_players = {} ##get the starting 11 players\n",
    "for player in md[side][\"players\"]:\n",
    "        if \"isFirstEleven\" in player:\n",
    "            st_players.update({player[\"playerId\"]: player[\"name\"]})        \n"
   ]
  },
  {
   "cell_type": "code",
   "execution_count": 10,
   "metadata": {},
   "outputs": [],
   "source": [
    "df = json_normalize(md[\"events\"], sep=\"_\")"
   ]
  },
  {
   "cell_type": "code",
   "execution_count": 11,
   "metadata": {},
   "outputs": [],
   "source": [
    "pdf = get_receiver(df)"
   ]
  },
  {
   "cell_type": "code",
   "execution_count": 12,
   "metadata": {},
   "outputs": [],
   "source": [
    "pdf = pdf[pdf[\"qualifiers\"].apply(lambda x:x not in [\"Freekick\", \"GoalKick\", \"Corner\"])] ##remove set-pieces"
   ]
  },
  {
   "cell_type": "code",
   "execution_count": 13,
   "metadata": {},
   "outputs": [],
   "source": [
    "pdf = pdf.dropna(axis=1, how=\"all\")"
   ]
  },
  {
   "cell_type": "code",
   "execution_count": 14,
   "metadata": {},
   "outputs": [],
   "source": [
    "group1 = pdf.groupby([\"playerId\", \"receiver_id\"]).agg(count=(\"teamId\", \"size\")).reset_index()"
   ]
  },
  {
   "cell_type": "code",
   "execution_count": 15,
   "metadata": {},
   "outputs": [],
   "source": [
    "group1 = group1.loc[group1[\"count\"]>1]"
   ]
  },
  {
   "cell_type": "code",
   "execution_count": 16,
   "metadata": {},
   "outputs": [],
   "source": [
    "group1[\"count\"] = group1[\"count\"]/group1[\"count\"].max()"
   ]
  },
  {
   "cell_type": "code",
   "execution_count": 17,
   "metadata": {},
   "outputs": [],
   "source": [
    "group2 = pdf.groupby([\"playerId\"]).agg(x=(\"x\", \"mean\"), y=(\"y\", \"mean\"), total=(\"teamId\", \"size\")).reset_index()"
   ]
  },
  {
   "cell_type": "code",
   "execution_count": 18,
   "metadata": {},
   "outputs": [],
   "source": [
    "group2['x_loc_m'] = group2['x'] / 100 * 104\n",
    "group2['y_loc_m'] = group2['y'] / 100 * 68"
   ]
  },
  {
   "cell_type": "code",
   "execution_count": 19,
   "metadata": {},
   "outputs": [],
   "source": [
    "group2['y1'] = [68 - i for i in group2['y_loc_m']] # Note y axis is flipped for vertical pitch view"
   ]
  },
  {
   "cell_type": "code",
   "execution_count": 20,
   "metadata": {},
   "outputs": [],
   "source": [
    "stplist = list(st_players.keys()) ##list of starting players ids"
   ]
  },
  {
   "cell_type": "code",
   "execution_count": 21,
   "metadata": {},
   "outputs": [],
   "source": [
    "group1 = group1.query(\"(playerId in @stplist) & (receiver_id in @stplist)\").reset_index(drop=True)"
   ]
  },
  {
   "cell_type": "code",
   "execution_count": 22,
   "metadata": {},
   "outputs": [],
   "source": [
    "group2 = group2.query(\"playerId in @stplist\").reset_index(drop=True)"
   ]
  },
  {
   "cell_type": "code",
   "execution_count": 23,
   "metadata": {},
   "outputs": [],
   "source": [
    "group2[\"player_name\"] = group2[\"playerId\"].map(st_players)"
   ]
  },
  {
   "cell_type": "code",
   "execution_count": 24,
   "metadata": {},
   "outputs": [],
   "source": [
    "%matplotlib inline"
   ]
  },
  {
   "cell_type": "code",
   "execution_count": 25,
   "metadata": {},
   "outputs": [],
   "source": [
    "plr_objs = {}\n",
    "for i in group2.index:\n",
    "    plr_objs[group2.loc[i, \"playerId\"]] = Player(group2.loc[i, \"player_name\"], group2.loc[i, \"playerId\"], group2.loc[i, \"y1\"], group2.loc[i, \"x_loc_m\"], group2.loc[i, \"total\"])"
   ]
  },
  {
   "cell_type": "code",
   "execution_count": 49,
   "metadata": {},
   "outputs": [
    {
     "data": {
      "text/html": [
       "<div>\n",
       "<style scoped>\n",
       "    .dataframe tbody tr th:only-of-type {\n",
       "        vertical-align: middle;\n",
       "    }\n",
       "\n",
       "    .dataframe tbody tr th {\n",
       "        vertical-align: top;\n",
       "    }\n",
       "\n",
       "    .dataframe thead th {\n",
       "        text-align: right;\n",
       "    }\n",
       "</style>\n",
       "<table border=\"1\" class=\"dataframe\">\n",
       "  <thead>\n",
       "    <tr style=\"text-align: right;\">\n",
       "      <th></th>\n",
       "      <th>playerId</th>\n",
       "      <th>receiver_id</th>\n",
       "      <th>count</th>\n",
       "    </tr>\n",
       "  </thead>\n",
       "  <tbody>\n",
       "    <tr>\n",
       "      <th>0</th>\n",
       "      <td>29463</td>\n",
       "      <td>73078</td>\n",
       "      <td>0.291667</td>\n",
       "    </tr>\n",
       "    <tr>\n",
       "      <th>1</th>\n",
       "      <td>29463</td>\n",
       "      <td>89401</td>\n",
       "      <td>0.250000</td>\n",
       "    </tr>\n",
       "    <tr>\n",
       "      <th>2</th>\n",
       "      <td>29463</td>\n",
       "      <td>110260</td>\n",
       "      <td>0.083333</td>\n",
       "    </tr>\n",
       "    <tr>\n",
       "      <th>3</th>\n",
       "      <td>29463</td>\n",
       "      <td>125211</td>\n",
       "      <td>0.125000</td>\n",
       "    </tr>\n",
       "    <tr>\n",
       "      <th>4</th>\n",
       "      <td>29463</td>\n",
       "      <td>144890</td>\n",
       "      <td>0.458333</td>\n",
       "    </tr>\n",
       "    <tr>\n",
       "      <th>...</th>\n",
       "      <td>...</td>\n",
       "      <td>...</td>\n",
       "      <td>...</td>\n",
       "    </tr>\n",
       "    <tr>\n",
       "      <th>73</th>\n",
       "      <td>367185</td>\n",
       "      <td>44120</td>\n",
       "      <td>0.166667</td>\n",
       "    </tr>\n",
       "    <tr>\n",
       "      <th>74</th>\n",
       "      <td>367185</td>\n",
       "      <td>89401</td>\n",
       "      <td>0.250000</td>\n",
       "    </tr>\n",
       "    <tr>\n",
       "      <th>75</th>\n",
       "      <td>367185</td>\n",
       "      <td>110260</td>\n",
       "      <td>0.333333</td>\n",
       "    </tr>\n",
       "    <tr>\n",
       "      <th>76</th>\n",
       "      <td>367185</td>\n",
       "      <td>144890</td>\n",
       "      <td>0.208333</td>\n",
       "    </tr>\n",
       "    <tr>\n",
       "      <th>77</th>\n",
       "      <td>367185</td>\n",
       "      <td>334087</td>\n",
       "      <td>0.291667</td>\n",
       "    </tr>\n",
       "  </tbody>\n",
       "</table>\n",
       "<p>78 rows × 3 columns</p>\n",
       "</div>"
      ],
      "text/plain": [
       "    playerId  receiver_id     count\n",
       "0      29463        73078  0.291667\n",
       "1      29463        89401  0.250000\n",
       "2      29463       110260  0.083333\n",
       "3      29463       125211  0.125000\n",
       "4      29463       144890  0.458333\n",
       "..       ...          ...       ...\n",
       "73    367185        44120  0.166667\n",
       "74    367185        89401  0.250000\n",
       "75    367185       110260  0.333333\n",
       "76    367185       144890  0.208333\n",
       "77    367185       334087  0.291667\n",
       "\n",
       "[78 rows x 3 columns]"
      ]
     },
     "execution_count": 49,
     "metadata": {},
     "output_type": "execute_result"
    }
   ],
   "source": [
    "group1"
   ]
  },
  {
   "cell_type": "code",
   "execution_count": 27,
   "metadata": {},
   "outputs": [],
   "source": [
    "import matplotlib.colors"
   ]
  },
  {
   "cell_type": "code",
   "execution_count": 28,
   "metadata": {},
   "outputs": [],
   "source": [
    "from matplotlib import cm\n",
    "from matplotlib.colors import ListedColormap, LinearSegmentedColormap"
   ]
  },
  {
   "cell_type": "code",
   "execution_count": 29,
   "metadata": {},
   "outputs": [],
   "source": [
    "cmap = ListedColormap([\"white\",\"gainsboro\",\"lightgrey\",\"silver\",\"darkgray\",\"gray\",\"dimgray\"])"
   ]
  },
  {
   "cell_type": "code",
   "execution_count": 54,
   "metadata": {},
   "outputs": [
    {
     "data": {
      "image/png": "[encoded data removed]",
      "text/plain": [
       "<Figure size 489.6x748.8 with 1 Axes>"
      ]
     },
     "metadata": {
      "needs_background": "light"
     },
     "output_type": "display_data"
    }
   ],
   "source": [
    "draw_pitch(pitch ='#252932', line ='#404040',orientation='vertical', view='full')\n",
    "\n",
    "csfont = {'fontname':'BBC Reith Sans'}\n",
    "hfont = {'fontname':'BBC Reith Sans'}\n",
    "\n",
    "offset = 1.1 ##change the x and y coordinates of passes between two same players so that there's no overlap\n",
    "\n",
    "# cmap = cm.get_cmap(\"Greys\")\n",
    "cmap = ListedColormap([\"white\",\"gainsboro\",\"lightgrey\",\"silver\",\"darkgray\",\"gray\",\"dimgray\"])\n",
    "\n",
    "shrink_val = 5 ##Units by which the arrow is shortened from the end_points\n",
    "\n",
    "style=\"Simple,tail_width=0.001,head_width=0.8,head_length=0.7\"\n",
    "\n",
    "plr_objs = {}\n",
    "for i in group2.index:\n",
    "    plr_objs[group2.loc[i, \"playerId\"]] = Player(group2.loc[i, \"player_name\"], group2.loc[i, \"playerId\"], group2.loc[i, \"y1\"], group2.loc[i, \"x_loc_m\"], group2.loc[i, \"total\"])\n",
    "\n",
    "for (_, (pid, rid, count)) in group1.iterrows():\n",
    "    if abs(plr_objs[rid].x - plr_objs[pid].x) > abs(plr_objs[rid].y - plr_objs[pid].y):\n",
    "        if rid > pid:\n",
    "            plt.annotate(\"\", xy=(plr_objs[rid].x, plr_objs[rid].y + offset), xytext=(plr_objs[pid].x, plr_objs[pid].y + offset),\n",
    "                arrowprops={\"arrowstyle\":style, \"connectionstyle\":\"arc3\", \"lw\":count*9,\"color\":cmap(count), \"alpha\":count, \"linestyle\":\"solid\", \"shrinkB\":15},zorder=9)\n",
    "        elif pid > rid:\n",
    "            plt.annotate(\"\", xy=(plr_objs[rid].x, plr_objs[rid].y - offset), xytext=(plr_objs[pid].x, plr_objs[pid].y - offset),\n",
    "                arrowprops={\"arrowstyle\":style, \"connectionstyle\":\"arc3\", \"lw\":count*9,\"color\":cmap(count), \"alpha\":count, \"linestyle\":\"solid\", \"shrinkB\":15},zorder=9)\n",
    "    \n",
    "    elif abs(plr_objs[rid].x - plr_objs[pid].x) <= abs(plr_objs[rid].y - plr_objs[pid].y):\n",
    "        if rid > pid:\n",
    "            plt.annotate(\"\", xy=(plr_objs[rid].x + offset, plr_objs[rid].y), xytext=(plr_objs[pid].x + offset, plr_objs[pid].y),\n",
    "                arrowprops={\"arrowstyle\":style, \"connectionstyle\":\"arc3\", \"lw\":count*9, \"color\":cmap(count),\"alpha\":count, \"linestyle\":\"solid\", \"shrinkB\":15},zorder=9)\n",
    "        elif pid > rid:\n",
    "            plt.annotate(\"\", xy=(plr_objs[rid].x - offset, plr_objs[rid].y), xytext=(plr_objs[pid].x - offset, plr_objs[pid].y),\n",
    "                arrowprops={\"arrowstyle\":style, \"connectionstyle\":\"arc3\", \"lw\":count*9, \"color\":cmap(count),\"alpha\":count, \"linestyle\":\"solid\", \"shrinkB\":15},zorder=9)\n",
    "\n",
    "texts = []        \n",
    "for player_id, player_obj in plr_objs.items():\n",
    "    plt.scatter(player_obj.x, player_obj.y, s=player_obj.total*10, color=\"#DB0007\", ec=\"white\", lw=\"2\",alpha=1, zorder=10)\n",
    "    if player_obj.name == \"Pierre-Emerick Aubameyang\":\n",
    "        t1 = plt.text(player_obj.x-5.5,player_obj.y+2.5,color=\"white\", s=player_obj.name.split(\" \")[-1], fontsize=10, rotation=0, zorder=12)\n",
    "        t1.set_path_effects([path_effects.withStroke(linewidth=3,foreground=\"#252932\")])\n",
    "    elif player_obj.name == \"Alexandre Lacazette\":\n",
    "        t2 = plt.text(player_obj.x+2,player_obj.y-3,color=\"white\", s=player_obj.name.split(\" \")[-1], fontsize=10, rotation=0, zorder=12)\n",
    "        t2.set_path_effects([path_effects.withStroke(linewidth=3,foreground=\"#252932\")])\n",
    "    elif player_obj.name == \"Willian\":\n",
    "        t2 = plt.text(player_obj.x-3.5,player_obj.y+2.5,color=\"white\", s=player_obj.name.split(\" \")[-1], fontsize=10, rotation=0, zorder=12)\n",
    "        t2.set_path_effects([path_effects.withStroke(linewidth=3,foreground=\"#252932\")])\n",
    "    elif player_obj.name == \"Héctor Bellerín\":\n",
    "        t2 = plt.text(player_obj.x-3,player_obj.y+3,color=\"white\", s=player_obj.name.split(\" \")[-1], fontsize=10, rotation=0, zorder=12)\n",
    "        t2.set_path_effects([path_effects.withStroke(linewidth=3,foreground=\"#252932\")])\n",
    "    elif player_obj.name == \"Bukayo Saka\":\n",
    "        t2 = plt.text(player_obj.x-3,player_obj.y+3,color=\"white\", s=player_obj.name.split(\" \")[-1], fontsize=10, rotation=0, zorder=12)\n",
    "        t2.set_path_effects([path_effects.withStroke(linewidth=3,foreground=\"#252932\")])\n",
    "    elif player_obj.name == \"Bernd Leno\":\n",
    "        t2 = plt.text(player_obj.x-3,player_obj.y-4,color=\"white\", s=player_obj.name.split(\" \")[-1], fontsize=10, rotation=0, zorder=12)\n",
    "        t2.set_path_effects([path_effects.withStroke(linewidth=3,foreground=\"#252932\")])\n",
    "    else:\n",
    "        t = plt.text(player_obj.x-3.5, player_obj.y-6,color=\"white\", s=player_obj.name.split(\" \")[-1], fontsize=10, rotation=0, zorder=12)\n",
    "        t.set_path_effects([path_effects.withStroke(linewidth=3,foreground=\"#252932\")])\n",
    "    \n",
    "    \n",
    "#title\n",
    "title = plt.text(1,99, \"Arsenal\", color='white',fontsize=30, fontweight='bold', **csfont,zorder=20)\n",
    "title.set_path_effects([path_effects.withStroke(linewidth=3,foreground=\"#252932\")])\n",
    "subtitle_string = 'vs. West Ham | English Premier League 2020/21 | Sat 19 Sep 2020'\n",
    "subtitle_string2 = 'Positions & Passing Network'\n",
    "subtitle = plt.text(1, 96.5, subtitle_string, fontsize=9,**csfont, color='white',zorder=20)\n",
    "subtitle.set_path_effects([path_effects.withStroke(linewidth=3,foreground=\"#252932\")])\n",
    "subtitle2 = plt.text(1, 94.5, subtitle_string2, fontsize=9,**csfont, color='white',zorder=20)\n",
    "subtitle2.set_path_effects([path_effects.withStroke(linewidth=3,foreground=\"#252932\")])\n",
    "\n",
    "plt.figimage(img, 1430, 2182, alpha=.9, zorder=1)\n",
    "\n",
    "info_string = '@jonollington'\n",
    "plt.text(57.3, 0.8, info_string, color='white', ha='left', va='bottom', fontsize=8, **csfont)\n",
    "\n",
    "plt.rcParams['axes.facecolor']='#252932'\n",
    "plt.rcParams['savefig.facecolor']='#252932'\n",
    "\n",
    "plt.savefig(\"arsenal_westham\",bbox_inches=\"tight\",dpi=300)"
   ]
  },
  {
   "cell_type": "code",
   "execution_count": 31,
   "metadata": {},
   "outputs": [],
   "source": [
    "def draw_pitch(pitch, line, orientation, view):\n",
    "     \n",
    "    orientation = orientation\n",
    "    view = view\n",
    "    line = line\n",
    "    pitch = pitch\n",
    "     \n",
    "    if orientation.lower().startswith(\"h\"):\n",
    "         \n",
    "        if view.lower().startswith(\"h\"):\n",
    "            fig,ax = plt.subplots(figsize=(6.8,10.4))\n",
    "            plt.xlim(49,105)\n",
    "            plt.ylim(-1,69)\n",
    "        elif view.lower().startswith(\"t\"):\n",
    "            fig,ax = plt.subplots(figsize=(6.8,10.4))\n",
    "            plt.xlim(69,105)\n",
    "            plt.ylim(-1,69)\n",
    "            # final third line\n",
    "            lxt = [0,68] \n",
    "            lyt = [69,69]\n",
    "            plt.plot(lxt,lyt,color=line,linestyle='--',zorder=5)\n",
    "        else:\n",
    "            fig,ax = plt.subplots(figsize=(10.4,6.8))\n",
    "            plt.xlim(-1,105)\n",
    "            plt.ylim(-1,69)\n",
    "        ax.axis('off') # this hides the x and y ticks\n",
    "     \n",
    "        # side and goal lines #\n",
    "        ly1 = [0,0,68,68,0]\n",
    "        lx1 = [0,104,104,0,0]\n",
    " \n",
    "        plt.plot(lx1,ly1,color=line,zorder=5)\n",
    " \n",
    " \n",
    "        # boxes, 6 yard box and goals\n",
    " \n",
    "            #outer boxes#\n",
    "        ly2 = [13.84,13.84,54.16,54.16] \n",
    "        lx2 = [104,87.5,87.5,104]\n",
    "        plt.plot(lx2,ly2,color=line,zorder=5)\n",
    " \n",
    "        ly3 = [13.84,13.84,54.16,54.16] \n",
    "        lx3 = [0,16.5,16.5,0]\n",
    "        plt.plot(lx3,ly3,color=line,zorder=5)\n",
    " \n",
    "            #goals#\n",
    "        ly4 = [30.34,30.34,37.66,37.66]\n",
    "        lx4 = [104,104.2,104.2,104]\n",
    "        plt.plot(lx4,ly4,color=line,zorder=5)\n",
    " \n",
    "        ly5 = [30.34,30.34,37.66,37.66]\n",
    "        lx5 = [0,-0.2,-0.2,0]\n",
    "        plt.plot(lx5,ly5,color=line,zorder=5)\n",
    " \n",
    " \n",
    "           #6 yard boxes#\n",
    "        ly6 = [24.84,24.84,43.16,43.16]\n",
    "        lx6 = [104,99.5,99.5,104]\n",
    "        plt.plot(lx6,ly6,color=line,zorder=5)\n",
    " \n",
    "        ly7 = [24.84,24.84,43.16,43.16]\n",
    "        lx7 = [0,4.5,4.5,0]\n",
    "        plt.plot(lx7,ly7,color=line,zorder=5)\n",
    " \n",
    "        #Halfway line, penalty spots, and kickoff spot\n",
    "        ly8 = [0,68] \n",
    "        lx8 = [52,52]\n",
    "        plt.plot(lx8,ly8,color=line,zorder=5)\n",
    " \n",
    " \n",
    "        plt.scatter(93,34,color=line,zorder=5)\n",
    "        plt.scatter(11,34,color=line,zorder=5)\n",
    "        plt.scatter(52,34,color=line,zorder=5)\n",
    " \n",
    "        circle1 = plt.Circle((93.5,34), 9.15,ls='solid',lw=1.5,color=line, fill=False, zorder=1,alpha=1)\n",
    "        circle2 = plt.Circle((10.5,34), 9.15,ls='solid',lw=1.5,color=line, fill=False, zorder=1,alpha=1)\n",
    "        circle3 = plt.Circle((52, 34), 9.15,ls='solid',lw=1.5,color=line, fill=False, zorder=2,alpha=1)\n",
    " \n",
    "        ## Rectangles in boxes\n",
    "        rec1 = plt.Rectangle((87.5,20), 16,30,ls='-',color=pitch, zorder=1,alpha=1)\n",
    "        rec2 = plt.Rectangle((0, 20), 16.5,30,ls='-',color=pitch, zorder=1,alpha=1)\n",
    " \n",
    "        ## Pitch rectangle\n",
    "        rec3 = plt.Rectangle((-1, -1), 106,70,ls='-',color=pitch, zorder=1,alpha=1)\n",
    " \n",
    "        ax.add_artist(rec3)\n",
    "        ax.add_artist(circle1)\n",
    "        ax.add_artist(circle2)\n",
    "        ax.add_artist(rec1)\n",
    "        ax.add_artist(rec2)\n",
    "        ax.add_artist(circle3)\n",
    "         \n",
    "    else:\n",
    "        if view.lower().startswith(\"h\"):\n",
    "            fig,ax = plt.subplots(figsize=(10.4,6.8))\n",
    "            plt.ylim(49,105)\n",
    "            plt.xlim(-1,69)\n",
    "        elif view.lower().startswith(\"t\"):\n",
    "            fig,ax = plt.subplots(figsize=(10.4,6.8))\n",
    "            plt.ylim(69,105)\n",
    "            plt.xlim(-1,69)\n",
    "            # final third line\n",
    "            lxt = [0,68] \n",
    "            lyt = [69,69]\n",
    "            plt.plot(lxt,lyt,color=line,linestyle='--',zorder=5)\n",
    "        else:\n",
    "            fig,ax = plt.subplots(figsize=(6.8,10.4))\n",
    "            plt.ylim(-1,105)\n",
    "            plt.xlim(-1,69)\n",
    "        ax.axis('off') # this hides the x and y ticks\n",
    " \n",
    "        # side and goal lines #\n",
    "        lx1 = [0,0,68,68,0]\n",
    "        ly1 = [0,104,104,0,0]\n",
    " \n",
    "        plt.plot(lx1,ly1,color=line,zorder=5)\n",
    " \n",
    " \n",
    "        # boxes, 6 yard box and goals\n",
    " \n",
    "            #outer boxes#\n",
    "        lx2 = [13.84,13.84,54.16,54.16] \n",
    "        ly2 = [104,87.5,87.5,104]\n",
    "        plt.plot(lx2,ly2,color=line,zorder=5)\n",
    " \n",
    "        lx3 = [13.84,13.84,54.16,54.16] \n",
    "        ly3 = [0,16.5,16.5,0]\n",
    "        plt.plot(lx3,ly3,color=line,zorder=5)\n",
    " \n",
    "            #goals#\n",
    "        lx4 = [30.34,30.34,37.66,37.66]\n",
    "        ly4 = [104,104.2,104.2,104]\n",
    "        plt.plot(lx4,ly4,color=line,zorder=5)\n",
    " \n",
    "        lx5 = [30.34,30.34,37.66,37.66]\n",
    "        ly5 = [0,-0.2,-0.2,0]\n",
    "        plt.plot(lx5,ly5,color=line,zorder=5)\n",
    " \n",
    " \n",
    "           #6 yard boxes#\n",
    "        lx6 = [24.84,24.84,43.16,43.16]\n",
    "        ly6 = [104,99.5,99.5,104]\n",
    "        plt.plot(lx6,ly6,color=line,zorder=5)\n",
    " \n",
    "        lx7 = [24.84,24.84,43.16,43.16]\n",
    "        ly7 = [0,4.5,4.5,0]\n",
    "        plt.plot(lx7,ly7,color=line,zorder=5)\n",
    " \n",
    "        #Halfway line, penalty spots, and kickoff spot\n",
    "        lx8 = [0,68] \n",
    "        ly8 = [52,52]\n",
    "        plt.plot(lx8,ly8,color=line,zorder=5)\n",
    " \n",
    " \n",
    "        plt.scatter(34,93,color=line,zorder=5)\n",
    "        plt.scatter(34,11,color=line,zorder=5)\n",
    "        plt.scatter(34,52,color=line,zorder=5)\n",
    " \n",
    "        circle1 = plt.Circle((34,93.5), 9.15,ls='solid',lw=1.5,color=line, fill=False, zorder=1,alpha=1)\n",
    "        circle2 = plt.Circle((34,10.5), 9.15,ls='solid',lw=1.5,color=line, fill=False, zorder=1,alpha=1)\n",
    "        circle3 = plt.Circle((34,52), 9.15,ls='solid',lw=1.5,color=line, fill=False, zorder=2,alpha=1)\n",
    " \n",
    " \n",
    "        ## Rectangles in boxes\n",
    "        rec1 = plt.Rectangle((20, 87.5), 30,16.5,ls='-',color=pitch, zorder=1,alpha=1)\n",
    "        rec2 = plt.Rectangle((20, 0), 30,16.5,ls='-',color=pitch, zorder=1,alpha=1)\n",
    " \n",
    "        ## Pitch rectangle\n",
    "        rec3 = plt.Rectangle((-1, -1), 70,106,ls='-',color=pitch, zorder=1,alpha=1)\n",
    " \n",
    "        ax.add_artist(rec3)\n",
    "        ax.add_artist(circle1)\n",
    "        ax.add_artist(circle2)\n",
    "        ax.add_artist(rec1)\n",
    "        ax.add_artist(rec2)\n",
    "        ax.add_artist(circle3)\n",
    "        return"
   ]
  },
  {
   "cell_type": "code",
   "execution_count": 32,
   "metadata": {},
   "outputs": [],
   "source": [
    "from PIL import Image"
   ]
  },
  {
   "cell_type": "code",
   "execution_count": 33,
   "metadata": {},
   "outputs": [
    {
     "data": {
      "text/plain": [
       "(411, 481)"
      ]
     },
     "execution_count": 33,
     "metadata": {},
     "output_type": "execute_result"
    }
   ],
   "source": [
    "img = Image.open('./arsenal.png')\n",
    "img.size"
   ]
  },
  {
   "cell_type": "code",
   "execution_count": 34,
   "metadata": {},
   "outputs": [],
   "source": [
    "img = img.resize((144, 168), Image.ANTIALIAS)"
   ]
  },
  {
   "cell_type": "code",
   "execution_count": 53,
   "metadata": {},
   "outputs": [
    {
     "data": {
      "text/html": [
       "<div>\n",
       "<style scoped>\n",
       "    .dataframe tbody tr th:only-of-type {\n",
       "        vertical-align: middle;\n",
       "    }\n",
       "\n",
       "    .dataframe tbody tr th {\n",
       "        vertical-align: top;\n",
       "    }\n",
       "\n",
       "    .dataframe thead th {\n",
       "        text-align: right;\n",
       "    }\n",
       "</style>\n",
       "<table border=\"1\" class=\"dataframe\">\n",
       "  <thead>\n",
       "    <tr style=\"text-align: right;\">\n",
       "      <th></th>\n",
       "      <th>playerId</th>\n",
       "      <th>x</th>\n",
       "      <th>y</th>\n",
       "      <th>total</th>\n",
       "      <th>x_loc_m</th>\n",
       "      <th>y_loc_m</th>\n",
       "      <th>y1</th>\n",
       "      <th>player_name</th>\n",
       "    </tr>\n",
       "  </thead>\n",
       "  <tbody>\n",
       "    <tr>\n",
       "      <th>0</th>\n",
       "      <td>29463</td>\n",
       "      <td>64.315152</td>\n",
       "      <td>47.203030</td>\n",
       "      <td>33</td>\n",
       "      <td>66.887758</td>\n",
       "      <td>32.098061</td>\n",
       "      <td>35.901939</td>\n",
       "      <td>Willian</td>\n",
       "    </tr>\n",
       "    <tr>\n",
       "      <th>1</th>\n",
       "      <td>44120</td>\n",
       "      <td>64.253846</td>\n",
       "      <td>79.073077</td>\n",
       "      <td>26</td>\n",
       "      <td>66.824000</td>\n",
       "      <td>53.769692</td>\n",
       "      <td>14.230308</td>\n",
       "      <td>Pierre-Emerick Aubameyang</td>\n",
       "    </tr>\n",
       "    <tr>\n",
       "      <th>2</th>\n",
       "      <td>73078</td>\n",
       "      <td>60.947826</td>\n",
       "      <td>51.113043</td>\n",
       "      <td>23</td>\n",
       "      <td>63.385739</td>\n",
       "      <td>34.756870</td>\n",
       "      <td>33.243130</td>\n",
       "      <td>Alexandre Lacazette</td>\n",
       "    </tr>\n",
       "    <tr>\n",
       "      <th>3</th>\n",
       "      <td>89401</td>\n",
       "      <td>50.058252</td>\n",
       "      <td>59.118447</td>\n",
       "      <td>103</td>\n",
       "      <td>52.060583</td>\n",
       "      <td>40.200544</td>\n",
       "      <td>27.799456</td>\n",
       "      <td>Granit Xhaka</td>\n",
       "    </tr>\n",
       "    <tr>\n",
       "      <th>4</th>\n",
       "      <td>92173</td>\n",
       "      <td>13.261765</td>\n",
       "      <td>49.426471</td>\n",
       "      <td>34</td>\n",
       "      <td>13.792235</td>\n",
       "      <td>33.610000</td>\n",
       "      <td>34.390000</td>\n",
       "      <td>Bernd Leno</td>\n",
       "    </tr>\n",
       "    <tr>\n",
       "      <th>5</th>\n",
       "      <td>110260</td>\n",
       "      <td>49.836364</td>\n",
       "      <td>85.054545</td>\n",
       "      <td>55</td>\n",
       "      <td>51.829818</td>\n",
       "      <td>57.837091</td>\n",
       "      <td>10.162909</td>\n",
       "      <td>Sead Kolasinac</td>\n",
       "    </tr>\n",
       "    <tr>\n",
       "      <th>6</th>\n",
       "      <td>125211</td>\n",
       "      <td>50.797500</td>\n",
       "      <td>11.150000</td>\n",
       "      <td>40</td>\n",
       "      <td>52.829400</td>\n",
       "      <td>7.582000</td>\n",
       "      <td>60.418000</td>\n",
       "      <td>Héctor Bellerín</td>\n",
       "    </tr>\n",
       "    <tr>\n",
       "      <th>7</th>\n",
       "      <td>144890</td>\n",
       "      <td>52.281319</td>\n",
       "      <td>46.629670</td>\n",
       "      <td>91</td>\n",
       "      <td>54.372571</td>\n",
       "      <td>31.708176</td>\n",
       "      <td>36.291824</td>\n",
       "      <td>Dani Ceballos</td>\n",
       "    </tr>\n",
       "    <tr>\n",
       "      <th>8</th>\n",
       "      <td>288795</td>\n",
       "      <td>31.876563</td>\n",
       "      <td>26.679687</td>\n",
       "      <td>64</td>\n",
       "      <td>33.151625</td>\n",
       "      <td>18.142187</td>\n",
       "      <td>49.857813</td>\n",
       "      <td>Rob Holding</td>\n",
       "    </tr>\n",
       "    <tr>\n",
       "      <th>9</th>\n",
       "      <td>334087</td>\n",
       "      <td>34.587500</td>\n",
       "      <td>65.684722</td>\n",
       "      <td>72</td>\n",
       "      <td>35.971000</td>\n",
       "      <td>44.665611</td>\n",
       "      <td>23.334389</td>\n",
       "      <td>Gabriel Magalhães</td>\n",
       "    </tr>\n",
       "    <tr>\n",
       "      <th>10</th>\n",
       "      <td>367185</td>\n",
       "      <td>54.406061</td>\n",
       "      <td>87.260606</td>\n",
       "      <td>33</td>\n",
       "      <td>56.582303</td>\n",
       "      <td>59.337212</td>\n",
       "      <td>8.662788</td>\n",
       "      <td>Bukayo Saka</td>\n",
       "    </tr>\n",
       "  </tbody>\n",
       "</table>\n",
       "</div>"
      ],
      "text/plain": [
       "    playerId          x          y  total    x_loc_m    y_loc_m         y1  \\\n",
       "0      29463  64.315152  47.203030     33  66.887758  32.098061  35.901939   \n",
       "1      44120  64.253846  79.073077     26  66.824000  53.769692  14.230308   \n",
       "2      73078  60.947826  51.113043     23  63.385739  34.756870  33.243130   \n",
       "3      89401  50.058252  59.118447    103  52.060583  40.200544  27.799456   \n",
       "4      92173  13.261765  49.426471     34  13.792235  33.610000  34.390000   \n",
       "5     110260  49.836364  85.054545     55  51.829818  57.837091  10.162909   \n",
       "6     125211  50.797500  11.150000     40  52.829400   7.582000  60.418000   \n",
       "7     144890  52.281319  46.629670     91  54.372571  31.708176  36.291824   \n",
       "8     288795  31.876563  26.679687     64  33.151625  18.142187  49.857813   \n",
       "9     334087  34.587500  65.684722     72  35.971000  44.665611  23.334389   \n",
       "10    367185  54.406061  87.260606     33  56.582303  59.337212   8.662788   \n",
       "\n",
       "                  player_name  \n",
       "0                     Willian  \n",
       "1   Pierre-Emerick Aubameyang  \n",
       "2         Alexandre Lacazette  \n",
       "3                Granit Xhaka  \n",
       "4                  Bernd Leno  \n",
       "5              Sead Kolasinac  \n",
       "6             Héctor Bellerín  \n",
       "7               Dani Ceballos  \n",
       "8                 Rob Holding  \n",
       "9           Gabriel Magalhães  \n",
       "10                Bukayo Saka  "
      ]
     },
     "execution_count": 53,
     "metadata": {},
     "output_type": "execute_result"
    }
   ],
   "source": [
    "group2"
   ]
  },
  {
   "cell_type": "code",
   "execution_count": null,
   "metadata": {},
   "outputs": [],
   "source": []
  }
 ],
 "metadata": {
  "kernelspec": {
   "display_name": "Python 3",
   "language": "python",
   "name": "python3"
  },
  "language_info": {
   "codemirror_mode": {
    "name": "ipython",
    "version": 3
   },
   "file_extension": ".py",
   "mimetype": "text/x-python",
   "name": "python",
   "nbconvert_exporter": "python",
   "pygments_lexer": "ipython3",
   "version": "3.7.7"
  }
 },
 "nbformat": 4,
 "nbformat_minor": 4
}
