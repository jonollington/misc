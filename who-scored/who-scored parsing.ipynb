{
 "cells": [
  {
   "cell_type": "code",
   "execution_count": 1,
   "metadata": {},
   "outputs": [],
   "source": [
    "from selenium import webdriver\n",
    "from selenium.webdriver.common.keys import Keys\n",
    "from selenium.webdriver.common.desired_capabilities import DesiredCapabilities\n",
    "import json\n",
    "from webdriver_manager.chrome import ChromeDriverManager\n",
    "from pandas.io.json import json_normalize\n",
    "import pandas as pd"
   ]
  },
  {
   "cell_type": "code",
   "execution_count": 2,
   "metadata": {},
   "outputs": [],
   "source": [
    "# driver = webdriver.Chrome(ChromeDriverManager().install())\n",
    "\n",
    "# driver.get('https://www.whoscored.com/Matches/1476421/Live/England-Community-Shield-2019-2020-Arsenal-Liverpool')\n",
    "# data = driver.execute_script(\"return matchCentreData;\")\n",
    "\n",
    "# with open('data.json', 'w', encoding='utf-8') as f:\n",
    "#     json.dump(data, f, ensure_ascii=False, indent=4)\n",
    "       \n",
    "# driver.close()"
   ]
  },
  {
   "cell_type": "code",
   "execution_count": 6,
   "metadata": {},
   "outputs": [],
   "source": [
    "lookup_dictionary = {int(key): value for key, \n",
    "                     value in data['playerIdNameDictionary'].items()}"
   ]
  },
  {
   "cell_type": "code",
   "execution_count": 10,
   "metadata": {},
   "outputs": [],
   "source": [
    "with open('data.json') as json_file:\n",
    "    data = json.load(json_file)\n",
    "\n",
    "event = []\n",
    "minute = []\n",
    "second = []\n",
    "player = []\n",
    "team = []\n",
    "outcome = []\n",
    "x = []\n",
    "y = []\n",
    "endX = []\n",
    "endY = []\n",
    "passtype = []\n",
    "\n",
    "\n",
    "for each in data['events']:\n",
    "    event.append(each['type']['displayName'])\n",
    "    try:\n",
    "        minute.append(each['minute'])\n",
    "    except:\n",
    "        minute.append('')\n",
    "    try:\n",
    "        second.append(each['second'])\n",
    "    except:\n",
    "        second.append('')\n",
    "    try:\n",
    "        player.append(each['playerId'])\n",
    "    except:\n",
    "        player.append('')\n",
    "    try:\n",
    "        team.append(each['teamId'])\n",
    "    except:\n",
    "        team.append('')\n",
    "    try:\n",
    "        endX.append(each['endX'])\n",
    "        endY.append(each['endY'])\n",
    "    except:\n",
    "        endX.append('')\n",
    "        endY.append('')\n",
    "    outcome.append(each['outcomeType']['displayName'])\n",
    "    x.append(each['x'])\n",
    "    y.append(each['y'])\n",
    "\n",
    "    for key, value in each.items():\n",
    "        passType = 'OpenPlay'\n",
    "        if key == 'qualifiers':\n",
    "            for item in value:\n",
    "                if item['type']['displayName'] == 'CornerTaken':\n",
    "                    passType = item['type']['displayName']\n",
    "                elif item['type']['displayName'] == 'ThrowIn':\n",
    "                    passType = item['type']['displayName']\n",
    "            passtype.append(passType)\n",
    "                \n",
    "events = pd.DataFrame({'Event':event, 'Minute':minute, 'Second':second, 'Player':player, 'Team':team,\n",
    "                       'Outcome':outcome, 'X':x, 'Y':y,'endX':endX, 'endY':endY, 'passtype':passtype})"
   ]
  },
  {
   "cell_type": "code",
   "execution_count": 15,
   "metadata": {},
   "outputs": [],
   "source": [
    "data_to_save = []\n",
    "\n",
    "for index, data in zip(df.index, df[['Player', 'Outcome']].values):\n",
    "    # Player Value\n",
    "    player = data[0]\n",
    "    # Outcome Value\n",
    "    outcome = data[1]\n",
    "    \n",
    "    if outcome == 'Successful' and index < 1142:\n",
    "        value = df.loc[index + 1 ,'Player']\n",
    "        data_to_save.append((index, value))"
   ]
  },
  {
   "cell_type": "code",
   "execution_count": 16,
   "metadata": {},
   "outputs": [],
   "source": [
    "df['Recipient'] = np.nan"
   ]
  },
  {
   "cell_type": "code",
   "execution_count": 17,
   "metadata": {},
   "outputs": [],
   "source": [
    "for index, data in data_to_save:\n",
    "    df.loc[index, 'Recipient'] = data"
   ]
  },
  {
   "cell_type": "code",
   "execution_count": 19,
   "metadata": {},
   "outputs": [],
   "source": [
    "df['Pass Recipient Name'] = df['Recipient'].map(lookup_dictionary)"
   ]
  },
  {
   "cell_type": "code",
   "execution_count": 20,
   "metadata": {},
   "outputs": [],
   "source": [
    "df['Player Name'] = df['Player'].map(lookup_dictionary)"
   ]
  },
  {
   "cell_type": "code",
   "execution_count": 47,
   "metadata": {},
   "outputs": [],
   "source": [
    "with open('data.json') as json_file:\n",
    "    data = json.load(json_file)\n",
    "    \n",
    "formation = []\n",
    "number = []\n",
    "playerid = []\n",
    "\n",
    "for team_type in ['home', 'away']:\n",
    "    for _ in data[team_type]['formations']:\n",
    "        formation.append(_['formationSlots'])\n",
    "        number.append(_['jerseyNumbers'])\n",
    "        playerid.append(_['playerIds'])\n",
    "        \n",
    "\n",
    "             \n",
    "lineup = pd.DataFrame({'formation':formation, 'number':number, 'playerid':playerid})"
   ]
  },
  {
   "cell_type": "code",
   "execution_count": 50,
   "metadata": {},
   "outputs": [],
   "source": [
    "playerid = lineup['playerid'][0][:11]\n",
    "number = lineup['number'][0][:11]"
   ]
  },
  {
   "cell_type": "code",
   "execution_count": 44,
   "metadata": {},
   "outputs": [],
   "source": [
    "dictionary = dict(zip(number, playerid))"
   ]
  },
  {
   "cell_type": "code",
   "execution_count": 45,
   "metadata": {},
   "outputs": [
    {
     "data": {
      "text/plain": [
       "{26: 102248,\n",
       " 2: 125211,\n",
       " 15: 255169,\n",
       " 3: 297403,\n",
       " 23: 27586,\n",
       " 16: 288795,\n",
       " 25: 125209,\n",
       " 34: 89401,\n",
       " 30: 345845,\n",
       " 7: 367185,\n",
       " 14: 44120}"
      ]
     },
     "execution_count": 45,
     "metadata": {},
     "output_type": "execute_result"
    }
   ],
   "source": [
    "dictionary"
   ]
  }
 ],
 "metadata": {
  "kernelspec": {
   "display_name": "Python 3",
   "language": "python",
   "name": "python3"
  },
  "language_info": {
   "codemirror_mode": {
    "name": "ipython",
    "version": 3
   },
   "file_extension": ".py",
   "mimetype": "text/x-python",
   "name": "python",
   "nbconvert_exporter": "python",
   "pygments_lexer": "ipython3",
   "version": "3.7.7"
  }
 },
 "nbformat": 4,
 "nbformat_minor": 4
}
