{
 "cells": [
  {
   "cell_type": "code",
   "execution_count": 3,
   "metadata": {},
   "outputs": [],
   "source": [
    "from selenium import webdriver\n",
    "from selenium.webdriver.common.keys import Keys\n",
    "from selenium.webdriver.common.desired_capabilities import DesiredCapabilities\n",
    "import json\n",
    "from webdriver_manager.chrome import ChromeDriverManager\n",
    "from pandas.io.json import json_normalize\n",
    "import pandas as pd"
   ]
  },
  {
   "cell_type": "code",
   "execution_count": 2,
   "metadata": {},
   "outputs": [],
   "source": [
    "# chrome_options = webdriver.ChromeOptions()\n",
    "# chrome_options.set_capability('browserless.token', '2a8ee308-e21e-4e33-9185-159ee787285f')\n",
    "# chrome_options.add_argument(\"--no-sandbox\")\n",
    "# chrome_options.add_argument(\"--headless\")\n",
    "\n",
    "# driver = webdriver.Remote(\n",
    "#   command_executor='https://chrome.browserless.io/webdriver',\n",
    "#   desired_capabilities=chrome_options.to_capabilities()\n",
    "# )\n",
    "\n",
    "# driver.get(\"https://www.whoscored.com/Matches/1485203/Live/England-Premier-League-2020-2021-Wolverhampton-Wanderers-Manchester-City\", verify=False)\n",
    "# data = driver.execute_script(\"return matchCentreData;\")\n",
    "\n",
    "# with open('data.json', 'w', encoding='utf-8') as f:\n",
    "#     json.dump(data, f, ensure_ascii=False, indent=4)\n",
    "       \n",
    "# driver.quit()"
   ]
  },
  {
   "cell_type": "code",
   "execution_count": 3,
   "metadata": {},
   "outputs": [
    {
     "name": "stderr",
     "output_type": "stream",
     "text": [
      "[WDM] - Current google-chrome version is 85.0.4183\n",
      "[WDM] - Get LATEST driver version for 85.0.4183\n",
      "[WDM] - Get LATEST driver version for 85.0.4183\n",
      "[WDM] - Trying to download new driver from http://chromedriver.storage.googleapis.com/85.0.4183.87/chromedriver_mac64.zip\n"
     ]
    },
    {
     "name": "stdout",
     "output_type": "stream",
     "text": [
      " \n"
     ]
    },
    {
     "name": "stderr",
     "output_type": "stream",
     "text": [
      "[WDM] - Driver has been saved in cache [/Users/ollinj01/.wdm/drivers/chromedriver/mac64/85.0.4183.87]\n"
     ]
    }
   ],
   "source": [
    "driver = webdriver.Chrome(ChromeDriverManager().install())\n",
    "\n",
    "driver.get('https://www.whoscored.com/Matches/1394140/Live/Spain-LaLiga-2019-2020-Atletico-Madrid-Getafe')\n",
    "data = driver.execute_script(\"return matchCentreData;\")\n",
    "\n",
    "with open('data.json', 'w', encoding='utf-8') as f:\n",
    "    json.dump(data, f, ensure_ascii=False, indent=4)\n",
    "       \n",
    "driver.close()"
   ]
  },
  {
   "cell_type": "code",
   "execution_count": 4,
   "metadata": {},
   "outputs": [],
   "source": [
    "home_team, away_team = data[\"home\"][\"name\"], data[\"away\"][\"name\"]\n",
    "with open(f\"{home_team}_{away_team}.json\", \"w\") as f: ## save as Arsenal_Liverpool.json in present directory\n",
    "    json.dump(data, f, indent=4)"
   ]
  },
  {
   "cell_type": "code",
   "execution_count": 4,
   "metadata": {},
   "outputs": [],
   "source": [
    "with open('Atletico_Getafe.json') as json_file:\n",
    "    data = json.load(json_file)\n",
    "\n",
    "event = []\n",
    "minute = []\n",
    "second = []\n",
    "player = []\n",
    "team = []\n",
    "outcome = []\n",
    "x = []\n",
    "y = []\n",
    "endX = []\n",
    "endY = []\n",
    "passtype = []\n",
    "\n",
    "\n",
    "for each in data['events']:\n",
    "    event.append(each['type']['displayName'])\n",
    "    try:\n",
    "        minute.append(each['minute'])\n",
    "    except:\n",
    "        minute.append('')\n",
    "    try:\n",
    "        second.append(each['second'])\n",
    "    except:\n",
    "        second.append('')\n",
    "    try:\n",
    "        player.append(each['playerId'])\n",
    "    except:\n",
    "        player.append('')\n",
    "    try:\n",
    "        team.append(each['teamId'])\n",
    "    except:\n",
    "        team.append('')\n",
    "    try:\n",
    "        endX.append(each['endX'])\n",
    "        endY.append(each['endY'])\n",
    "    except:\n",
    "        endX.append('')\n",
    "        endY.append('')\n",
    "    outcome.append(each['outcomeType']['displayName'])\n",
    "    x.append(each['x'])\n",
    "    y.append(each['y'])\n",
    "\n",
    "    for key, value in each.items():\n",
    "        passType = 'OpenPlay'\n",
    "        if key == 'qualifiers':\n",
    "            for item in value:\n",
    "                if item['type']['displayName'] == 'CornerTaken':\n",
    "                    passType = item['type']['displayName']\n",
    "                elif item['type']['displayName'] == 'ThrowIn':\n",
    "                    passType = item['type']['displayName']\n",
    "            passtype.append(passType)\n",
    "                \n",
    "events = pd.DataFrame({'Event':event, 'Minute':minute, 'Second':second, 'Player':player, 'Team':team,\n",
    "                       'Outcome':outcome, 'X':x, 'Y':y,'endX':endX, 'endY':endY, 'passtype':passtype})"
   ]
  },
  {
   "cell_type": "code",
   "execution_count": null,
   "metadata": {},
   "outputs": [],
   "source": []
  }
 ],
 "metadata": {
  "kernelspec": {
   "display_name": "Python 3",
   "language": "python",
   "name": "python3"
  },
  "language_info": {
   "codemirror_mode": {
    "name": "ipython",
    "version": 3
   },
   "file_extension": ".py",
   "mimetype": "text/x-python",
   "name": "python",
   "nbconvert_exporter": "python",
   "pygments_lexer": "ipython3",
   "version": "3.7.7"
  }
 },
 "nbformat": 4,
 "nbformat_minor": 4
}
