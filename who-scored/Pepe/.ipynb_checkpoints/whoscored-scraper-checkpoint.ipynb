{
 "cells": [
  {
   "cell_type": "code",
   "execution_count": 1,
   "metadata": {},
   "outputs": [],
   "source": [
    "from selenium import webdriver\n",
    "from selenium.webdriver.common.keys import Keys\n",
    "from selenium.webdriver.common.desired_capabilities import DesiredCapabilities\n",
    "import json\n",
    "from webdriver_manager.chrome import ChromeDriverManager\n",
    "from pandas.io.json import json_normalize\n",
    "import pandas as pd"
   ]
  },
  {
   "cell_type": "code",
   "execution_count": 2,
   "metadata": {},
   "outputs": [
    {
     "name": "stderr",
     "output_type": "stream",
     "text": [
      "[WDM] - Current google-chrome version is 86.0.4240\n",
      "[WDM] - Get LATEST driver version for 86.0.4240\n",
      "[WDM] - There is no [mac64] chromedriver for browser 86.0.4240 in cache\n",
      "[WDM] - Get LATEST driver version for 86.0.4240\n",
      "[WDM] - Trying to download new driver from http://chromedriver.storage.googleapis.com/86.0.4240.22/chromedriver_mac64.zip\n"
     ]
    },
    {
     "name": "stdout",
     "output_type": "stream",
     "text": [
      " \n"
     ]
    },
    {
     "name": "stderr",
     "output_type": "stream",
     "text": [
      "[WDM] - Driver has been saved in cache [/Users/ollinj01/.wdm/drivers/chromedriver/mac64/86.0.4240.22]\n"
     ]
    }
   ],
   "source": [
    "driver = webdriver.Chrome(ChromeDriverManager().install())\n",
    "\n",
    "driver.get('https://www.whoscored.com/Matches/1281211/Live/France-Ligue-1-2018-2019-Lille-Rennes')\n",
    "data = driver.execute_script(\"return matchCentreData;\")\n",
    "\n",
    "with open('data.json', 'w', encoding='utf-8') as f:\n",
    "    json.dump(data, f, ensure_ascii=False, indent=4)\n",
    "       \n",
    "driver.close()"
   ]
  },
  {
   "cell_type": "code",
   "execution_count": 3,
   "metadata": {},
   "outputs": [],
   "source": [
    "home_team, away_team = data[\"home\"][\"name\"], data[\"away\"][\"name\"]\n",
    "with open(f\"{home_team}_{away_team}.json\", \"w\") as f: ## save as Arsenal_Liverpool.json in present directory\n",
    "    json.dump(data, f, indent=4)"
   ]
  },
  {
   "cell_type": "code",
   "execution_count": 4,
   "metadata": {},
   "outputs": [],
   "source": [
    "with open('Lille_Rennes.json') as json_file:\n",
    "    data = json.load(json_file)\n",
    "\n",
    "event = []\n",
    "minute = []\n",
    "second = []\n",
    "player = []\n",
    "team = []\n",
    "outcome = []\n",
    "x = []\n",
    "y = []\n",
    "endX = []\n",
    "endY = []\n",
    "passtype = []\n",
    "\n",
    "\n",
    "for each in data['events']:\n",
    "    event.append(each['type']['displayName'])\n",
    "    try:\n",
    "        minute.append(each['minute'])\n",
    "    except:\n",
    "        minute.append('')\n",
    "    try:\n",
    "        second.append(each['second'])\n",
    "    except:\n",
    "        second.append('')\n",
    "    try:\n",
    "        player.append(each['playerId'])\n",
    "    except:\n",
    "        player.append('')\n",
    "    try:\n",
    "        team.append(each['teamId'])\n",
    "    except:\n",
    "        team.append('')\n",
    "    try:\n",
    "        endX.append(each['endX'])\n",
    "        endY.append(each['endY'])\n",
    "    except:\n",
    "        endX.append('')\n",
    "        endY.append('')\n",
    "    outcome.append(each['outcomeType']['displayName'])\n",
    "    x.append(each['x'])\n",
    "    y.append(each['y'])\n",
    "\n",
    "    for key, value in each.items():\n",
    "        passType = 'OpenPlay'\n",
    "        if key == 'qualifiers':\n",
    "            for item in value:\n",
    "                if item['type']['displayName'] == 'CornerTaken':\n",
    "                    passType = item['type']['displayName']\n",
    "                elif item['type']['displayName'] == 'ThrowIn':\n",
    "                    passType = item['type']['displayName']\n",
    "            passtype.append(passType)\n",
    "                \n",
    "events = pd.DataFrame({'Event':event, 'Minute':minute, 'Second':second, 'Player':player, 'Team':team,\n",
    "                       'Outcome':outcome, 'X':x, 'Y':y,'endX':endX, 'endY':endY, 'passtype':passtype})"
   ]
  },
  {
   "cell_type": "code",
   "execution_count": 6,
   "metadata": {},
   "outputs": [
    {
     "data": {
      "text/plain": [
       "Pass               926\n",
       "BallRecovery       103\n",
       "BallTouch           53\n",
       "Foul                50\n",
       "Aerial              40\n",
       "TakeOn              29\n",
       "Clearance           29\n",
       "Tackle              28\n",
       "Interception        28\n",
       "Dispossessed        20\n",
       "CornerAwarded       16\n",
       "BlockedPass         15\n",
       "Challenge           15\n",
       "Save                13\n",
       "SavedShot           13\n",
       "KeeperPickup        12\n",
       "End                  6\n",
       "SubstitutionOn       5\n",
       "MissedShots          5\n",
       "SubstitutionOff      5\n",
       "Goal                 4\n",
       "Start                4\n",
       "Claim                2\n",
       "OffsideProvoked      2\n",
       "OffsideGiven         2\n",
       "FormationSet         2\n",
       "OffsidePass          2\n",
       "ShieldBallOpp        1\n",
       "Card                 1\n",
       "ShotOnPost           1\n",
       "Error                1\n",
       "GoodSkill            1\n",
       "Name: Event, dtype: int64"
      ]
     },
     "execution_count": 6,
     "metadata": {},
     "output_type": "execute_result"
    }
   ],
   "source": [
    "events.Event.value_counts()"
   ]
  },
  {
   "cell_type": "code",
   "execution_count": 41,
   "metadata": {},
   "outputs": [],
   "source": [
    "events.to_csv('Lokomotiv Moscow_Atletico.csv', index=False)"
   ]
  },
  {
   "cell_type": "code",
   "execution_count": 42,
   "metadata": {},
   "outputs": [],
   "source": [
    "import os\n",
    "import glob\n",
    "import pandas as pd"
   ]
  },
  {
   "cell_type": "code",
   "execution_count": 43,
   "metadata": {},
   "outputs": [],
   "source": [
    "extension = 'csv'\n",
    "all_filenames = [i for i in glob.glob('*.{}'.format(extension))]\n",
    "\n",
    "#combine all files in the list\n",
    "combined_csv = pd.concat([pd.read_csv(f) for f in all_filenames ])\n",
    "#export to csv\n",
    "combined_csv.to_csv( \"partey_all1.csv\", index=False, encoding='utf-8-sig')"
   ]
  },
  {
   "cell_type": "code",
   "execution_count": null,
   "metadata": {},
   "outputs": [],
   "source": []
  }
 ],
 "metadata": {
  "kernelspec": {
   "display_name": "Python 3",
   "language": "python",
   "name": "python3"
  },
  "language_info": {
   "codemirror_mode": {
    "name": "ipython",
    "version": 3
   },
   "file_extension": ".py",
   "mimetype": "text/x-python",
   "name": "python",
   "nbconvert_exporter": "python",
   "pygments_lexer": "ipython3",
   "version": "3.7.7"
  }
 },
 "nbformat": 4,
 "nbformat_minor": 4
}
