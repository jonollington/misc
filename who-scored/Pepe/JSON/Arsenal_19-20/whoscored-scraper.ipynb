{
 "cells": [
  {
   "cell_type": "code",
   "execution_count": 1,
   "metadata": {},
   "outputs": [],
   "source": [
    "from selenium import webdriver\n",
    "from selenium.webdriver.common.keys import Keys\n",
    "from selenium.webdriver.common.desired_capabilities import DesiredCapabilities\n",
    "import json\n",
    "from webdriver_manager.chrome import ChromeDriverManager\n",
    "from pandas.io.json import json_normalize\n",
    "import pandas as pd"
   ]
  },
  {
   "cell_type": "code",
   "execution_count": 18,
   "metadata": {},
   "outputs": [
    {
     "name": "stderr",
     "output_type": "stream",
     "text": [
      "[WDM] - Current google-chrome version is 86.0.4240\n",
      "[WDM] - Get LATEST driver version for 86.0.4240\n",
      "[WDM] - Driver [/Users/ollinj01/.wdm/drivers/chromedriver/mac64/86.0.4240.22/chromedriver] found in cache\n"
     ]
    },
    {
     "name": "stdout",
     "output_type": "stream",
     "text": [
      " \n"
     ]
    }
   ],
   "source": [
    "driver = webdriver.Chrome(ChromeDriverManager().install())\n",
    "\n",
    "driver.get('https://www.whoscored.com/Matches/1469516/Live/England-FA-Cup-2019-2020-Arsenal-Chelsea')\n",
    "data = driver.execute_script(\"return matchCentreData;\")\n",
    "\n",
    "with open('data.json', 'w', encoding='utf-8') as f:\n",
    "    json.dump(data, f, ensure_ascii=False, indent=4)\n",
    "       \n",
    "driver.close()"
   ]
  },
  {
   "cell_type": "code",
   "execution_count": 19,
   "metadata": {},
   "outputs": [],
   "source": [
    "home_team, away_team = data[\"home\"][\"name\"], data[\"away\"][\"name\"]\n",
    "with open(f\"{home_team}_{away_team}.json\", \"w\") as f: ## save as Arsenal_Liverpool.json in present directory\n",
    "    json.dump(data, f, indent=4)"
   ]
  },
  {
   "cell_type": "code",
   "execution_count": 5,
   "metadata": {},
   "outputs": [],
   "source": [
    "# data['events']"
   ]
  },
  {
   "cell_type": "code",
   "execution_count": 6,
   "metadata": {},
   "outputs": [],
   "source": [
    "# df = json_normalize(data[\"events\"], sep=\"_\")"
   ]
  },
  {
   "cell_type": "code",
   "execution_count": 7,
   "metadata": {},
   "outputs": [],
   "source": [
    "# df.isGoal.value_counts()"
   ]
  },
  {
   "cell_type": "code",
   "execution_count": 8,
   "metadata": {},
   "outputs": [],
   "source": [
    "# df['Assist'] = df['isGoal'].shift(-1)"
   ]
  },
  {
   "cell_type": "code",
   "execution_count": 9,
   "metadata": {},
   "outputs": [],
   "source": [
    "# mask1 = df['Assist'] == True\n",
    "# df.loc[mask1]"
   ]
  },
  {
   "cell_type": "code",
   "execution_count": 10,
   "metadata": {},
   "outputs": [],
   "source": [
    "# mask = (df['playerId'] == 239872) & (df['Assist'] == True)\n",
    "# pepe = df.loc[mask]\n",
    "# pepe"
   ]
  },
  {
   "cell_type": "code",
   "execution_count": 94,
   "metadata": {},
   "outputs": [],
   "source": [
    "with open('Arsenal_Bou.json') as json_file:\n",
    "    data = json.load(json_file)\n",
    "\n",
    "event = []\n",
    "minute = []\n",
    "second = []\n",
    "player = []\n",
    "team = []\n",
    "outcome = []\n",
    "x = []\n",
    "y = []\n",
    "endX = []\n",
    "endY = []\n",
    "passtype = []\n",
    "\n",
    "\n",
    "for each in data['events']:\n",
    "    event.append(each['type']['displayName'])\n",
    "    try:\n",
    "        minute.append(each['minute'])\n",
    "    except:\n",
    "        minute.append('')\n",
    "    try:\n",
    "        second.append(each['second'])\n",
    "    except:\n",
    "        second.append('')\n",
    "    try:\n",
    "        player.append(each['playerId'])\n",
    "    except:\n",
    "        player.append('')\n",
    "    try:\n",
    "        team.append(each['teamId'])\n",
    "    except:\n",
    "        team.append('')\n",
    "    try:\n",
    "        endX.append(each['endX'])\n",
    "        endY.append(each['endY'])\n",
    "    except:\n",
    "        endX.append('')\n",
    "        endY.append('')\n",
    "    outcome.append(each['outcomeType']['displayName'])\n",
    "    x.append(each['x'])\n",
    "    y.append(each['y'])\n",
    "\n",
    "    for key, value in each.items():\n",
    "        passType = 'OpenPlay'\n",
    "        if key == 'qualifiers':\n",
    "            for item in value:\n",
    "                if item['type']['displayName'] == 'BigChanceCreated':\n",
    "                    passType = item['type']['displayName']\n",
    "                if item['type']['displayName'] == 'ShotAssist':\n",
    "                    passType = item['type']['displayName']\n",
    "                elif item['type']['displayName'] == 'CornerTaken':\n",
    "                    passType = item['type']['displayName']\n",
    "                elif item['type']['displayName'] == 'ThrowIn':\n",
    "                    passType = item['type']['displayName']\n",
    "            passtype.append(passType)\n",
    "                \n",
    "events = pd.DataFrame({'Event':event, 'Minute':minute, 'Second':second, 'Player':player, 'Team':team,\n",
    "                       'Outcome':outcome, 'X':x, 'Y':y,'endX':endX, 'endY':endY, 'passtype':passtype})"
   ]
  },
  {
   "cell_type": "code",
   "execution_count": 95,
   "metadata": {},
   "outputs": [],
   "source": [
    "# data['events']"
   ]
  },
  {
   "cell_type": "code",
   "execution_count": 96,
   "metadata": {},
   "outputs": [
    {
     "data": {
      "text/html": [
       "<div>\n",
       "<style scoped>\n",
       "    .dataframe tbody tr th:only-of-type {\n",
       "        vertical-align: middle;\n",
       "    }\n",
       "\n",
       "    .dataframe tbody tr th {\n",
       "        vertical-align: top;\n",
       "    }\n",
       "\n",
       "    .dataframe thead th {\n",
       "        text-align: right;\n",
       "    }\n",
       "</style>\n",
       "<table border=\"1\" class=\"dataframe\">\n",
       "  <thead>\n",
       "    <tr style=\"text-align: right;\">\n",
       "      <th></th>\n",
       "      <th>Event</th>\n",
       "      <th>Minute</th>\n",
       "      <th>Second</th>\n",
       "      <th>Player</th>\n",
       "      <th>Team</th>\n",
       "      <th>Outcome</th>\n",
       "      <th>X</th>\n",
       "      <th>Y</th>\n",
       "      <th>endX</th>\n",
       "      <th>endY</th>\n",
       "      <th>passtype</th>\n",
       "    </tr>\n",
       "  </thead>\n",
       "  <tbody>\n",
       "    <tr>\n",
       "      <th>0</th>\n",
       "      <td>Start</td>\n",
       "      <td>0</td>\n",
       "      <td>0</td>\n",
       "      <td></td>\n",
       "      <td>13</td>\n",
       "      <td>Successful</td>\n",
       "      <td>0.0</td>\n",
       "      <td>0.0</td>\n",
       "      <td></td>\n",
       "      <td></td>\n",
       "      <td>OpenPlay</td>\n",
       "    </tr>\n",
       "    <tr>\n",
       "      <th>1</th>\n",
       "      <td>Start</td>\n",
       "      <td>0</td>\n",
       "      <td>0</td>\n",
       "      <td></td>\n",
       "      <td>107</td>\n",
       "      <td>Successful</td>\n",
       "      <td>0.0</td>\n",
       "      <td>0.0</td>\n",
       "      <td></td>\n",
       "      <td></td>\n",
       "      <td>OpenPlay</td>\n",
       "    </tr>\n",
       "    <tr>\n",
       "      <th>2</th>\n",
       "      <td>Pass</td>\n",
       "      <td>0</td>\n",
       "      <td>1</td>\n",
       "      <td>131079</td>\n",
       "      <td>107</td>\n",
       "      <td>Successful</td>\n",
       "      <td>50.0</td>\n",
       "      <td>50.0</td>\n",
       "      <td>51.8</td>\n",
       "      <td>51.2</td>\n",
       "      <td>OpenPlay</td>\n",
       "    </tr>\n",
       "    <tr>\n",
       "      <th>3</th>\n",
       "      <td>Pass</td>\n",
       "      <td>0</td>\n",
       "      <td>3</td>\n",
       "      <td>344716</td>\n",
       "      <td>107</td>\n",
       "      <td>Successful</td>\n",
       "      <td>47.9</td>\n",
       "      <td>43.4</td>\n",
       "      <td>39.3</td>\n",
       "      <td>30.9</td>\n",
       "      <td>OpenPlay</td>\n",
       "    </tr>\n",
       "    <tr>\n",
       "      <th>4</th>\n",
       "      <td>Pass</td>\n",
       "      <td>0</td>\n",
       "      <td>6</td>\n",
       "      <td>127129</td>\n",
       "      <td>107</td>\n",
       "      <td>Successful</td>\n",
       "      <td>39.3</td>\n",
       "      <td>30.9</td>\n",
       "      <td>32.1</td>\n",
       "      <td>61.5</td>\n",
       "      <td>OpenPlay</td>\n",
       "    </tr>\n",
       "  </tbody>\n",
       "</table>\n",
       "</div>"
      ],
      "text/plain": [
       "   Event  Minute Second  Player  Team     Outcome     X     Y  endX  endY  \\\n",
       "0  Start       0      0            13  Successful   0.0   0.0               \n",
       "1  Start       0      0           107  Successful   0.0   0.0               \n",
       "2   Pass       0      1  131079   107  Successful  50.0  50.0  51.8  51.2   \n",
       "3   Pass       0      3  344716   107  Successful  47.9  43.4  39.3  30.9   \n",
       "4   Pass       0      6  127129   107  Successful  39.3  30.9  32.1  61.5   \n",
       "\n",
       "   passtype  \n",
       "0  OpenPlay  \n",
       "1  OpenPlay  \n",
       "2  OpenPlay  \n",
       "3  OpenPlay  \n",
       "4  OpenPlay  "
      ]
     },
     "execution_count": 96,
     "metadata": {},
     "output_type": "execute_result"
    }
   ],
   "source": [
    "events.head()"
   ]
  },
  {
   "cell_type": "code",
   "execution_count": 97,
   "metadata": {},
   "outputs": [
    {
     "data": {
      "text/html": [
       "<div>\n",
       "<style scoped>\n",
       "    .dataframe tbody tr th:only-of-type {\n",
       "        vertical-align: middle;\n",
       "    }\n",
       "\n",
       "    .dataframe tbody tr th {\n",
       "        vertical-align: top;\n",
       "    }\n",
       "\n",
       "    .dataframe thead th {\n",
       "        text-align: right;\n",
       "    }\n",
       "</style>\n",
       "<table border=\"1\" class=\"dataframe\">\n",
       "  <thead>\n",
       "    <tr style=\"text-align: right;\">\n",
       "      <th></th>\n",
       "      <th>Event</th>\n",
       "      <th>Minute</th>\n",
       "      <th>Second</th>\n",
       "      <th>Player</th>\n",
       "      <th>Team</th>\n",
       "      <th>Outcome</th>\n",
       "      <th>X</th>\n",
       "      <th>Y</th>\n",
       "      <th>endX</th>\n",
       "      <th>endY</th>\n",
       "      <th>passtype</th>\n",
       "    </tr>\n",
       "  </thead>\n",
       "  <tbody>\n",
       "    <tr>\n",
       "      <th>1387</th>\n",
       "      <td>Pass</td>\n",
       "      <td>79</td>\n",
       "      <td>52</td>\n",
       "      <td>239872</td>\n",
       "      <td>13</td>\n",
       "      <td>Successful</td>\n",
       "      <td>75.8</td>\n",
       "      <td>76.7</td>\n",
       "      <td>91.9</td>\n",
       "      <td>44.3</td>\n",
       "      <td>BigChanceCreated</td>\n",
       "    </tr>\n",
       "  </tbody>\n",
       "</table>\n",
       "</div>"
      ],
      "text/plain": [
       "     Event  Minute Second  Player  Team     Outcome     X     Y  endX  endY  \\\n",
       "1387  Pass      79     52  239872    13  Successful  75.8  76.7  91.9  44.3   \n",
       "\n",
       "              passtype  \n",
       "1387  BigChanceCreated  "
      ]
     },
     "execution_count": 97,
     "metadata": {},
     "output_type": "execute_result"
    }
   ],
   "source": [
    "mask = (events['Player'] == 239872) & (events['passtype'] == 'BigChanceCreated')\n",
    "pepe = events.loc[mask]\n",
    "pepe"
   ]
  },
  {
   "cell_type": "code",
   "execution_count": 98,
   "metadata": {},
   "outputs": [
    {
     "data": {
      "text/html": [
       "<div>\n",
       "<style scoped>\n",
       "    .dataframe tbody tr th:only-of-type {\n",
       "        vertical-align: middle;\n",
       "    }\n",
       "\n",
       "    .dataframe tbody tr th {\n",
       "        vertical-align: top;\n",
       "    }\n",
       "\n",
       "    .dataframe thead th {\n",
       "        text-align: right;\n",
       "    }\n",
       "</style>\n",
       "<table border=\"1\" class=\"dataframe\">\n",
       "  <thead>\n",
       "    <tr style=\"text-align: right;\">\n",
       "      <th></th>\n",
       "      <th>Event</th>\n",
       "      <th>Minute</th>\n",
       "      <th>Second</th>\n",
       "      <th>Player</th>\n",
       "      <th>Team</th>\n",
       "      <th>Outcome</th>\n",
       "      <th>X</th>\n",
       "      <th>Y</th>\n",
       "      <th>endX</th>\n",
       "      <th>endY</th>\n",
       "      <th>passtype</th>\n",
       "    </tr>\n",
       "  </thead>\n",
       "  <tbody>\n",
       "    <tr>\n",
       "      <th>1388</th>\n",
       "      <td>Goal</td>\n",
       "      <td>79</td>\n",
       "      <td>55</td>\n",
       "      <td>80921</td>\n",
       "      <td>13</td>\n",
       "      <td>Successful</td>\n",
       "      <td>92.6</td>\n",
       "      <td>45.5</td>\n",
       "      <td></td>\n",
       "      <td></td>\n",
       "      <td>OpenPlay</td>\n",
       "    </tr>\n",
       "    <tr>\n",
       "      <th>1576</th>\n",
       "      <td>Goal</td>\n",
       "      <td>90</td>\n",
       "      <td>43</td>\n",
       "      <td>382261</td>\n",
       "      <td>107</td>\n",
       "      <td>Successful</td>\n",
       "      <td>95.4</td>\n",
       "      <td>46.6</td>\n",
       "      <td></td>\n",
       "      <td></td>\n",
       "      <td>OpenPlay</td>\n",
       "    </tr>\n",
       "  </tbody>\n",
       "</table>\n",
       "</div>"
      ],
      "text/plain": [
       "     Event  Minute Second  Player  Team     Outcome     X     Y endX endY  \\\n",
       "1388  Goal      79     55   80921    13  Successful  92.6  45.5             \n",
       "1576  Goal      90     43  382261   107  Successful  95.4  46.6             \n",
       "\n",
       "      passtype  \n",
       "1388  OpenPlay  \n",
       "1576  OpenPlay  "
      ]
     },
     "execution_count": 98,
     "metadata": {},
     "output_type": "execute_result"
    }
   ],
   "source": [
    "mask = (events['Event'] == 'Goal')\n",
    "goal = events.loc[mask]\n",
    "goal"
   ]
  },
  {
   "cell_type": "code",
   "execution_count": 99,
   "metadata": {},
   "outputs": [],
   "source": [
    "events['Assist'] = (events['Event'] == 'Goal').shift(-1)\n",
    "events['Assist_2nd'] = (events['Event'] == 'Goal').shift(-3)"
   ]
  },
  {
   "cell_type": "code",
   "execution_count": 100,
   "metadata": {},
   "outputs": [
    {
     "data": {
      "text/html": [
       "<div>\n",
       "<style scoped>\n",
       "    .dataframe tbody tr th:only-of-type {\n",
       "        vertical-align: middle;\n",
       "    }\n",
       "\n",
       "    .dataframe tbody tr th {\n",
       "        vertical-align: top;\n",
       "    }\n",
       "\n",
       "    .dataframe thead th {\n",
       "        text-align: right;\n",
       "    }\n",
       "</style>\n",
       "<table border=\"1\" class=\"dataframe\">\n",
       "  <thead>\n",
       "    <tr style=\"text-align: right;\">\n",
       "      <th></th>\n",
       "      <th>Event</th>\n",
       "      <th>Minute</th>\n",
       "      <th>Second</th>\n",
       "      <th>Player</th>\n",
       "      <th>Team</th>\n",
       "      <th>Outcome</th>\n",
       "      <th>X</th>\n",
       "      <th>Y</th>\n",
       "      <th>endX</th>\n",
       "      <th>endY</th>\n",
       "      <th>passtype</th>\n",
       "      <th>Assist</th>\n",
       "      <th>Assist_2nd</th>\n",
       "    </tr>\n",
       "  </thead>\n",
       "  <tbody>\n",
       "  </tbody>\n",
       "</table>\n",
       "</div>"
      ],
      "text/plain": [
       "Empty DataFrame\n",
       "Columns: [Event, Minute, Second, Player, Team, Outcome, X, Y, endX, endY, passtype, Assist, Assist_2nd]\n",
       "Index: []"
      ]
     },
     "execution_count": 100,
     "metadata": {},
     "output_type": "execute_result"
    }
   ],
   "source": [
    "mask = (events['Player'] == 239872) & (events['Event'] == 'Goal')\n",
    "pepe_goal = events.loc[mask]\n",
    "pepe_goal.head()"
   ]
  },
  {
   "cell_type": "code",
   "execution_count": 101,
   "metadata": {},
   "outputs": [
    {
     "data": {
      "text/html": [
       "<div>\n",
       "<style scoped>\n",
       "    .dataframe tbody tr th:only-of-type {\n",
       "        vertical-align: middle;\n",
       "    }\n",
       "\n",
       "    .dataframe tbody tr th {\n",
       "        vertical-align: top;\n",
       "    }\n",
       "\n",
       "    .dataframe thead th {\n",
       "        text-align: right;\n",
       "    }\n",
       "</style>\n",
       "<table border=\"1\" class=\"dataframe\">\n",
       "  <thead>\n",
       "    <tr style=\"text-align: right;\">\n",
       "      <th></th>\n",
       "      <th>Event</th>\n",
       "      <th>Minute</th>\n",
       "      <th>Second</th>\n",
       "      <th>Player</th>\n",
       "      <th>Team</th>\n",
       "      <th>Outcome</th>\n",
       "      <th>X</th>\n",
       "      <th>Y</th>\n",
       "      <th>endX</th>\n",
       "      <th>endY</th>\n",
       "      <th>passtype</th>\n",
       "      <th>Assist</th>\n",
       "      <th>Assist_2nd</th>\n",
       "    </tr>\n",
       "  </thead>\n",
       "  <tbody>\n",
       "    <tr>\n",
       "      <th>1387</th>\n",
       "      <td>Pass</td>\n",
       "      <td>79</td>\n",
       "      <td>52</td>\n",
       "      <td>239872</td>\n",
       "      <td>13</td>\n",
       "      <td>Successful</td>\n",
       "      <td>75.8</td>\n",
       "      <td>76.7</td>\n",
       "      <td>91.9</td>\n",
       "      <td>44.3</td>\n",
       "      <td>BigChanceCreated</td>\n",
       "      <td>True</td>\n",
       "      <td>False</td>\n",
       "    </tr>\n",
       "  </tbody>\n",
       "</table>\n",
       "</div>"
      ],
      "text/plain": [
       "     Event  Minute Second  Player  Team     Outcome     X     Y  endX  endY  \\\n",
       "1387  Pass      79     52  239872    13  Successful  75.8  76.7  91.9  44.3   \n",
       "\n",
       "              passtype Assist Assist_2nd  \n",
       "1387  BigChanceCreated   True      False  "
      ]
     },
     "execution_count": 101,
     "metadata": {},
     "output_type": "execute_result"
    }
   ],
   "source": [
    "mask = (events['Player'] == 239872) & ((events['Assist'] == True) | (events['Assist_2nd'] == True))\n",
    "pepe_assist = events.loc[mask]\n",
    "pepe_assist.head()"
   ]
  },
  {
   "cell_type": "code",
   "execution_count": 102,
   "metadata": {},
   "outputs": [],
   "source": [
    "# mask = (events['Player'] == 239872) & (events['Assist_2nd'] == True)\n",
    "# pepe_assist = events.loc[mask]\n",
    "# pepe_assist.head()"
   ]
  },
  {
   "cell_type": "code",
   "execution_count": 103,
   "metadata": {},
   "outputs": [],
   "source": [
    "events.to_csv('Vitoria de Guimaraes_Arsenal.csv', index=False)"
   ]
  },
  {
   "cell_type": "code",
   "execution_count": 104,
   "metadata": {},
   "outputs": [],
   "source": [
    "import os\n",
    "import glob\n",
    "import pandas as pd"
   ]
  },
  {
   "cell_type": "code",
   "execution_count": 105,
   "metadata": {},
   "outputs": [],
   "source": [
    "extension = 'csv'\n",
    "all_filenames = [i for i in glob.glob('*.{}'.format(extension))]\n",
    "\n",
    "#combine all files in the list\n",
    "combined_csv = pd.concat([pd.read_csv(f) for f in all_filenames ])\n",
    "#export to csv\n",
    "combined_csv.to_csv( \"pepe_arse_all.csv\", index=False, encoding='utf-8-sig')"
   ]
  },
  {
   "cell_type": "code",
   "execution_count": null,
   "metadata": {},
   "outputs": [],
   "source": []
  }
 ],
 "metadata": {
  "kernelspec": {
   "display_name": "Python 3",
   "language": "python",
   "name": "python3"
  },
  "language_info": {
   "codemirror_mode": {
    "name": "ipython",
    "version": 3
   },
   "file_extension": ".py",
   "mimetype": "text/x-python",
   "name": "python",
   "nbconvert_exporter": "python",
   "pygments_lexer": "ipython3",
   "version": "3.7.7"
  }
 },
 "nbformat": 4,
 "nbformat_minor": 4
}
