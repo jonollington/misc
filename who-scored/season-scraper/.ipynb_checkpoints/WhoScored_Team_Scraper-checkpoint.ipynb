{
 "cells": [
  {
   "cell_type": "code",
   "execution_count": 1,
   "metadata": {},
   "outputs": [],
   "source": [
    "from selenium import webdriver\n",
    "from selenium.webdriver.common.keys import Keys\n",
    "from selenium.webdriver.common.action_chains import ActionChains\n",
    "from selenium.common.exceptions import NoSuchElementException\n",
    "from selenium.common.exceptions import StaleElementReferenceException\n",
    "from selenium.webdriver.common.by import By\n",
    "from selenium.webdriver.support.ui import WebDriverWait\n",
    "from selenium.webdriver.support import expected_conditions as EC\n",
    "from bs4 import BeautifulSoup\n",
    "import json\n",
    "import pickle"
   ]
  },
  {
   "cell_type": "code",
   "execution_count": 2,
   "metadata": {},
   "outputs": [
    {
     "name": "stdout",
     "output_type": "stream",
     "text": [
      "The number of match_ids collected are 39\n"
     ]
    }
   ],
   "source": [
    "url = 'https://www.whoscored.com/Teams/3936/Fixtures/England-Fleetwood'\n",
    "match_ids = []\n",
    "\n",
    "driver = webdriver.Chrome()\n",
    "driver.get(url)\n",
    "\n",
    "ignored_exceptions=(NoSuchElementException,StaleElementReferenceException,)\n",
    "\n",
    "driver.implicitly_wait(50)\n",
    "driver.find_element_by_xpath('//button[text()=\"Agree\"]').click()\n",
    "driver.implicitly_wait(50)\n",
    "\n",
    "#wait = WebDriverWait(driver, 50)\n",
    "\n",
    "elm = driver.find_element_by_id(\"team-fixture-tournaments\")\n",
    "val = elm.find_element_by_link_text(\"League One\")\n",
    "val.click()\n",
    "driver.implicitly_wait(50)\n",
    "\n",
    "\n",
    "table_element = driver.find_elements_by_xpath(\"//div[contains(@class, 'divtable-row')]\")\n",
    "\n",
    "for row in table_element:\n",
    "    match_ids.append(row.get_attribute(\"data-id\"))\n",
    "    \n",
    "m = list(filter(None, set(match_ids)))\n",
    "print(\"The number of match_ids collected are {}\".format(len(m)))"
   ]
  },
  {
   "cell_type": "code",
   "execution_count": 3,
   "metadata": {},
   "outputs": [],
   "source": [
    "def Scrape(scrape):\n",
    "    driver = webdriver.Chrome()\n",
    "    driver.implicitly_wait(30)\n",
    "    driver.get(url)\n",
    "\n",
    "    data = driver.page_source\n",
    "    data.split(\"var matchCentreData = \")[1].split(\";\\n\")[0]\n",
    "    df = data.split(\"var matchCentreData = \")[1].split(\";\\n\")[0]\n",
    "    import json\n",
    "    m = {'id': df}\n",
    "    n = json.dumps(m)\n",
    "    o = json.loads(n)\n",
    "    #print (o['id']) \n",
    "     \n",
    "    driver.close()\n",
    "    writeFile =open('Fleetwood_1920/' + matchID + '.json', 'w', encoding='utf-8')\n",
    "    writeFile.write(o['id'])\n",
    "    writeFile.close()"
   ]
  },
  {
   "cell_type": "code",
   "execution_count": 4,
   "metadata": {},
   "outputs": [],
   "source": [
    "for match_id in m:\n",
    "    url = \"http://whoscored.com/matches/{}/Live/\".format(match_id)\n",
    "    urlsplit = url.split(\"/\")\n",
    "    matchID = urlsplit[4]\n",
    "    Scrape(\"scrape\")"
   ]
  }
 ],
 "metadata": {
  "kernelspec": {
   "display_name": "Python 3",
   "language": "python",
   "name": "python3"
  },
  "language_info": {
   "codemirror_mode": {
    "name": "ipython",
    "version": 3
   },
   "file_extension": ".py",
   "mimetype": "text/x-python",
   "name": "python",
   "nbconvert_exporter": "python",
   "pygments_lexer": "ipython3",
   "version": "3.7.7"
  }
 },
 "nbformat": 4,
 "nbformat_minor": 4
}
