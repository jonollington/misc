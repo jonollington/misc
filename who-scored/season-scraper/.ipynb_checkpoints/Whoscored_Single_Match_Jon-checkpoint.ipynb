{
 "cells": [
  {
   "cell_type": "code",
   "execution_count": 1,
   "metadata": {},
   "outputs": [],
   "source": [
    "from selenium import webdriver\n",
    "from selenium.webdriver.common.keys import Keys\n",
    "from bs4 import BeautifulSoup\n",
    "import re\n",
    "import pandas as pd"
   ]
  },
  {
   "cell_type": "markdown",
   "metadata": {},
   "source": [
    "#I created a function that uses chromedriver to enter the page source, get the data we need & save it as a .json file."
   ]
  },
  {
   "cell_type": "code",
   "execution_count": 2,
   "metadata": {},
   "outputs": [],
   "source": [
    "def Scrape(scrape):\n",
    "    driver = webdriver.Chrome()\n",
    "    driver.implicitly_wait(30)\n",
    "    driver.get(url)\n",
    "    driver.get(url)\n",
    "    \n",
    "    \n",
    "    data = driver.page_source\n",
    "    data.split(\"var matchCentreData = \")[1].split(\";\\n\")[0]\n",
    "    df = data.split(\"var matchCentreData = \")[1].split(\";\\n\")[0]\n",
    "    import json\n",
    "    m = {'id': df}\n",
    "    n = json.dumps(m)\n",
    "    o = json.loads(n)\n",
    "    #print (o['id']) \n",
    "\n",
    "    \n",
    "    driver.close()\n",
    "    writeFile =open('folder/' + matchID + '.json', 'w', encoding='utf-8')\n",
    "    writeFile.write(o['id'])\n",
    "    writeFile.close()"
   ]
  },
  {
   "cell_type": "markdown",
   "metadata": {},
   "source": [
    "#For a single match enter your url inbetween the '' and run the cell. Done."
   ]
  },
  {
   "cell_type": "code",
   "execution_count": 3,
   "metadata": {},
   "outputs": [],
   "source": [
    "url = ''\n",
    "urlsplit = url.split(\"/\")\n",
    "matchID = urlsplit[4]\n",
    "Scrape(\"scrape\")"
   ]
  }
 ],
 "metadata": {
  "kernelspec": {
   "display_name": "Python 3",
   "language": "python",
   "name": "python3"
  },
  "language_info": {
   "codemirror_mode": {
    "name": "ipython",
    "version": 3
   },
   "file_extension": ".py",
   "mimetype": "text/x-python",
   "name": "python",
   "nbconvert_exporter": "python",
   "pygments_lexer": "ipython3",
   "version": "3.7.7"
  }
 },
 "nbformat": 4,
 "nbformat_minor": 2
}
