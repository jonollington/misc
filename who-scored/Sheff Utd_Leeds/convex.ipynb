{
 "cells": [
  {
   "cell_type": "code",
   "execution_count": 5,
   "metadata": {},
   "outputs": [],
   "source": [
    "import pandas as pd\n",
    "import numpy as np\n",
    "from pandas.io.json import json_normalize\n",
    "import json\n",
    "import matplotlib.pyplot as plt\n",
    "%matplotlib inline\n",
    "import warnings\n",
    "import matplotlib.patches as patches\n",
    "warnings.filterwarnings(\"ignore\")\n",
    "from mplsoccer.pitch import Pitch\n",
    "plt.style.use('ggplot')\n",
    "from PIL import Image\n",
    "from highlight_text import htext\n",
    "from matplotlib import cm\n",
    "import matplotlib.patheffects as path_effects\n",
    "from scipy.spatial import ConvexHull\n",
    "from matplotlib.patches import Arc\n",
    "%matplotlib inline\n",
    "from matplotlib import cm\n",
    "from matplotlib.colors import ListedColormap, LinearSegmentedColormap\n",
    "import matplotlib.colors"
   ]
  },
  {
   "cell_type": "code",
   "execution_count": 6,
   "metadata": {},
   "outputs": [],
   "source": [
    "with open('Fulham_Arsenal.json') as json_file:\n",
    "    data = json.load(json_file)\n",
    "\n",
    "event = []\n",
    "minute = []\n",
    "second = []\n",
    "player = []\n",
    "team = []\n",
    "outcome = []\n",
    "x = []\n",
    "y = []\n",
    "endX = []\n",
    "endY = []\n",
    "goal = []\n",
    "passtype = []\n",
    "\n",
    "\n",
    "for each in data['events']:\n",
    "    event.append(each['type']['displayName'])\n",
    "    try:\n",
    "        minute.append(each['minute'])\n",
    "    except:\n",
    "        minute.append('')\n",
    "    try:\n",
    "        second.append(each['second'])\n",
    "    except:\n",
    "        second.append('')\n",
    "    try:\n",
    "        player.append(each['playerId'])\n",
    "    except:\n",
    "        player.append('')\n",
    "    try:\n",
    "        team.append(each['teamId'])\n",
    "    except:\n",
    "        team.append('')\n",
    "    try:\n",
    "        endX.append(each['endX'])\n",
    "        endY.append(each['endY'])\n",
    "    except:\n",
    "        endX.append('')\n",
    "        endY.append('')\n",
    "    outcome.append(each['outcomeType']['displayName'])\n",
    "    x.append(each['x'])\n",
    "    y.append(each['y'])\n",
    "\n",
    "    for key, value in each.items():\n",
    "        passType = 'OpenPlay'\n",
    "        if key == 'qualifiers':\n",
    "            for item in value:\n",
    "                if item['type']['displayName'] == 'IntentionalGoalAssist':\n",
    "                    passType = item['type']['displayName']\n",
    "                elif item['type']['displayName'] == 'BigChanceCreated':\n",
    "                    passType = item['type']['displayName']\n",
    "                elif item['type']['displayName'] == 'Assisted':\n",
    "                    passType = item['type']['displayName']\n",
    "            passtype.append(passType)\n",
    "                \n",
    "events = pd.DataFrame({'Event':event, 'Minute':minute, 'Second':second, 'Player':player, 'Team':team, 'Outcome':outcome, 'x':x, 'y':y,\n",
    "                      'endX':endX, 'endY':endY, 'passtype':passtype})"
   ]
  },
  {
   "cell_type": "code",
   "execution_count": 7,
   "metadata": {},
   "outputs": [],
   "source": [
    "# data"
   ]
  },
  {
   "cell_type": "code",
   "execution_count": 8,
   "metadata": {},
   "outputs": [],
   "source": [
    "# '134143': 'Stuart Dallas'\n",
    "# '82877': 'Luke Ayling'"
   ]
  },
  {
   "cell_type": "code",
   "execution_count": 9,
   "metadata": {},
   "outputs": [
    {
     "data": {
      "text/plain": [
       "Pass               1226\n",
       "BallRecovery         88\n",
       "Foul                 48\n",
       "BallTouch            44\n",
       "Interception         28\n",
       "Aerial               26\n",
       "Tackle               23\n",
       "TakeOn               22\n",
       "Clearance            22\n",
       "Dispossessed         14\n",
       "Challenge            12\n",
       "CornerAwarded        10\n",
       "BlockedPass           9\n",
       "SavedShot             9\n",
       "Save                  9\n",
       "KeeperPickup          7\n",
       "SubstitutionOff       6\n",
       "SubstitutionOn        6\n",
       "End                   6\n",
       "MissedShots           5\n",
       "Card                  4\n",
       "OffsideGiven          4\n",
       "Start                 4\n",
       "OffsidePass           4\n",
       "OffsideProvoked       4\n",
       "Goal                  3\n",
       "FormationSet          2\n",
       "Error                 1\n",
       "ShotOnPost            1\n",
       "KeeperSweeper         1\n",
       "Name: Event, dtype: int64"
      ]
     },
     "execution_count": 9,
     "metadata": {},
     "output_type": "execute_result"
    }
   ],
   "source": [
    "events.Event.value_counts()"
   ]
  },
  {
   "cell_type": "code",
   "execution_count": 10,
   "metadata": {},
   "outputs": [
    {
     "data": {
      "text/html": [
       "<div>\n",
       "<style scoped>\n",
       "    .dataframe tbody tr th:only-of-type {\n",
       "        vertical-align: middle;\n",
       "    }\n",
       "\n",
       "    .dataframe tbody tr th {\n",
       "        vertical-align: top;\n",
       "    }\n",
       "\n",
       "    .dataframe thead th {\n",
       "        text-align: right;\n",
       "    }\n",
       "</style>\n",
       "<table border=\"1\" class=\"dataframe\">\n",
       "  <thead>\n",
       "    <tr style=\"text-align: right;\">\n",
       "      <th></th>\n",
       "      <th>Event</th>\n",
       "      <th>Minute</th>\n",
       "      <th>Second</th>\n",
       "      <th>Player</th>\n",
       "      <th>Team</th>\n",
       "      <th>Outcome</th>\n",
       "      <th>x</th>\n",
       "      <th>y</th>\n",
       "      <th>endX</th>\n",
       "      <th>endY</th>\n",
       "      <th>passtype</th>\n",
       "    </tr>\n",
       "  </thead>\n",
       "  <tbody>\n",
       "  </tbody>\n",
       "</table>\n",
       "</div>"
      ],
      "text/plain": [
       "Empty DataFrame\n",
       "Columns: [Event, Minute, Second, Player, Team, Outcome, x, y, endX, endY, passtype]\n",
       "Index: []"
      ]
     },
     "execution_count": 10,
     "metadata": {},
     "output_type": "execute_result"
    }
   ],
   "source": [
    "mask = ((events['Player']==134143) & (events['Event'] == 'Tackle')) | ((events['Player']==134143) & (events['Event'] == 'Challenge')) | ((events['Player']==134143) & (events['Event'] == 'Interception')) | ((events['Player']==134143) & (events['Event'] == 'BlockedPass')) | ((events['Player']==134143) & (events['Event'] == 'BallRecovery')) | ((events['Player']==134143) & (events['Event'] == 'Foul'))\n",
    "dallas = events.loc[mask]\n",
    "dallas"
   ]
  },
  {
   "cell_type": "code",
   "execution_count": 11,
   "metadata": {},
   "outputs": [
    {
     "data": {
      "text/html": [
       "<div>\n",
       "<style scoped>\n",
       "    .dataframe tbody tr th:only-of-type {\n",
       "        vertical-align: middle;\n",
       "    }\n",
       "\n",
       "    .dataframe tbody tr th {\n",
       "        vertical-align: top;\n",
       "    }\n",
       "\n",
       "    .dataframe thead th {\n",
       "        text-align: right;\n",
       "    }\n",
       "</style>\n",
       "<table border=\"1\" class=\"dataframe\">\n",
       "  <thead>\n",
       "    <tr style=\"text-align: right;\">\n",
       "      <th></th>\n",
       "      <th>Event</th>\n",
       "      <th>Minute</th>\n",
       "      <th>Second</th>\n",
       "      <th>Player</th>\n",
       "      <th>Team</th>\n",
       "      <th>Outcome</th>\n",
       "      <th>x</th>\n",
       "      <th>y</th>\n",
       "      <th>endX</th>\n",
       "      <th>endY</th>\n",
       "      <th>passtype</th>\n",
       "    </tr>\n",
       "  </thead>\n",
       "  <tbody>\n",
       "  </tbody>\n",
       "</table>\n",
       "</div>"
      ],
      "text/plain": [
       "Empty DataFrame\n",
       "Columns: [Event, Minute, Second, Player, Team, Outcome, x, y, endX, endY, passtype]\n",
       "Index: []"
      ]
     },
     "execution_count": 11,
     "metadata": {},
     "output_type": "execute_result"
    }
   ],
   "source": [
    "mask = ((events['Player']==82877) & (events['Event'] == 'Tackle')) | ((events['Player']==82877) & (events['Event'] == 'Challenge')) | ((events['Player']==82877) & (events['Event'] == 'Interception')) | ((events['Player']==82877) & (events['Event'] == 'BlockedPass')) | ((events['Player']==82877) & (events['Event'] == 'BallRecovery')) | ((events['Player']==82877) & (events['Event'] == 'Foul'))\n",
    "ayling = events.loc[mask]\n",
    "ayling"
   ]
  },
  {
   "cell_type": "code",
   "execution_count": 12,
   "metadata": {},
   "outputs": [],
   "source": [
    "defpoints = dallas[['x', 'y']].values"
   ]
  },
  {
   "cell_type": "code",
   "execution_count": 13,
   "metadata": {},
   "outputs": [
    {
     "ename": "ValueError",
     "evalue": "No points given",
     "output_type": "error",
     "traceback": [
      "\u001b[0;31m---------------------------------------------------------------------------\u001b[0m",
      "\u001b[0;31mValueError\u001b[0m                                Traceback (most recent call last)",
      "\u001b[0;32m<ipython-input-13-757f056c2834>\u001b[0m in \u001b[0;36m<module>\u001b[0;34m\u001b[0m\n\u001b[0;32m----> 1\u001b[0;31m \u001b[0mhull\u001b[0m \u001b[0;34m=\u001b[0m \u001b[0mConvexHull\u001b[0m\u001b[0;34m(\u001b[0m\u001b[0mdallas\u001b[0m\u001b[0;34m[\u001b[0m\u001b[0;34m[\u001b[0m\u001b[0;34m'x'\u001b[0m\u001b[0;34m,\u001b[0m\u001b[0;34m'y'\u001b[0m\u001b[0;34m]\u001b[0m\u001b[0;34m]\u001b[0m\u001b[0;34m)\u001b[0m\u001b[0;34m\u001b[0m\u001b[0;34m\u001b[0m\u001b[0m\n\u001b[0m",
      "\u001b[0;32mqhull.pyx\u001b[0m in \u001b[0;36mscipy.spatial.qhull.ConvexHull.__init__\u001b[0;34m()\u001b[0m\n",
      "\u001b[0;32mqhull.pyx\u001b[0m in \u001b[0;36mscipy.spatial.qhull._Qhull.__init__\u001b[0;34m()\u001b[0m\n",
      "\u001b[0;31mValueError\u001b[0m: No points given"
     ]
    }
   ],
   "source": [
    "hull = ConvexHull(dallas[['x','y']])"
   ]
  },
  {
   "cell_type": "code",
   "execution_count": 14,
   "metadata": {},
   "outputs": [],
   "source": [
    "defpoints1 = ayling[['x', 'y']].values"
   ]
  },
  {
   "cell_type": "code",
   "execution_count": 15,
   "metadata": {},
   "outputs": [
    {
     "ename": "ValueError",
     "evalue": "No points given",
     "output_type": "error",
     "traceback": [
      "\u001b[0;31m---------------------------------------------------------------------------\u001b[0m",
      "\u001b[0;31mValueError\u001b[0m                                Traceback (most recent call last)",
      "\u001b[0;32m<ipython-input-15-d692f5b11fbd>\u001b[0m in \u001b[0;36m<module>\u001b[0;34m\u001b[0m\n\u001b[0;32m----> 1\u001b[0;31m \u001b[0mhull1\u001b[0m \u001b[0;34m=\u001b[0m \u001b[0mConvexHull\u001b[0m\u001b[0;34m(\u001b[0m\u001b[0mayling\u001b[0m\u001b[0;34m[\u001b[0m\u001b[0;34m[\u001b[0m\u001b[0;34m'x'\u001b[0m\u001b[0;34m,\u001b[0m\u001b[0;34m'y'\u001b[0m\u001b[0;34m]\u001b[0m\u001b[0;34m]\u001b[0m\u001b[0;34m)\u001b[0m\u001b[0;34m\u001b[0m\u001b[0;34m\u001b[0m\u001b[0m\n\u001b[0m",
      "\u001b[0;32mqhull.pyx\u001b[0m in \u001b[0;36mscipy.spatial.qhull.ConvexHull.__init__\u001b[0;34m()\u001b[0m\n",
      "\u001b[0;32mqhull.pyx\u001b[0m in \u001b[0;36mscipy.spatial.qhull._Qhull.__init__\u001b[0;34m()\u001b[0m\n",
      "\u001b[0;31mValueError\u001b[0m: No points given"
     ]
    }
   ],
   "source": [
    "hull1 = ConvexHull(ayling[['x','y']])"
   ]
  },
  {
   "cell_type": "code",
   "execution_count": 16,
   "metadata": {},
   "outputs": [],
   "source": [
    "# background = \"#313332\"\n",
    "# line = '#696969'\n",
    "# text_color ='white'\n",
    "# touches = '#f62681'\n",
    "# assisted = \"#45c7e8\"\n",
    "# goal = '#59c08a'\n",
    "# title_font = \"BBC Reith Sans\"\n",
    "# body_font = \"BBC Reith Sans\"\n",
    "\n",
    "# #Plot the X & Y location with dots\n",
    "# pitch = Pitch(figsize=(15,15),orientation='vertical',view='full',layout=(1, 2),goal_type='box',pitch_type='opta',\n",
    "#               pitch_color=background, line_color=line,constrained_layout=False)\n",
    "\n",
    "\n",
    "# fig, ax = pitch.draw()\n",
    "# ax[0].scatter(dallas['y'],dallas['x'],color='lightblue', s=100, zorder=12,alpha=0.7, ec=background,lw=1.5)\n",
    "\n",
    "# for simplex in hull.simplices:\n",
    "#     #Draw a black line between each\n",
    "#     ax[0].plot(defpoints[simplex, 1], defpoints[simplex, 0], 'k-', alpha=0.5, lw=1, c='lightblue')\n",
    "#     ax[0].fill(defpoints[hull.vertices,1], defpoints[hull.vertices,0], 'k', alpha=0.01, color='lightblue')\n",
    "    \n",
    "# ax[0].scatter(ayling['y'],ayling['x'],color='#45c7e8', s=100, zorder=12,alpha=0.7, ec=background,lw=1.5)\n",
    "\n",
    "# for simplex in hull1.simplices:\n",
    "#     #Draw a black line between each\n",
    "#     ax[0].plot(defpoints1[simplex, 1], defpoints1[simplex, 0], 'k-', alpha=0.5, lw=1, c='#45c7e8')\n",
    "#     ax[0].fill(defpoints1[hull1.vertices,1], defpoints1[hull1.vertices,0], 'k', alpha=0.01, color='#45c7e8')\n",
    "\n",
    "    \n",
    "# plt.rcParams['axes.facecolor']=background\n",
    "# plt.rcParams['savefig.facecolor']=background\n",
    "# plt.savefig(\"convex\",bbox_inches=\"tight\",dpi=200);"
   ]
  },
  {
   "cell_type": "code",
   "execution_count": 17,
   "metadata": {},
   "outputs": [
    {
     "data": {
      "text/html": [
       "<div>\n",
       "<style scoped>\n",
       "    .dataframe tbody tr th:only-of-type {\n",
       "        vertical-align: middle;\n",
       "    }\n",
       "\n",
       "    .dataframe tbody tr th {\n",
       "        vertical-align: top;\n",
       "    }\n",
       "\n",
       "    .dataframe thead th {\n",
       "        text-align: right;\n",
       "    }\n",
       "</style>\n",
       "<table border=\"1\" class=\"dataframe\">\n",
       "  <thead>\n",
       "    <tr style=\"text-align: right;\">\n",
       "      <th></th>\n",
       "      <th>Event</th>\n",
       "      <th>Minute</th>\n",
       "      <th>Second</th>\n",
       "      <th>Player</th>\n",
       "      <th>Team</th>\n",
       "      <th>Outcome</th>\n",
       "      <th>x</th>\n",
       "      <th>y</th>\n",
       "      <th>endX</th>\n",
       "      <th>endY</th>\n",
       "      <th>passtype</th>\n",
       "    </tr>\n",
       "  </thead>\n",
       "  <tbody>\n",
       "  </tbody>\n",
       "</table>\n",
       "</div>"
      ],
      "text/plain": [
       "Empty DataFrame\n",
       "Columns: [Event, Minute, Second, Player, Team, Outcome, x, y, endX, endY, passtype]\n",
       "Index: []"
      ]
     },
     "execution_count": 17,
     "metadata": {},
     "output_type": "execute_result"
    }
   ],
   "source": [
    "mask = ((events['Team']==19) & (events['Event'] == 'Aerial'))\n",
    "aerial = events.loc[mask]\n",
    "aerial"
   ]
  },
  {
   "cell_type": "code",
   "execution_count": 18,
   "metadata": {},
   "outputs": [
    {
     "data": {
      "text/html": [
       "<div>\n",
       "<style scoped>\n",
       "    .dataframe tbody tr th:only-of-type {\n",
       "        vertical-align: middle;\n",
       "    }\n",
       "\n",
       "    .dataframe tbody tr th {\n",
       "        vertical-align: top;\n",
       "    }\n",
       "\n",
       "    .dataframe thead th {\n",
       "        text-align: right;\n",
       "    }\n",
       "</style>\n",
       "<table border=\"1\" class=\"dataframe\">\n",
       "  <thead>\n",
       "    <tr style=\"text-align: right;\">\n",
       "      <th></th>\n",
       "      <th>Event</th>\n",
       "      <th>Minute</th>\n",
       "      <th>Second</th>\n",
       "      <th>Player</th>\n",
       "      <th>Team</th>\n",
       "      <th>Outcome</th>\n",
       "      <th>x</th>\n",
       "      <th>y</th>\n",
       "      <th>endX</th>\n",
       "      <th>endY</th>\n",
       "      <th>passtype</th>\n",
       "    </tr>\n",
       "  </thead>\n",
       "  <tbody>\n",
       "  </tbody>\n",
       "</table>\n",
       "</div>"
      ],
      "text/plain": [
       "Empty DataFrame\n",
       "Columns: [Event, Minute, Second, Player, Team, Outcome, x, y, endX, endY, passtype]\n",
       "Index: []"
      ]
     },
     "execution_count": 18,
     "metadata": {},
     "output_type": "execute_result"
    }
   ],
   "source": [
    "mask = ((events['Team']==19) & (events['Event'] == 'Aerial') & (events['Outcome'] == 'Successful'))\n",
    "suc_aerial = events.loc[mask]\n",
    "suc_aerial"
   ]
  },
  {
   "cell_type": "code",
   "execution_count": 19,
   "metadata": {},
   "outputs": [],
   "source": [
    "import matplotlib.colors"
   ]
  },
  {
   "cell_type": "code",
   "execution_count": 20,
   "metadata": {},
   "outputs": [],
   "source": [
    "from matplotlib import cm\n",
    "from matplotlib.colors import ListedColormap, LinearSegmentedColormap"
   ]
  },
  {
   "cell_type": "code",
   "execution_count": 21,
   "metadata": {},
   "outputs": [],
   "source": [
    "cmap = ListedColormap(['#313332', '#5b433d', '#714237', '#874131', '#9c3e2b', '#b13925', '#c5311d', '#da2314', '#ef0107'])"
   ]
  },
  {
   "cell_type": "code",
   "execution_count": 22,
   "metadata": {},
   "outputs": [
    {
     "ename": "NameError",
     "evalue": "name 'hull' is not defined",
     "output_type": "error",
     "traceback": [
      "\u001b[0;31m---------------------------------------------------------------------------\u001b[0m",
      "\u001b[0;31mNameError\u001b[0m                                 Traceback (most recent call last)",
      "\u001b[0;32m<ipython-input-22-dbfffa46d6f4>\u001b[0m in \u001b[0;36m<module>\u001b[0;34m\u001b[0m\n\u001b[1;32m     44\u001b[0m \u001b[0max\u001b[0m\u001b[0;34m[\u001b[0m\u001b[0;36m1\u001b[0m\u001b[0;34m]\u001b[0m\u001b[0;34m.\u001b[0m\u001b[0mscatter\u001b[0m\u001b[0;34m(\u001b[0m\u001b[0mdallas\u001b[0m\u001b[0;34m[\u001b[0m\u001b[0;34m'y'\u001b[0m\u001b[0;34m]\u001b[0m\u001b[0;34m,\u001b[0m\u001b[0mdallas\u001b[0m\u001b[0;34m[\u001b[0m\u001b[0;34m'x'\u001b[0m\u001b[0;34m]\u001b[0m\u001b[0;34m,\u001b[0m\u001b[0mcolor\u001b[0m\u001b[0;34m=\u001b[0m\u001b[0;34m'lightblue'\u001b[0m\u001b[0;34m,\u001b[0m \u001b[0ms\u001b[0m\u001b[0;34m=\u001b[0m\u001b[0;36m100\u001b[0m\u001b[0;34m,\u001b[0m \u001b[0mzorder\u001b[0m\u001b[0;34m=\u001b[0m\u001b[0;36m12\u001b[0m\u001b[0;34m,\u001b[0m\u001b[0malpha\u001b[0m\u001b[0;34m=\u001b[0m\u001b[0;36m0.7\u001b[0m\u001b[0;34m,\u001b[0m \u001b[0mec\u001b[0m\u001b[0;34m=\u001b[0m\u001b[0mbackground\u001b[0m\u001b[0;34m,\u001b[0m\u001b[0mlw\u001b[0m\u001b[0;34m=\u001b[0m\u001b[0;36m1.5\u001b[0m\u001b[0;34m)\u001b[0m\u001b[0;34m\u001b[0m\u001b[0;34m\u001b[0m\u001b[0m\n\u001b[1;32m     45\u001b[0m \u001b[0;34m\u001b[0m\u001b[0m\n\u001b[0;32m---> 46\u001b[0;31m \u001b[0;32mfor\u001b[0m \u001b[0msimplex\u001b[0m \u001b[0;32min\u001b[0m \u001b[0mhull\u001b[0m\u001b[0;34m.\u001b[0m\u001b[0msimplices\u001b[0m\u001b[0;34m:\u001b[0m\u001b[0;34m\u001b[0m\u001b[0;34m\u001b[0m\u001b[0m\n\u001b[0m\u001b[1;32m     47\u001b[0m     \u001b[0;31m#Draw a black line between each\u001b[0m\u001b[0;34m\u001b[0m\u001b[0;34m\u001b[0m\u001b[0;34m\u001b[0m\u001b[0m\n\u001b[1;32m     48\u001b[0m     \u001b[0max\u001b[0m\u001b[0;34m[\u001b[0m\u001b[0;36m1\u001b[0m\u001b[0;34m]\u001b[0m\u001b[0;34m.\u001b[0m\u001b[0mplot\u001b[0m\u001b[0;34m(\u001b[0m\u001b[0mdefpoints\u001b[0m\u001b[0;34m[\u001b[0m\u001b[0msimplex\u001b[0m\u001b[0;34m,\u001b[0m \u001b[0;36m1\u001b[0m\u001b[0;34m]\u001b[0m\u001b[0;34m,\u001b[0m \u001b[0mdefpoints\u001b[0m\u001b[0;34m[\u001b[0m\u001b[0msimplex\u001b[0m\u001b[0;34m,\u001b[0m \u001b[0;36m0\u001b[0m\u001b[0;34m]\u001b[0m\u001b[0;34m,\u001b[0m \u001b[0;34m'k-'\u001b[0m\u001b[0;34m,\u001b[0m \u001b[0malpha\u001b[0m\u001b[0;34m=\u001b[0m\u001b[0;36m0.5\u001b[0m\u001b[0;34m,\u001b[0m \u001b[0mlw\u001b[0m\u001b[0;34m=\u001b[0m\u001b[0;36m1\u001b[0m\u001b[0;34m,\u001b[0m \u001b[0mc\u001b[0m\u001b[0;34m=\u001b[0m\u001b[0;34m'lightblue'\u001b[0m\u001b[0;34m)\u001b[0m\u001b[0;34m\u001b[0m\u001b[0;34m\u001b[0m\u001b[0m\n",
      "\u001b[0;31mNameError\u001b[0m: name 'hull' is not defined"
     ]
    },
    {
     "data": {
      "image/png": "[encoded data removed]",
      "text/plain": [
       "<Figure size 1080x1080 with 2 Axes>"
      ]
     },
     "metadata": {},
     "output_type": "display_data"
    }
   ],
   "source": [
    "csfont = {'fontname':'BBC Reith Sans'}\n",
    "hfont = {'fontname':'BBC Reith Sans'}\n",
    "\n",
    "background = \"#313332\"\n",
    "line = '#696969'\n",
    "text_color ='white'\n",
    "touches = '#f62681'\n",
    "assisted = \"#45c7e8\"\n",
    "goal = '#59c08a'\n",
    "title_font = \"BBC Reith Sans\"\n",
    "body_font = \"BBC Reith Sans\"\n",
    "\n",
    "\n",
    "pitch = Pitch(pitch_type='opta', figsize=(15, 15), layout=(1, 2), line_zorder=2, goal_type='box',\n",
    "              pitch_color=background, line_color=line, orientation='vertical')\n",
    "# draw\n",
    "fig, ax = pitch.draw()\n",
    "# heatmap specified by (nx, ny) for horizontal pitch\n",
    "bins = [(12, 8)]\n",
    "for i, bin in enumerate(bins):\n",
    "    bin_statistic = pitch.bin_statistic(suc_aerial.x, suc_aerial.y, statistic='count', bins=bin)\n",
    "    # draw\n",
    "    pitch.heatmap(bin_statistic, ax=ax[i], cmap=cmap, edgecolors=None, alpha=0.8)\n",
    "\n",
    "\n",
    "ax[0].text(52, 9, \"1/4\",fontsize=15, fontfamily=body_font, color=text_color)\n",
    "ax[0].text(52, 25, \"1/1\",fontsize=15, fontfamily=body_font, color=text_color)\n",
    "ax[0].text(32, 25, \"2/3\",fontsize=15, fontfamily=body_font, color=text_color)\n",
    "ax[0].text(32, 41, \"3/4\",fontsize=15, fontfamily=body_font, color=text_color)\n",
    "ax[0].text(32, 58, \"0/1\",fontsize=15, fontfamily=body_font, color=text_color)\n",
    "ax[0].text(32, 75, \"0/1\",fontsize=15, fontfamily=body_font, color=text_color)\n",
    "ax[0].text(32, 90, \"0/1\",fontsize=15, fontfamily=body_font, color=text_color)\n",
    "ax[0].text(52, 41, \"1/4\",fontsize=15, fontfamily=body_font, color=text_color)\n",
    "ax[0].text(72, 25, \"1/2\",fontsize=15, fontfamily=body_font, color=text_color)\n",
    "ax[0].text(72, 41, \"2/2\",fontsize=15, fontfamily=body_font, color=text_color)\n",
    "ax[0].text(52, 58, \"2/3\",fontsize=15, fontfamily=body_font, color=text_color)\n",
    "ax[0].text(12, 58, \"1/4\",fontsize=15, fontfamily=body_font, color=text_color)\n",
    "ax[0].text(52, 90, \"3/7\",fontsize=15, fontfamily=body_font, color=text_color)\n",
    "ax[0].text(32, 9, \"1/1\",fontsize=15, fontfamily=body_font, color=text_color)\n",
    "\n",
    "\n",
    "#----------\n",
    "\n",
    "ax[1].scatter(dallas['y'],dallas['x'],color='lightblue', s=100, zorder=12,alpha=0.7, ec=background,lw=1.5)\n",
    "\n",
    "for simplex in hull.simplices:\n",
    "    #Draw a black line between each\n",
    "    ax[1].plot(defpoints[simplex, 1], defpoints[simplex, 0], 'k-', alpha=0.5, lw=1, c='lightblue')\n",
    "    ax[1].fill(defpoints[hull.vertices,1], defpoints[hull.vertices,0], 'k', alpha=0.01, color='lightblue')\n",
    "    \n",
    "ax[1].scatter(ayling['y'],ayling['x'],color='#45c7e8', s=100, zorder=12,alpha=0.7, ec=background,lw=1.5)\n",
    "\n",
    "for simplex in hull1.simplices:\n",
    "    #Draw a black line between each\n",
    "    ax[1].plot(defpoints1[simplex, 1], defpoints1[simplex, 0], 'k-', alpha=0.5, lw=1, c='#45c7e8')\n",
    "    ax[1].fill(defpoints1[hull1.vertices,1], defpoints1[hull1.vertices,0], 'k', alpha=0.01, color='#45c7e8')\n",
    "    \n",
    "    \n",
    "n = fig.text(0.031, 0.875, \"Leeds United\",fontsize=30, fontfamily=body_font, color='lightblue', weight='bold',zorder=2, **csfont)\n",
    "fig.text(0.211, 0.875, \"vs Fulham\",fontsize=25, fontfamily=body_font, color=text_color, weight='bold',zorder=2, **csfont)\n",
    "n.set_path_effects([path_effects.withStroke(linewidth=4,foreground=background)])\n",
    "fig.text(0.33, 0.875, \" English Premier League 2020/21 | Sat 19 Sep 2020\",fontsize=18, fontfamily=body_font, color=text_color,zorder=2, **csfont)\n",
    "n1 = fig.text(0.031, 0.855, \"Aerial Duels (won/competed)\",fontsize=14, fontfamily=body_font, color='white',zorder=2, **csfont)\n",
    "n1.set_path_effects([path_effects.withStroke(linewidth=4,foreground=background)])\n",
    "n2 = fig.text(0.523, 0.855, \"Possession Won (Dallas | Ayling)\",fontsize=14, fontfamily=body_font, color='white',zorder=2, **csfont)\n",
    "n2.set_path_effects([path_effects.withStroke(linewidth=4,foreground=background)])\n",
    "info_string = '@jonollington'\n",
    "fig.text(0.9, 0.135, info_string, color='#ffffff', ha='left', va='bottom', fontsize=12, **csfont)\n",
    "\n",
    "#arrow\n",
    "arrow=\"Simple,tail_width=0.4,head_width=1.3,head_length=0.9\"\n",
    "ax2 = fig.add_axes([0.48,0.17,0.04,0.3])\n",
    "ax2.axis(\"off\")\n",
    "ax2.annotate('', (0.48,0.7),(0.48,0), zorder=10, arrowprops=dict(arrowstyle=arrow,\n",
    "            linewidth=0.2,  color='#ffffff',alpha=0.7))\n",
    "    \n",
    "plt.rcParams['axes.facecolor']=background\n",
    "plt.rcParams['savefig.facecolor']=background\n",
    "plt.savefig(\"trial\",bbox_inches=\"tight\",dpi=200);"
   ]
  },
  {
   "cell_type": "code",
   "execution_count": 50,
   "metadata": {},
   "outputs": [],
   "source": [
    "x = 12"
   ]
  },
  {
   "cell_type": "code",
   "execution_count": 51,
   "metadata": {},
   "outputs": [],
   "source": [
    "x /= 6-2"
   ]
  },
  {
   "cell_type": "code",
   "execution_count": 52,
   "metadata": {},
   "outputs": [
    {
     "data": {
      "text/plain": [
       "3.0"
      ]
     },
     "execution_count": 52,
     "metadata": {},
     "output_type": "execute_result"
    }
   ],
   "source": [
    "x"
   ]
  },
  {
   "cell_type": "code",
   "execution_count": null,
   "metadata": {},
   "outputs": [],
   "source": []
  }
 ],
 "metadata": {
  "kernelspec": {
   "display_name": "Python 3",
   "language": "python",
   "name": "python3"
  },
  "language_info": {
   "codemirror_mode": {
    "name": "ipython",
    "version": 3
   },
   "file_extension": ".py",
   "mimetype": "text/x-python",
   "name": "python",
   "nbconvert_exporter": "python",
   "pygments_lexer": "ipython3",
   "version": "3.7.7"
  }
 },
 "nbformat": 4,
 "nbformat_minor": 4
}
