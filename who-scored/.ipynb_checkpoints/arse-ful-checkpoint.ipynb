{
 "cells": [
  {
   "cell_type": "code",
   "execution_count": 1,
   "metadata": {},
   "outputs": [],
   "source": [
    "from selenium import webdriver\n",
    "from selenium.webdriver.common.keys import Keys\n",
    "from selenium.webdriver.common.desired_capabilities import DesiredCapabilities\n",
    "import json\n",
    "from webdriver_manager.chrome import ChromeDriverManager\n",
    "from pandas.io.json import json_normalize\n",
    "import pandas as pd"
   ]
  },
  {
   "cell_type": "code",
   "execution_count": 2,
   "metadata": {},
   "outputs": [],
   "source": [
    "import pandas as pd\n",
    "import numpy as np\n",
    "import matplotlib.pyplot as plt\n",
    "import json\n",
    "from pandas import json_normalize\n",
    "\n",
    "\n",
    "from adjustText import adjust_text\n",
    "from matplotlib import cm\n",
    "import matplotlib.patheffects as path_effects"
   ]
  },
  {
   "cell_type": "code",
   "execution_count": 3,
   "metadata": {},
   "outputs": [],
   "source": [
    "# driver = webdriver.Chrome(ChromeDriverManager().install())\n",
    "\n",
    "# driver.get('https://www.whoscored.com/Matches/1485187/Live/England-Premier-League-2020-2021-Fulham-Arsenal')\n",
    "# data = driver.execute_script(\"return matchCentreData;\")\n",
    "\n",
    "# with open('data.json', 'w', encoding='utf-8') as f:\n",
    "#     json.dump(data, f, ensure_ascii=False, indent=4)\n",
    "       \n",
    "# driver.close()"
   ]
  },
  {
   "cell_type": "code",
   "execution_count": 5,
   "metadata": {},
   "outputs": [
    {
     "data": {
      "text/plain": [
       "'/Users/ollinj01/Football Analytics/who-scored'"
      ]
     },
     "execution_count": 5,
     "metadata": {},
     "output_type": "execute_result"
    }
   ],
   "source": [
    "pwd"
   ]
  },
  {
   "cell_type": "code",
   "execution_count": 6,
   "metadata": {},
   "outputs": [],
   "source": [
    "# home_team, away_team = data[\"home\"][\"name\"], data[\"away\"][\"name\"]\n",
    "# with open(f\"{home_team}_{away_team}.json\", \"w\") as f: ## save as Arsenal_Liverpool.json in present directory\n",
    "#     json.dump(data, f, indent=4)"
   ]
  },
  {
   "cell_type": "code",
   "execution_count": 7,
   "metadata": {},
   "outputs": [],
   "source": [
    "class Player:\n",
    "\n",
    "    def __init__(self, name, pid, x, y, total):\n",
    "        self.name = name\n",
    "        self.pid = pid\n",
    "        self.x = x\n",
    "        self.y = y\n",
    "        self.total = total"
   ]
  },
  {
   "cell_type": "code",
   "execution_count": 8,
   "metadata": {},
   "outputs": [],
   "source": [
    "def get_receiver(df):\n",
    "    \"\"\" Get the receiver for successful open-play passes\"\"\"\n",
    "\n",
    "    df[[\"receiver_id\", \"receiver_team_id\"]] = df[[\"playerId\", \"teamId\"]].shift(-1)\n",
    "    df = df.query(\"(outcomeType_value == 1) & (type_displayName == 'Pass') & (receiver_team_id == teamId)\").reset_index(drop=True)\n",
    "    df.dropna(subset=[\"playerId\", \"receiver_id\", \"teamId\", \"receiver_team_id\"], inplace=True)\n",
    "    df[[\"playerId\", \"receiver_id\", \"teamId\", \"receiver_team_id\"]] = df[[\"playerId\", \"receiver_id\", \"teamId\", \"receiver_team_id\"]].astype(int)\n",
    "    return df"
   ]
  },
  {
   "cell_type": "code",
   "execution_count": 9,
   "metadata": {},
   "outputs": [],
   "source": [
    "with open(r\"Fulham_Arsenal.json\") as f:\n",
    "    md = json.load(f)"
   ]
  },
  {
   "cell_type": "code",
   "execution_count": 10,
   "metadata": {},
   "outputs": [],
   "source": [
    "side = \"home\" if md[\"home\"][\"name\"] == \"Arsenal\" else \"away\"  \n",
    "team_id = md[side][\"teamId\"]  \n",
    "st_players = {} ##get the starting 11 players\n",
    "for player in md[side][\"players\"]:\n",
    "        if \"isFirstEleven\" in player:\n",
    "            st_players.update({player[\"playerId\"]: player[\"name\"]})        \n"
   ]
  },
  {
   "cell_type": "code",
   "execution_count": 11,
   "metadata": {},
   "outputs": [],
   "source": [
    "df = json_normalize(md[\"events\"], sep=\"_\")"
   ]
  },
  {
   "cell_type": "code",
   "execution_count": 12,
   "metadata": {},
   "outputs": [],
   "source": [
    "pdf = get_receiver(df)"
   ]
  },
  {
   "cell_type": "code",
   "execution_count": 13,
   "metadata": {},
   "outputs": [],
   "source": [
    "pdf = pdf[pdf[\"qualifiers\"].apply(lambda x:x not in [\"Freekick\", \"GoalKick\", \"Corner\"])] ##remove set-pieces"
   ]
  },
  {
   "cell_type": "code",
   "execution_count": 14,
   "metadata": {},
   "outputs": [],
   "source": [
    "pdf = pdf.dropna(axis=1, how=\"all\")"
   ]
  },
  {
   "cell_type": "code",
   "execution_count": 15,
   "metadata": {},
   "outputs": [],
   "source": [
    "group1 = pdf.groupby([\"playerId\", \"receiver_id\"]).agg(count=(\"teamId\", \"size\")).reset_index()"
   ]
  },
  {
   "cell_type": "code",
   "execution_count": 16,
   "metadata": {},
   "outputs": [],
   "source": [
    "group1 = group1.loc[group1[\"count\"]>1]"
   ]
  },
  {
   "cell_type": "code",
   "execution_count": 17,
   "metadata": {},
   "outputs": [],
   "source": [
    "group1[\"count\"] = group1[\"count\"]/group1[\"count\"].max()"
   ]
  },
  {
   "cell_type": "code",
   "execution_count": 18,
   "metadata": {},
   "outputs": [],
   "source": [
    "group2 = pdf.groupby([\"playerId\"]).agg(x=(\"x\", \"mean\"), y=(\"y\", \"mean\"), total=(\"teamId\", \"size\")).reset_index()"
   ]
  },
  {
   "cell_type": "code",
   "execution_count": 19,
   "metadata": {},
   "outputs": [],
   "source": [
    "group2['x_loc_m'] = group2['x'] / 100 * 104\n",
    "group2['y_loc_m'] = group2['y'] / 100 * 68"
   ]
  },
  {
   "cell_type": "code",
   "execution_count": 20,
   "metadata": {},
   "outputs": [],
   "source": [
    "group2['y1'] = [68 - i for i in group2['y_loc_m']] # Note y axis is flipped for vertical pitch view"
   ]
  },
  {
   "cell_type": "code",
   "execution_count": 21,
   "metadata": {},
   "outputs": [],
   "source": [
    "stplist = list(st_players.keys()) ##list of starting players ids"
   ]
  },
  {
   "cell_type": "code",
   "execution_count": 22,
   "metadata": {},
   "outputs": [],
   "source": [
    "group1 = group1.query(\"(playerId in @stplist) & (receiver_id in @stplist)\").reset_index(drop=True)"
   ]
  },
  {
   "cell_type": "code",
   "execution_count": 23,
   "metadata": {},
   "outputs": [],
   "source": [
    "group2 = group2.query(\"playerId in @stplist\").reset_index(drop=True)"
   ]
  },
  {
   "cell_type": "code",
   "execution_count": 24,
   "metadata": {},
   "outputs": [],
   "source": [
    "group2[\"player_name\"] = group2[\"playerId\"].map(st_players)"
   ]
  },
  {
   "cell_type": "code",
   "execution_count": 25,
   "metadata": {},
   "outputs": [],
   "source": [
    "%matplotlib inline"
   ]
  },
  {
   "cell_type": "code",
   "execution_count": 26,
   "metadata": {},
   "outputs": [],
   "source": [
    "plr_objs = {}\n",
    "for i in group2.index:\n",
    "    plr_objs[group2.loc[i, \"playerId\"]] = Player(group2.loc[i, \"player_name\"], group2.loc[i, \"playerId\"], group2.loc[i, \"y1\"], group2.loc[i, \"x_loc_m\"], group2.loc[i, \"total\"])"
   ]
  },
  {
   "cell_type": "code",
   "execution_count": 32,
   "metadata": {},
   "outputs": [
    {
     "data": {
      "image/png": "[encoded data removed]",
      "text/plain": [
       "<Figure size 489.6x748.8 with 1 Axes>"
      ]
     },
     "metadata": {
      "needs_background": "light"
     },
     "output_type": "display_data"
    }
   ],
   "source": [
    "draw_pitch(pitch ='#252932', line ='#696969',orientation='vertical', view='full')\n",
    "\n",
    "csfont = {'fontname':'BBC Reith Sans'}\n",
    "hfont = {'fontname':'BBC Reith Sans'}\n",
    "\n",
    "offset = 1.1 ##change the x and y coordinates of passes between two same players so that there's no overlap\n",
    "# cmap = cm.get_cmap(\"Greys\")\n",
    "cmap = \"grey\"\n",
    "\n",
    "shrink_val = 5 ##Units by which the arrow is shortened from the end_points\n",
    "\n",
    "style=\"Simple,tail_width=0.001,head_width=0.8,head_length=0.7\"\n",
    "\n",
    "plr_objs = {}\n",
    "for i in group2.index:\n",
    "    plr_objs[group2.loc[i, \"playerId\"]] = Player(group2.loc[i, \"player_name\"], group2.loc[i, \"playerId\"], group2.loc[i, \"y1\"], group2.loc[i, \"x_loc_m\"], group2.loc[i, \"total\"])\n",
    "\n",
    "for (_, (pid, rid, count)) in group1.iterrows():\n",
    "    if abs(plr_objs[rid].x - plr_objs[pid].x) > abs(plr_objs[rid].y - plr_objs[pid].y):\n",
    "        if rid > pid:\n",
    "            plt.annotate(\"\", xy=(plr_objs[rid].x, plr_objs[rid].y + offset), xytext=(plr_objs[pid].x, plr_objs[pid].y + offset),\n",
    "                arrowprops={\"arrowstyle\":style, \"connectionstyle\":\"arc3\", \"lw\":count*10,\"color\":cmap, \"alpha\":count, \"linestyle\":\"solid\", \"shrinkB\":15})\n",
    "        elif pid > rid:\n",
    "            plt.annotate(\"\", xy=(plr_objs[rid].x, plr_objs[rid].y - offset), xytext=(plr_objs[pid].x, plr_objs[pid].y - offset),\n",
    "                arrowprops={\"arrowstyle\":style, \"connectionstyle\":\"arc3\", \"lw\":count*10,\"color\":cmap, \"alpha\":count, \"linestyle\":\"solid\", \"shrinkB\":15})\n",
    "    \n",
    "    elif abs(plr_objs[rid].x - plr_objs[pid].x) <= abs(plr_objs[rid].y - plr_objs[pid].y):\n",
    "        if rid > pid:\n",
    "            plt.annotate(\"\", xy=(plr_objs[rid].x + offset, plr_objs[rid].y), xytext=(plr_objs[pid].x + offset, plr_objs[pid].y),\n",
    "                arrowprops={\"arrowstyle\":style, \"connectionstyle\":\"arc3\", \"lw\":count*10, \"color\":cmap,\"alpha\":count, \"linestyle\":\"solid\", \"shrinkB\":15})\n",
    "        elif pid > rid:\n",
    "            plt.annotate(\"\", xy=(plr_objs[rid].x - offset, plr_objs[rid].y), xytext=(plr_objs[pid].x - offset, plr_objs[pid].y),\n",
    "                arrowprops={\"arrowstyle\":style, \"connectionstyle\":\"arc3\", \"lw\":count*10, \"color\":cmap,\"alpha\":count, \"linestyle\":\"solid\", \"shrinkB\":15})\n",
    "\n",
    "texts = []        \n",
    "for player_id, player_obj in plr_objs.items():\n",
    "    plt.scatter(player_obj.x, player_obj.y, s=player_obj.total*10, color=\"#DB0007\", ec=\"white\", lw=\"2\",alpha=1, zorder=10)\n",
    "    t = plt.text(player_obj.x-3.5, player_obj.y-4.5,color=\"white\", s=player_obj.name.split(\" \")[-1], fontsize=10, rotation=0, zorder=12)\n",
    "    t.set_path_effects([path_effects.withStroke(linewidth=3,foreground=\"#252932\")])\n",
    "    \n",
    "    \n",
    "#title\n",
    "title = plt.text(1,99, \"Arsenal\", color='white',fontsize=30, fontweight='bold', **csfont,zorder=20)\n",
    "title.set_path_effects([path_effects.withStroke(linewidth=3,foreground=\"#252932\")])\n",
    "subtitle_string = 'vs. Fulham | English Premier League 2020/21 | Positions & Passing Network'\n",
    "subtitle = plt.text(1, 96.5, subtitle_string, fontsize=9,**csfont, color='white',zorder=20)\n",
    "subtitle.set_path_effects([path_effects.withStroke(linewidth=3,foreground=\"#252932\")])\n",
    "plt.figimage(img, 1430, 2182, alpha=.9, zorder=1)\n",
    "\n",
    "info_string = '@jonollington'\n",
    "plt.text(57.3, 0.8, info_string, color='white', ha='left', va='bottom', fontsize=8, **csfont)\n",
    "\n",
    "plt.rcParams['axes.facecolor']='#252932'\n",
    "plt.rcParams['savefig.facecolor']='#252932'\n",
    "\n",
    "plt.savefig(\"arsenal_fulham\",bbox_inches=\"tight\",dpi=300)"
   ]
  },
  {
   "cell_type": "code",
   "execution_count": 28,
   "metadata": {},
   "outputs": [],
   "source": [
    "def draw_pitch(pitch, line, orientation, view):\n",
    "     \n",
    "    orientation = orientation\n",
    "    view = view\n",
    "    line = line\n",
    "    pitch = pitch\n",
    "     \n",
    "    if orientation.lower().startswith(\"h\"):\n",
    "         \n",
    "        if view.lower().startswith(\"h\"):\n",
    "            fig,ax = plt.subplots(figsize=(6.8,10.4))\n",
    "            plt.xlim(49,105)\n",
    "            plt.ylim(-1,69)\n",
    "        elif view.lower().startswith(\"t\"):\n",
    "            fig,ax = plt.subplots(figsize=(6.8,10.4))\n",
    "            plt.xlim(69,105)\n",
    "            plt.ylim(-1,69)\n",
    "            # final third line\n",
    "            lxt = [0,68] \n",
    "            lyt = [69,69]\n",
    "            plt.plot(lxt,lyt,color=line,linestyle='--',zorder=5)\n",
    "        else:\n",
    "            fig,ax = plt.subplots(figsize=(10.4,6.8))\n",
    "            plt.xlim(-1,105)\n",
    "            plt.ylim(-1,69)\n",
    "        ax.axis('off') # this hides the x and y ticks\n",
    "     \n",
    "        # side and goal lines #\n",
    "        ly1 = [0,0,68,68,0]\n",
    "        lx1 = [0,104,104,0,0]\n",
    " \n",
    "        plt.plot(lx1,ly1,color=line,zorder=5)\n",
    " \n",
    " \n",
    "        # boxes, 6 yard box and goals\n",
    " \n",
    "            #outer boxes#\n",
    "        ly2 = [13.84,13.84,54.16,54.16] \n",
    "        lx2 = [104,87.5,87.5,104]\n",
    "        plt.plot(lx2,ly2,color=line,zorder=5)\n",
    " \n",
    "        ly3 = [13.84,13.84,54.16,54.16] \n",
    "        lx3 = [0,16.5,16.5,0]\n",
    "        plt.plot(lx3,ly3,color=line,zorder=5)\n",
    " \n",
    "            #goals#\n",
    "        ly4 = [30.34,30.34,37.66,37.66]\n",
    "        lx4 = [104,104.2,104.2,104]\n",
    "        plt.plot(lx4,ly4,color=line,zorder=5)\n",
    " \n",
    "        ly5 = [30.34,30.34,37.66,37.66]\n",
    "        lx5 = [0,-0.2,-0.2,0]\n",
    "        plt.plot(lx5,ly5,color=line,zorder=5)\n",
    " \n",
    " \n",
    "           #6 yard boxes#\n",
    "        ly6 = [24.84,24.84,43.16,43.16]\n",
    "        lx6 = [104,99.5,99.5,104]\n",
    "        plt.plot(lx6,ly6,color=line,zorder=5)\n",
    " \n",
    "        ly7 = [24.84,24.84,43.16,43.16]\n",
    "        lx7 = [0,4.5,4.5,0]\n",
    "        plt.plot(lx7,ly7,color=line,zorder=5)\n",
    " \n",
    "        #Halfway line, penalty spots, and kickoff spot\n",
    "        ly8 = [0,68] \n",
    "        lx8 = [52,52]\n",
    "        plt.plot(lx8,ly8,color=line,zorder=5)\n",
    " \n",
    " \n",
    "        plt.scatter(93,34,color=line,zorder=5)\n",
    "        plt.scatter(11,34,color=line,zorder=5)\n",
    "        plt.scatter(52,34,color=line,zorder=5)\n",
    " \n",
    "        circle1 = plt.Circle((93.5,34), 9.15,ls='solid',lw=1.5,color=line, fill=False, zorder=1,alpha=1)\n",
    "        circle2 = plt.Circle((10.5,34), 9.15,ls='solid',lw=1.5,color=line, fill=False, zorder=1,alpha=1)\n",
    "        circle3 = plt.Circle((52, 34), 9.15,ls='solid',lw=1.5,color=line, fill=False, zorder=2,alpha=1)\n",
    " \n",
    "        ## Rectangles in boxes\n",
    "        rec1 = plt.Rectangle((87.5,20), 16,30,ls='-',color=pitch, zorder=1,alpha=1)\n",
    "        rec2 = plt.Rectangle((0, 20), 16.5,30,ls='-',color=pitch, zorder=1,alpha=1)\n",
    " \n",
    "        ## Pitch rectangle\n",
    "        rec3 = plt.Rectangle((-1, -1), 106,70,ls='-',color=pitch, zorder=1,alpha=1)\n",
    " \n",
    "        ax.add_artist(rec3)\n",
    "        ax.add_artist(circle1)\n",
    "        ax.add_artist(circle2)\n",
    "        ax.add_artist(rec1)\n",
    "        ax.add_artist(rec2)\n",
    "        ax.add_artist(circle3)\n",
    "         \n",
    "    else:\n",
    "        if view.lower().startswith(\"h\"):\n",
    "            fig,ax = plt.subplots(figsize=(10.4,6.8))\n",
    "            plt.ylim(49,105)\n",
    "            plt.xlim(-1,69)\n",
    "        elif view.lower().startswith(\"t\"):\n",
    "            fig,ax = plt.subplots(figsize=(10.4,6.8))\n",
    "            plt.ylim(69,105)\n",
    "            plt.xlim(-1,69)\n",
    "            # final third line\n",
    "            lxt = [0,68] \n",
    "            lyt = [69,69]\n",
    "            plt.plot(lxt,lyt,color=line,linestyle='--',zorder=5)\n",
    "        else:\n",
    "            fig,ax = plt.subplots(figsize=(6.8,10.4))\n",
    "            plt.ylim(-1,105)\n",
    "            plt.xlim(-1,69)\n",
    "        ax.axis('off') # this hides the x and y ticks\n",
    " \n",
    "        # side and goal lines #\n",
    "        lx1 = [0,0,68,68,0]\n",
    "        ly1 = [0,104,104,0,0]\n",
    " \n",
    "        plt.plot(lx1,ly1,color=line,zorder=5)\n",
    " \n",
    " \n",
    "        # boxes, 6 yard box and goals\n",
    " \n",
    "            #outer boxes#\n",
    "        lx2 = [13.84,13.84,54.16,54.16] \n",
    "        ly2 = [104,87.5,87.5,104]\n",
    "        plt.plot(lx2,ly2,color=line,zorder=5)\n",
    " \n",
    "        lx3 = [13.84,13.84,54.16,54.16] \n",
    "        ly3 = [0,16.5,16.5,0]\n",
    "        plt.plot(lx3,ly3,color=line,zorder=5)\n",
    " \n",
    "            #goals#\n",
    "        lx4 = [30.34,30.34,37.66,37.66]\n",
    "        ly4 = [104,104.2,104.2,104]\n",
    "        plt.plot(lx4,ly4,color=line,zorder=5)\n",
    " \n",
    "        lx5 = [30.34,30.34,37.66,37.66]\n",
    "        ly5 = [0,-0.2,-0.2,0]\n",
    "        plt.plot(lx5,ly5,color=line,zorder=5)\n",
    " \n",
    " \n",
    "           #6 yard boxes#\n",
    "        lx6 = [24.84,24.84,43.16,43.16]\n",
    "        ly6 = [104,99.5,99.5,104]\n",
    "        plt.plot(lx6,ly6,color=line,zorder=5)\n",
    " \n",
    "        lx7 = [24.84,24.84,43.16,43.16]\n",
    "        ly7 = [0,4.5,4.5,0]\n",
    "        plt.plot(lx7,ly7,color=line,zorder=5)\n",
    " \n",
    "        #Halfway line, penalty spots, and kickoff spot\n",
    "        lx8 = [0,68] \n",
    "        ly8 = [52,52]\n",
    "        plt.plot(lx8,ly8,color=line,zorder=5)\n",
    " \n",
    " \n",
    "        plt.scatter(34,93,color=line,zorder=5)\n",
    "        plt.scatter(34,11,color=line,zorder=5)\n",
    "        plt.scatter(34,52,color=line,zorder=5)\n",
    " \n",
    "        circle1 = plt.Circle((34,93.5), 9.15,ls='solid',lw=1.5,color=line, fill=False, zorder=1,alpha=1)\n",
    "        circle2 = plt.Circle((34,10.5), 9.15,ls='solid',lw=1.5,color=line, fill=False, zorder=1,alpha=1)\n",
    "        circle3 = plt.Circle((34,52), 9.15,ls='solid',lw=1.5,color=line, fill=False, zorder=2,alpha=1)\n",
    " \n",
    " \n",
    "        ## Rectangles in boxes\n",
    "        rec1 = plt.Rectangle((20, 87.5), 30,16.5,ls='-',color=pitch, zorder=1,alpha=1)\n",
    "        rec2 = plt.Rectangle((20, 0), 30,16.5,ls='-',color=pitch, zorder=1,alpha=1)\n",
    " \n",
    "        ## Pitch rectangle\n",
    "        rec3 = plt.Rectangle((-1, -1), 70,106,ls='-',color=pitch, zorder=1,alpha=1)\n",
    " \n",
    "        ax.add_artist(rec3)\n",
    "        ax.add_artist(circle1)\n",
    "        ax.add_artist(circle2)\n",
    "        ax.add_artist(rec1)\n",
    "        ax.add_artist(rec2)\n",
    "        ax.add_artist(circle3)\n",
    "        return"
   ]
  },
  {
   "cell_type": "code",
   "execution_count": 29,
   "metadata": {},
   "outputs": [],
   "source": [
    "from PIL import Image"
   ]
  },
  {
   "cell_type": "code",
   "execution_count": 30,
   "metadata": {},
   "outputs": [
    {
     "data": {
      "text/plain": [
       "(411, 481)"
      ]
     },
     "execution_count": 30,
     "metadata": {},
     "output_type": "execute_result"
    }
   ],
   "source": [
    "img = Image.open('./arsenal.png')\n",
    "img.size"
   ]
  },
  {
   "cell_type": "code",
   "execution_count": 31,
   "metadata": {},
   "outputs": [
    {
     "data": {
      "text/plain": [
       "'/Users/ollinj01/Football Analytics/who-scored'"
      ]
     },
     "execution_count": 31,
     "metadata": {},
     "output_type": "execute_result"
    }
   ],
   "source": [
    "pwd"
   ]
  },
  {
   "cell_type": "code",
   "execution_count": null,
   "metadata": {},
   "outputs": [],
   "source": []
  }
 ],
 "metadata": {
  "kernelspec": {
   "display_name": "Python 3",
   "language": "python",
   "name": "python3"
  },
  "language_info": {
   "codemirror_mode": {
    "name": "ipython",
    "version": 3
   },
   "file_extension": ".py",
   "mimetype": "text/x-python",
   "name": "python",
   "nbconvert_exporter": "python",
   "pygments_lexer": "ipython3",
   "version": "3.7.7"
  }
 },
 "nbformat": 4,
 "nbformat_minor": 4
}
