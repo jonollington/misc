{
 "cells": [
  {
   "cell_type": "code",
   "execution_count": 47,
   "metadata": {},
   "outputs": [],
   "source": [
    "import pickle\n",
    "import pandas as pd\n",
    "import json"
   ]
  },
  {
   "cell_type": "markdown",
   "metadata": {},
   "source": [
    "----------------------------------------------------"
   ]
  },
  {
   "cell_type": "code",
   "execution_count": 176,
   "metadata": {},
   "outputs": [],
   "source": []
  },
  {
   "cell_type": "code",
   "execution_count": 51,
   "metadata": {},
   "outputs": [],
   "source": [
    "def read_data(self):\n",
    "        \"\"\"\n",
    "        Read StatsBomb eventing data of the selected 'match_id', generating a pandas DataFrame\n",
    "        with the events and a dictionary of player names and nicknames.\n",
    "        \"\"\"\n",
    "        # Player name translation dict\n",
    "        lineups = read_json(\"data/eventing/lineups/{0}.jsonq\".format(self.match_id))\n",
    "        self.names_dict = {player[\"player_name\"]: player[\"player_nickname\"]\n",
    "                           for team in lineups for player in team[\"lineup\"]}\n",
    "        # Pandas dataframe containing the events of the match\n",
    "        events = read_json(\"data/eventing/events/{0}.json\".format(self.match_id))\n",
    "        self.df_events = json_normalize(events, sep=\"_\").assign(match_id=self.match_id)"
   ]
  },
  {
   "cell_type": "code",
   "execution_count": 279,
   "metadata": {},
   "outputs": [],
   "source": [
    "class Player:\n",
    "    def __init__(self, id_, name, average_position, average_speed=False):\n",
    "        self.id = id_\n",
    "        self.name = name\n",
    "        self.average_position = average_position\n",
    "        self.average_speed = average_speed\n",
    "        \n",
    "#         # Create a function that is run every time the object is built\n",
    "#         self.new_value = self.test()\n",
    "        self.process_data()\n",
    "                \n",
    "    def test(self, parameter_one):\n",
    "        return self.average_position / self.average_speed\n",
    "    \n",
    "    def example(self):\n",
    "        print('yay')\n",
    "        \n",
    "    def example_test(self):\n",
    "        print('yes')\n",
    "    \n",
    "    def process_data(self):\n",
    "        for name, func in zip(['example', 'test', 'further-test'],\n",
    "            [self.example , self.test, self.example_test]):\n",
    "            print(name)"
   ]
  },
  {
   "cell_type": "code",
   "execution_count": 280,
   "metadata": {},
   "outputs": [],
   "source": [
    "ids = [5,3,2,10,50]\n",
    "names = ['james phoenix', 'imran', 'jon', 'harry', 'John']\n",
    "average_positions = [5,12,5,3,2]\n",
    "average_speeds = [5,12,5,3,2]"
   ]
  },
  {
   "cell_type": "code",
   "execution_count": 281,
   "metadata": {},
   "outputs": [
    {
     "name": "stdout",
     "output_type": "stream",
     "text": [
      "example\n",
      "test\n",
      "further-test\n",
      "example\n",
      "test\n",
      "further-test\n",
      "example\n",
      "test\n",
      "further-test\n",
      "example\n",
      "test\n",
      "further-test\n",
      "example\n",
      "test\n",
      "further-test\n"
     ]
    }
   ],
   "source": [
    "players = [Player(id_, name, average_position, average_speed)  \n",
    " \n",
    " for id_, name, average_position , average_speed in\n",
    " \n",
    " zip(ids, names, average_positions, average_speeds)]"
   ]
  },
  {
   "cell_type": "code",
   "execution_count": 282,
   "metadata": {},
   "outputs": [
    {
     "name": "stdout",
     "output_type": "stream",
     "text": [
      "example\n",
      "test\n",
      "further-test\n",
      "example\n",
      "test\n",
      "further-test\n",
      "example\n",
      "test\n",
      "further-test\n",
      "example\n",
      "test\n",
      "further-test\n",
      "example\n",
      "test\n",
      "further-test\n"
     ]
    }
   ],
   "source": [
    "players = []\n",
    "\n",
    "for id_, name, average_position , average_speed in zip(ids, names, average_positions, average_speeds):\n",
    "    players.append(Player(id_, name, average_position, average_speed))"
   ]
  },
  {
   "cell_type": "code",
   "execution_count": 285,
   "metadata": {},
   "outputs": [
    {
     "data": {
      "text/plain": [
       "1.0"
      ]
     },
     "execution_count": 285,
     "metadata": {},
     "output_type": "execute_result"
    }
   ],
   "source": [
    "players[0].test(15)"
   ]
  },
  {
   "cell_type": "markdown",
   "metadata": {},
   "source": [
    "------------------------------------------------------------------------"
   ]
  },
  {
   "cell_type": "code",
   "execution_count": 151,
   "metadata": {},
   "outputs": [],
   "source": [
    "from collections import defaultdict\n",
    "\n",
    "with open('data.pkl', 'rb') as f:\n",
    "    data = pickle.load(f)\n",
    "\n",
    "formation = []\n",
    "number = []\n",
    "\n",
    "# Indexes are formations in sequential order based upon substititon:\n",
    "data_dict = {\n",
    "    'home': {\n",
    "      0: {'formatSlots': [], 'jerseyNumbers': [],  'endMinuteExpanded': []},\n",
    "    },\n",
    "    'away': {   \n",
    "    }\n",
    "}\n",
    "\n",
    "data_dict = defaultdict(dict)\n",
    "lookup_dictionary = {int(key): value for key, \n",
    "                     value in data['playerIdNameDictionary'].items()}\n",
    "    \n",
    "for team_type in ['home', 'away']:\n",
    "    for index, _ in enumerate(data[team_type]['formations']):\n",
    "        data_dict[team_type][index] = {'formatSlots': _['formationSlots'], \n",
    "                                       'jerseyNumbers': _['jerseyNumbers'],  \n",
    "                                       'endMinuteExpanded': [(item, lookup_dictionary[item]) \n",
    "                                                             if item in list(lookup_dictionary.keys()) \n",
    "                                                             else ((item, 'Not Found Name')) for item in\n",
    "                                                             _['playerIds']]}"
   ]
  },
  {
   "cell_type": "code",
   "execution_count": 82,
   "metadata": {},
   "outputs": [],
   "source": [
    "df = pd.DataFrame.from_dict(data_dict, orient='columns')"
   ]
  }
 ],
 "metadata": {
  "kernelspec": {
   "display_name": "Python 3",
   "language": "python",
   "name": "python3"
  },
  "language_info": {
   "codemirror_mode": {
    "name": "ipython",
    "version": 3
   },
   "file_extension": ".py",
   "mimetype": "text/x-python",
   "name": "python",
   "nbconvert_exporter": "python",
   "pygments_lexer": "ipython3",
   "version": "3.7.7"
  }
 },
 "nbformat": 4,
 "nbformat_minor": 4
}
