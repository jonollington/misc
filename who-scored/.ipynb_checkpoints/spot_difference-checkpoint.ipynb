{
 "cells": [
  {
   "cell_type": "code",
   "execution_count": 1,
   "metadata": {},
   "outputs": [],
   "source": [
    "import pandas as pd\n",
    "import numpy as np\n",
    "from pandas.io.json import json_normalize\n",
    "import json\n",
    "import matplotlib.pyplot as plt\n",
    "%matplotlib inline\n",
    "import warnings\n",
    "import matplotlib.patches as patches\n",
    "warnings.filterwarnings(\"ignore\")"
   ]
  },
  {
   "cell_type": "code",
   "execution_count": 2,
   "metadata": {},
   "outputs": [],
   "source": [
    "with open('Arsenal_Liverpool.json') as json_file:\n",
    "    data = json.load(json_file)\n",
    "    \n",
    "event = []\n",
    "minute = []\n",
    "second = []\n",
    "player = []\n",
    "team = []\n",
    "outcome = []\n",
    "x = []\n",
    "y = []\n",
    "endX = []\n",
    "endY = []\n",
    "\n",
    "for each in data['events']:\n",
    "    event.append(each['type']['displayName'])\n",
    "    try:\n",
    "        minute.append(each['minute'])\n",
    "    except:\n",
    "        minute.append('')\n",
    "    try:\n",
    "        second.append(each['second'])\n",
    "    except:\n",
    "        second.append('')\n",
    "    try:\n",
    "        player.append(each['playerId'])\n",
    "    except:\n",
    "        player.append('')\n",
    "    try:\n",
    "        team.append(each['teamId'])\n",
    "    except:\n",
    "        team.append('')\n",
    "    try:\n",
    "        endX.append(each['endX'])\n",
    "        endY.append(each['endY'])\n",
    "    except:\n",
    "        endX.append('')\n",
    "        endY.append('')\n",
    "    outcome.append(each['outcomeType']['displayName'])\n",
    "    x.append(each['x'])\n",
    "    y.append(each['y'])\n",
    "\n",
    "events = pd.DataFrame({'Event':event, 'Minute':minute, 'Second':second, 'Player':player, 'Team':team, 'Outcome':outcome, 'x':x, 'y':y,\n",
    "                      'endX':endX, 'endY':endY})"
   ]
  },
  {
   "cell_type": "code",
   "execution_count": 3,
   "metadata": {},
   "outputs": [],
   "source": [
    "events[\"Second\"] = pd.to_numeric(events[\"Second\"])\n",
    "events[\"endX\"] = pd.to_numeric(events[\"endX\"])\n",
    "events[\"endY\"] = pd.to_numeric(events[\"endY\"])"
   ]
  },
  {
   "cell_type": "code",
   "execution_count": 4,
   "metadata": {},
   "outputs": [
    {
     "data": {
      "text/plain": [
       "Pass    8\n",
       "Goal    1\n",
       "Name: Event, dtype: int64"
      ]
     },
     "execution_count": 4,
     "metadata": {},
     "output_type": "execute_result"
    }
   ],
   "source": [
    "mask = ((events['Minute'] > 10) & (events['Second'] > 15)) & (events['Minute'] < 12)\n",
    "auba_liv = events.loc[mask].copy()\n",
    "auba_liv.Event.value_counts()"
   ]
  },
  {
   "cell_type": "code",
   "execution_count": 5,
   "metadata": {},
   "outputs": [],
   "source": [
    "with open('Fulham_Arsenal.json') as json_file:\n",
    "    data = json.load(json_file)\n",
    "    \n",
    "event = []\n",
    "minute = []\n",
    "second = []\n",
    "player = []\n",
    "team = []\n",
    "outcome = []\n",
    "x = []\n",
    "y = []\n",
    "endX = []\n",
    "endY = []\n",
    "\n",
    "for each in data['events']:\n",
    "    event.append(each['type']['displayName'])\n",
    "    try:\n",
    "        minute.append(each['minute'])\n",
    "    except:\n",
    "        minute.append('')\n",
    "    try:\n",
    "        second.append(each['second'])\n",
    "    except:\n",
    "        second.append('')\n",
    "    try:\n",
    "        player.append(each['playerId'])\n",
    "    except:\n",
    "        player.append('')\n",
    "    try:\n",
    "        team.append(each['teamId'])\n",
    "    except:\n",
    "        team.append('')\n",
    "    try:\n",
    "        endX.append(each['endX'])\n",
    "        endY.append(each['endY'])\n",
    "    except:\n",
    "        endX.append('')\n",
    "        endY.append('')\n",
    "    outcome.append(each['outcomeType']['displayName'])\n",
    "    x.append(each['x'])\n",
    "    y.append(each['y'])\n",
    "\n",
    "events = pd.DataFrame({'Event':event, 'Minute':minute, 'Second':second, 'Player':player, 'Team':team, 'Outcome':outcome, 'x':x, 'y':y,\n",
    "                      'endX':endX, 'endY':endY})"
   ]
  },
  {
   "cell_type": "code",
   "execution_count": 6,
   "metadata": {},
   "outputs": [],
   "source": [
    "events[\"Second\"] = pd.to_numeric(events[\"Second\"])\n",
    "events[\"endX\"] = pd.to_numeric(events[\"endX\"])\n",
    "events[\"endY\"] = pd.to_numeric(events[\"endY\"])"
   ]
  },
  {
   "cell_type": "code",
   "execution_count": 7,
   "metadata": {},
   "outputs": [
    {
     "data": {
      "text/plain": [
       "Pass         10\n",
       "BallTouch     1\n",
       "Goal          1\n",
       "Name: Event, dtype: int64"
      ]
     },
     "execution_count": 7,
     "metadata": {},
     "output_type": "execute_result"
    }
   ],
   "source": [
    "mask = ((events['Minute'] > 55) & (events['Second'] > 5)) & (events['Minute'] < 57)\n",
    "auba_ful = events.loc[mask].copy()\n",
    "auba_ful.Event.value_counts()"
   ]
  },
  {
   "cell_type": "code",
   "execution_count": null,
   "metadata": {},
   "outputs": [],
   "source": []
  }
 ],
 "metadata": {
  "kernelspec": {
   "display_name": "Python 3",
   "language": "python",
   "name": "python3"
  },
  "language_info": {
   "codemirror_mode": {
    "name": "ipython",
    "version": 3
   },
   "file_extension": ".py",
   "mimetype": "text/x-python",
   "name": "python",
   "nbconvert_exporter": "python",
   "pygments_lexer": "ipython3",
   "version": "3.7.7"
  }
 },
 "nbformat": 4,
 "nbformat_minor": 4
}
