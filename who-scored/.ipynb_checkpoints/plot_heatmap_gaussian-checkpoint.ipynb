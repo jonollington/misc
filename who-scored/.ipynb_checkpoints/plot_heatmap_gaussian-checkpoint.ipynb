{
 "cells": [
  {
   "cell_type": "code",
   "execution_count": null,
   "metadata": {},
   "outputs": [],
   "source": [
    "%matplotlib inline"
   ]
  },
  {
   "cell_type": "markdown",
   "metadata": {},
   "source": [
    "\n",
    "# Heatmap smoothed\n",
    "\n",
    "\n",
    "Tom Decroos, author of matplotsoccer (https://github.com/TomDecroos/matplotsoccer),\n",
    "asked whether it was possible to plot a Gaussian smoothed heatmaps, which are available in matplotsoccer.\n",
    "Here is an example demonstrating this.\n"
   ]
  },
  {
   "cell_type": "code",
   "execution_count": null,
   "metadata": {},
   "outputs": [],
   "source": [
    "from mplsoccer.pitch import Pitch\n",
    "from mplsoccer.statsbomb import read_event, EVENT_SLUG\n",
    "import os\n",
    "import pandas as pd\n",
    "import numpy as np\n",
    "from scipy.ndimage import gaussian_filter\n",
    "import matplotlib.pyplot as plt\n",
    "plt.style.use('dark_background')\n",
    "\n",
    "# get data\n",
    "match_files = ['19789.json', '19794.json', '19805.json']\n",
    "kwargs = {'related_event_df': False, 'shot_freeze_frame_df': False, 'tactics_lineup_df': False, 'warn': False}\n",
    "df = pd.concat([read_event(f'{EVENT_SLUG}/{file}', **kwargs)['event'] for file in match_files])\n",
    "# filter chelsea pressure events\n",
    "mask_chelsea_pressure = (df.team_name == 'Chelsea FCW') & (df.type_name == 'Pressure')\n",
    "df = df.loc[mask_chelsea_pressure, ['x', 'y']]"
   ]
  },
  {
   "cell_type": "markdown",
   "metadata": {},
   "source": [
    "Plot the heatmaps\n",
    "\n"
   ]
  },
  {
   "cell_type": "code",
   "execution_count": null,
   "metadata": {},
   "outputs": [],
   "source": [
    "# setup pitch\n",
    "pitch = Pitch(pitch_type='statsbomb', figsize=(16, 9), line_zorder=2, line_color='white', orientation='horizontal')\n",
    "# draw\n",
    "fig, ax = pitch.draw()\n",
    "bin_statistic = pitch.bin_statistic(df.x, df.y, statistic='count', bins=(25, 25))\n",
    "bin_statistic['statistic'] = gaussian_filter(bin_statistic['statistic'], 1)\n",
    "pcm = pitch.heatmap(bin_statistic, ax=ax, cmap='hot', edgecolors='#22312b')\n",
    "cbar = fig.colorbar(pcm, ax=ax)\n",
    "title = fig.suptitle('Location of pressure events - 3 home games for Chelsea FC Women', x=0.4, y=0.98, fontsize=23)"
   ]
  }
 ],
 "metadata": {
  "kernelspec": {
   "display_name": "Python 3",
   "language": "python",
   "name": "python3"
  },
  "language_info": {
   "codemirror_mode": {
    "name": "ipython",
    "version": 3
   },
   "file_extension": ".py",
   "mimetype": "text/x-python",
   "name": "python",
   "nbconvert_exporter": "python",
   "pygments_lexer": "ipython3",
   "version": "3.7.7"
  }
 },
 "nbformat": 4,
 "nbformat_minor": 1
}
