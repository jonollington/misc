{
 "cells": [
  {
   "cell_type": "code",
   "execution_count": 2,
   "metadata": {},
   "outputs": [],
   "source": [
    "import matplotlib\n",
    "import matplotlib.pyplot as plt\n",
    "import pandas as pd\n",
    "import squarify"
   ]
  },
  {
   "cell_type": "code",
   "execution_count": 3,
   "metadata": {},
   "outputs": [],
   "source": [
    "ars = pd.read_csv(\"./Arsenal.csv\")"
   ]
  },
  {
   "cell_type": "code",
   "execution_count": 4,
   "metadata": {},
   "outputs": [
    {
     "data": {
      "text/html": [
       "<div>\n",
       "<style scoped>\n",
       "    .dataframe tbody tr th:only-of-type {\n",
       "        vertical-align: middle;\n",
       "    }\n",
       "\n",
       "    .dataframe tbody tr th {\n",
       "        vertical-align: top;\n",
       "    }\n",
       "\n",
       "    .dataframe thead th {\n",
       "        text-align: right;\n",
       "    }\n",
       "</style>\n",
       "<table border=\"1\" class=\"dataframe\">\n",
       "  <thead>\n",
       "    <tr style=\"text-align: right;\">\n",
       "      <th></th>\n",
       "      <th>player</th>\n",
       "      <th>sign_from</th>\n",
       "    </tr>\n",
       "  </thead>\n",
       "  <tbody>\n",
       "    <tr>\n",
       "      <th>0</th>\n",
       "      <td>Bernd Leno</td>\n",
       "      <td>Bayer 04 Leverkusen</td>\n",
       "    </tr>\n",
       "    <tr>\n",
       "      <th>1</th>\n",
       "      <td>Emiliano Martínez</td>\n",
       "      <td>Arsenal FC U21</td>\n",
       "    </tr>\n",
       "    <tr>\n",
       "      <th>2</th>\n",
       "      <td>Matt Macey</td>\n",
       "      <td>Arsenal FC U21</td>\n",
       "    </tr>\n",
       "    <tr>\n",
       "      <th>3</th>\n",
       "      <td>William Saliba</td>\n",
       "      <td>AS Saint-Étienne</td>\n",
       "    </tr>\n",
       "    <tr>\n",
       "      <th>4</th>\n",
       "      <td>Sokratis</td>\n",
       "      <td>Borussia Dortmund</td>\n",
       "    </tr>\n",
       "    <tr>\n",
       "      <th>5</th>\n",
       "      <td>Calum Chambers</td>\n",
       "      <td>Southampton FC</td>\n",
       "    </tr>\n",
       "    <tr>\n",
       "      <th>6</th>\n",
       "      <td>Shkodran Mustafi</td>\n",
       "      <td>Valencia CF</td>\n",
       "    </tr>\n",
       "    <tr>\n",
       "      <th>7</th>\n",
       "      <td>David Luiz</td>\n",
       "      <td>Chelsea FC</td>\n",
       "    </tr>\n",
       "    <tr>\n",
       "      <th>8</th>\n",
       "      <td>Rob Holding</td>\n",
       "      <td>Bolton Wanderers</td>\n",
       "    </tr>\n",
       "    <tr>\n",
       "      <th>9</th>\n",
       "      <td>Pablo Marí</td>\n",
       "      <td>Clube de Regatas do Flamengo</td>\n",
       "    </tr>\n",
       "    <tr>\n",
       "      <th>10</th>\n",
       "      <td>Kieran Tierney</td>\n",
       "      <td>Celtic FC</td>\n",
       "    </tr>\n",
       "    <tr>\n",
       "      <th>11</th>\n",
       "      <td>Sead Kolasinac</td>\n",
       "      <td>FC Schalke 04</td>\n",
       "    </tr>\n",
       "    <tr>\n",
       "      <th>12</th>\n",
       "      <td>Héctor Bellerín</td>\n",
       "      <td>Arsenal FC U21</td>\n",
       "    </tr>\n",
       "    <tr>\n",
       "      <th>13</th>\n",
       "      <td>Ainsley Maitland-Niles</td>\n",
       "      <td>Arsenal FC U23</td>\n",
       "    </tr>\n",
       "    <tr>\n",
       "      <th>14</th>\n",
       "      <td>Cédric Soares</td>\n",
       "      <td>Southampton FC</td>\n",
       "    </tr>\n",
       "    <tr>\n",
       "      <th>15</th>\n",
       "      <td>Lucas Torreira</td>\n",
       "      <td>UC Sampdoria</td>\n",
       "    </tr>\n",
       "    <tr>\n",
       "      <th>16</th>\n",
       "      <td>Granit Xhaka</td>\n",
       "      <td>Borussia Mönchengladbach</td>\n",
       "    </tr>\n",
       "    <tr>\n",
       "      <th>17</th>\n",
       "      <td>Mattéo Guendouzi</td>\n",
       "      <td>FC Lorient</td>\n",
       "    </tr>\n",
       "    <tr>\n",
       "      <th>18</th>\n",
       "      <td>Dani Ceballos</td>\n",
       "      <td>Real Madrid</td>\n",
       "    </tr>\n",
       "    <tr>\n",
       "      <th>19</th>\n",
       "      <td>Joe Willock</td>\n",
       "      <td>Arsenal FC U23</td>\n",
       "    </tr>\n",
       "    <tr>\n",
       "      <th>20</th>\n",
       "      <td>Mesut Özil</td>\n",
       "      <td>Real Madrid</td>\n",
       "    </tr>\n",
       "    <tr>\n",
       "      <th>21</th>\n",
       "      <td>Gabriel Martinelli</td>\n",
       "      <td>Ituano Futebol Clube (SP)</td>\n",
       "    </tr>\n",
       "    <tr>\n",
       "      <th>22</th>\n",
       "      <td>Bukayo Saka</td>\n",
       "      <td>Arsenal FC U23</td>\n",
       "    </tr>\n",
       "    <tr>\n",
       "      <th>23</th>\n",
       "      <td>Nicolas Pépé</td>\n",
       "      <td>LOSC Lille</td>\n",
       "    </tr>\n",
       "    <tr>\n",
       "      <th>24</th>\n",
       "      <td>Reiss Nelson</td>\n",
       "      <td>Arsenal FC U23</td>\n",
       "    </tr>\n",
       "    <tr>\n",
       "      <th>25</th>\n",
       "      <td>Pierre-Emerick Aubameyang</td>\n",
       "      <td>Borussia Dortmund</td>\n",
       "    </tr>\n",
       "    <tr>\n",
       "      <th>26</th>\n",
       "      <td>Alexandre Lacazette</td>\n",
       "      <td>Olympique Lyon</td>\n",
       "    </tr>\n",
       "    <tr>\n",
       "      <th>27</th>\n",
       "      <td>Eddie Nketiah</td>\n",
       "      <td>Arsenal FC U23</td>\n",
       "    </tr>\n",
       "  </tbody>\n",
       "</table>\n",
       "</div>"
      ],
      "text/plain": [
       "                       player                     sign_from\n",
       "0                  Bernd Leno           Bayer 04 Leverkusen\n",
       "1           Emiliano Martínez                Arsenal FC U21\n",
       "2                  Matt Macey                Arsenal FC U21\n",
       "3              William Saliba              AS Saint-Étienne\n",
       "4                    Sokratis             Borussia Dortmund\n",
       "5              Calum Chambers                Southampton FC\n",
       "6            Shkodran Mustafi                   Valencia CF\n",
       "7                  David Luiz                    Chelsea FC\n",
       "8                 Rob Holding              Bolton Wanderers\n",
       "9                  Pablo Marí  Clube de Regatas do Flamengo\n",
       "10             Kieran Tierney                     Celtic FC\n",
       "11             Sead Kolasinac                 FC Schalke 04\n",
       "12            Héctor Bellerín                Arsenal FC U21\n",
       "13     Ainsley Maitland-Niles                Arsenal FC U23\n",
       "14              Cédric Soares                Southampton FC\n",
       "15             Lucas Torreira                  UC Sampdoria\n",
       "16               Granit Xhaka      Borussia Mönchengladbach\n",
       "17           Mattéo Guendouzi                    FC Lorient\n",
       "18              Dani Ceballos                   Real Madrid\n",
       "19                Joe Willock                Arsenal FC U23\n",
       "20                 Mesut Özil                   Real Madrid\n",
       "21         Gabriel Martinelli     Ituano Futebol Clube (SP)\n",
       "22                Bukayo Saka                Arsenal FC U23\n",
       "23               Nicolas Pépé                    LOSC Lille\n",
       "24               Reiss Nelson                Arsenal FC U23\n",
       "25  Pierre-Emerick Aubameyang             Borussia Dortmund\n",
       "26        Alexandre Lacazette                Olympique Lyon\n",
       "27              Eddie Nketiah                Arsenal FC U23"
      ]
     },
     "execution_count": 4,
     "metadata": {},
     "output_type": "execute_result"
    }
   ],
   "source": [
    "ars"
   ]
  },
  {
   "cell_type": "code",
   "execution_count": null,
   "metadata": {},
   "outputs": [],
   "source": [
    "data.sort_values('Min', inplace = True)"
   ]
  },
  {
   "cell_type": "code",
   "execution_count": 6,
   "metadata": {},
   "outputs": [],
   "source": [
    "ars.sort_values('Min', inplace = True)\n",
    "ast.sort_values('Min', inplace = True)"
   ]
  },
  {
   "cell_type": "code",
   "execution_count": null,
   "metadata": {},
   "outputs": [],
   "source": [
    "data"
   ]
  },
  {
   "cell_type": "code",
   "execution_count": null,
   "metadata": {},
   "outputs": [],
   "source": [
    "data.dtypes"
   ]
  },
  {
   "cell_type": "code",
   "execution_count": 7,
   "metadata": {},
   "outputs": [],
   "source": [
    "ars[\"homegrown\"] = ars.sign_from.apply(lambda x: \"Arsenal\" if \"Arsenal\" in x else \"Other\")\n",
    "ast[\"homegrown\"] = ast.sign_from.apply(lambda x: \"Aston Villa\" if \"Aston Villa\" in x else \"Other\")"
   ]
  },
  {
   "cell_type": "code",
   "execution_count": null,
   "metadata": {},
   "outputs": [],
   "source": [
    "data"
   ]
  },
  {
   "cell_type": "code",
   "execution_count": 8,
   "metadata": {},
   "outputs": [],
   "source": [
    "# Sort by multiple columns.\n",
    "ars = ars.sort_values(['homegrown', 'Min'], ascending = [False, True])\n",
    "ast = ast.sort_values(['homegrown', 'Min'], ascending = [False, True])"
   ]
  },
  {
   "cell_type": "code",
   "execution_count": 9,
   "metadata": {},
   "outputs": [],
   "source": [
    "#Utilise matplotlib to scale our goal numbers between the min and max, then assign this scale to our values.\n",
    "norm = matplotlib.colors.Normalize(vmin=min(ars.Min), vmax=max(ars.Min))\n",
    "colors1 = [matplotlib.cm.Blues(norm(value)) for value in ars.Min]"
   ]
  },
  {
   "cell_type": "code",
   "execution_count": 10,
   "metadata": {},
   "outputs": [],
   "source": [
    "#Utilise matplotlib to scale our goal numbers between the min and max, then assign this scale to our values.\n",
    "norm = matplotlib.colors.Normalize(vmin=min(ast.Min), vmax=max(ast.Min))\n",
    "colors2 = [matplotlib.cm.Blues(norm(value)) for value in ast.Min]\n",
    "\n"
   ]
  },
  {
   "cell_type": "code",
   "execution_count": null,
   "metadata": {},
   "outputs": [],
   "source": [
    "fig = plt.gcf()\n",
    "ax = fig.add_subplot()\n",
    "fig.set_size_inches(6, 6)\n",
    "\n",
    "colors_1 = {'Other':'#66FF00', 'Arsenal':'#f85159'}\n",
    "\n",
    "squarify.plot(label=data.player,sizes=data.Min, color = data['homegrown'].apply(lambda x: colors_1[x]),\n",
    "              alpha=.6, edgecolor='#181818', lw=5)\n",
    "\n",
    "#Remove our axes and display the plot\n",
    "plt.axis('off');\n",
    "# plt.title(\"Man City Goals\",fontsize=23,fontweight=\"bold\")"
   ]
  },
  {
   "cell_type": "code",
   "execution_count": 54,
   "metadata": {},
   "outputs": [
    {
     "data": {
      "image/png": "[encoded data removed]",
      "text/plain": [
       "<Figure size 576x576 with 4 Axes>"
      ]
     },
     "metadata": {
      "needs_background": "light"
     },
     "output_type": "display_data"
    }
   ],
   "source": [
    "fig, axarr = plt.subplots(2,2, figsize=(8,8))\n",
    "\n",
    "colors_1 = {'Other':'red', 'Arsenal':'blue'}\n",
    "colors_2 = {'Other':'red', 'Aston Villa':'blue'}\n",
    "\n",
    "plt.sca(axarr[0,0])\n",
    "squarify.plot(label=ars.player,sizes=ars.Min, color = ars['homegrown'].apply(lambda x: colors_1[x]),\n",
    "              alpha=.6, edgecolor='#181818', lw=1)\n",
    "\n",
    "plt.sca(axarr[0,1])\n",
    "squarify.plot(sizes=ast.Min, color = ast['homegrown'].apply(lambda x: colors_2[x]),\n",
    "              alpha=.6, edgecolor='#181818', lw=5)\n",
    "\n",
    "plt.axis('off');"
   ]
  },
  {
   "cell_type": "code",
   "execution_count": null,
   "metadata": {},
   "outputs": [],
   "source": []
  }
 ],
 "metadata": {
  "kernelspec": {
   "display_name": "Python 3",
   "language": "python",
   "name": "python3"
  },
  "language_info": {
   "codemirror_mode": {
    "name": "ipython",
    "version": 3
   },
   "file_extension": ".py",
   "mimetype": "text/x-python",
   "name": "python",
   "nbconvert_exporter": "python",
   "pygments_lexer": "ipython3",
   "version": "3.7.7"
  }
 },
 "nbformat": 4,
 "nbformat_minor": 4
}
